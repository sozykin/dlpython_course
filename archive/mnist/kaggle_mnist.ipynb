{
 "cells": [
  {
   "cell_type": "markdown",
   "metadata": {
    "colab_type": "text",
    "id": "Ah7dy1kFL2H9"
   },
   "source": [
    "# Соревнования по распознаванию рукописных цифр на Kaggle\n",
    "\n",
    "Пример кода для отправки решения в соревнование Kaggle - https://www.kaggle.com/c/digit-recognizer\n",
    "\n",
    "Учебный курс \"[Программирование глубоких нейронных сетей на Python](https://www.asozykin.ru/courses/nnpython)\"."
   ]
  },
  {
   "cell_type": "code",
   "execution_count": null,
   "metadata": {
    "colab": {},
    "colab_type": "code",
    "id": "qrfd6FzSLrE2"
   },
   "outputs": [],
   "source": [
    "from tensorflow.keras.models import Sequential\n",
    "from tensorflow.keras.layers import Dense, Conv2D, MaxPooling2D, Dropout, Flatten \n",
    "from tensorflow.keras import utils\n",
    "from tensorflow.keras.preprocessing import image\n",
    "from tensorflow.python.keras.preprocessing.image import ImageDataGenerator\n",
    "from tensorflow.keras.callbacks import ReduceLROnPlateau, ModelCheckpoint\n",
    "import tensorflow as tf\n",
    "from sklearn.model_selection import train_test_split\n",
    "import numpy as np\n",
    "import matplotlib.pyplot as plt\n",
    "%matplotlib inline "
   ]
  },
  {
   "cell_type": "markdown",
   "metadata": {
    "colab_type": "text",
    "id": "xiurjCBVMDTG"
   },
   "source": [
    "## Подготовка данных для обучения сети"
   ]
  },
  {
   "cell_type": "markdown",
   "metadata": {
    "colab_type": "text",
    "id": "1yDF75Cx8VPz"
   },
   "source": [
    "Загружаем данные для обучения из файла"
   ]
  },
  {
   "cell_type": "code",
   "execution_count": null,
   "metadata": {
    "colab": {},
    "colab_type": "code",
    "id": "E5L3LUIi8PDV"
   },
   "outputs": [],
   "source": [
    "train_dataset = np.loadtxt('train.csv', skiprows=1, delimiter=',')"
   ]
  },
  {
   "cell_type": "code",
   "execution_count": null,
   "metadata": {
    "colab": {
     "base_uri": "https://localhost:8080/",
     "height": 103
    },
    "colab_type": "code",
    "executionInfo": {
     "elapsed": 1097,
     "status": "ok",
     "timestamp": 1547787096159,
     "user": {
      "displayName": "Andrey Sozykin",
      "photoUrl": "https://lh5.googleusercontent.com/-ErNH158Vx74/AAAAAAAAAAI/AAAAAAAAALA/FLh7rOkXgJs/s64/photo.jpg",
      "userId": "18170979864079203851"
     },
     "user_tz": -300
    },
    "id": "0772VOME9vW_",
    "outputId": "51b20b55-48d8-4797-8d02-de32aea558d6"
   },
   "outputs": [],
   "source": [
    "train_dataset[0:5]"
   ]
  },
  {
   "cell_type": "markdown",
   "metadata": {
    "colab_type": "text",
    "id": "X2lqS46w-Jmg"
   },
   "source": [
    "Выделяем данные для обучения"
   ]
  },
  {
   "cell_type": "code",
   "execution_count": null,
   "metadata": {
    "colab": {},
    "colab_type": "code",
    "id": "f5-5e_kj-GS5"
   },
   "outputs": [],
   "source": [
    "x_train = train_dataset[:, 1:]\n",
    "# Переформатируем данные в 2D, бэкенд TensorFlow\n",
    "x_train = x_train.reshape(x_train.shape[0], 28, 28, 1)\n",
    "input_shape = (28, 28, 1)"
   ]
  },
  {
   "cell_type": "markdown",
   "metadata": {
    "colab_type": "text",
    "id": "DJWn7fI_AB4X"
   },
   "source": [
    "Нормализуем данные для обучения"
   ]
  },
  {
   "cell_type": "code",
   "execution_count": null,
   "metadata": {
    "colab": {},
    "colab_type": "code",
    "id": "ga0DtPJQVkEh"
   },
   "outputs": [],
   "source": [
    "x_train /= 255.0"
   ]
  },
  {
   "cell_type": "code",
   "execution_count": null,
   "metadata": {
    "colab": {},
    "colab_type": "code",
    "id": "IW7rhFNSAGIC"
   },
   "outputs": [],
   "source": [
    "x_train[1].shape"
   ]
  },
  {
   "cell_type": "markdown",
   "metadata": {
    "colab_type": "text",
    "id": "OKNJl1jZ_9Nw"
   },
   "source": [
    "Выделяем правильные ответы"
   ]
  },
  {
   "cell_type": "code",
   "execution_count": null,
   "metadata": {
    "colab": {},
    "colab_type": "code",
    "id": "sjO-WFM0AnJI"
   },
   "outputs": [],
   "source": [
    "y_train = train_dataset[:, 0]"
   ]
  },
  {
   "cell_type": "code",
   "execution_count": null,
   "metadata": {
    "colab": {
     "base_uri": "https://localhost:8080/",
     "height": 34
    },
    "colab_type": "code",
    "executionInfo": {
     "elapsed": 1065,
     "status": "ok",
     "timestamp": 1547787160702,
     "user": {
      "displayName": "Andrey Sozykin",
      "photoUrl": "https://lh5.googleusercontent.com/-ErNH158Vx74/AAAAAAAAAAI/AAAAAAAAALA/FLh7rOkXgJs/s64/photo.jpg",
      "userId": "18170979864079203851"
     },
     "user_tz": -300
    },
    "id": "_nsLwMHuGnHI",
    "outputId": "cf0db3ef-2d33-4e2c-b93a-0f0750d7fc78"
   },
   "outputs": [],
   "source": [
    "y_train[:5]"
   ]
  },
  {
   "cell_type": "markdown",
   "metadata": {
    "colab_type": "text",
    "id": "aL0ZROTZApoR"
   },
   "source": [
    "Преобразуем ответы в формат one hot encoding"
   ]
  },
  {
   "cell_type": "code",
   "execution_count": null,
   "metadata": {
    "colab": {},
    "colab_type": "code",
    "id": "yQZ2utqhAutw"
   },
   "outputs": [],
   "source": [
    "y_train = utils.to_categorical(y_train)"
   ]
  },
  {
   "cell_type": "code",
   "execution_count": null,
   "metadata": {
    "colab": {
     "base_uri": "https://localhost:8080/",
     "height": 103
    },
    "colab_type": "code",
    "executionInfo": {
     "elapsed": 1056,
     "status": "ok",
     "timestamp": 1547787177517,
     "user": {
      "displayName": "Andrey Sozykin",
      "photoUrl": "https://lh5.googleusercontent.com/-ErNH158Vx74/AAAAAAAAAAI/AAAAAAAAALA/FLh7rOkXgJs/s64/photo.jpg",
      "userId": "18170979864079203851"
     },
     "user_tz": -300
    },
    "id": "wWlQHgMkA_BQ",
    "outputId": "224d07fc-8db2-4702-966e-b915a74708bb"
   },
   "outputs": [],
   "source": [
    "y_train[:5]"
   ]
  },
  {
   "cell_type": "code",
   "execution_count": null,
   "metadata": {
    "colab": {},
    "colab_type": "code",
    "id": "UjEDV7gSrthA"
   },
   "outputs": [],
   "source": [
    "random_seed = 2\n",
    "X_train, X_val, Y_train, Y_val = train_test_split(x_train, y_train, test_size = 0.1, random_state=random_seed)"
   ]
  },
  {
   "cell_type": "code",
   "execution_count": null,
   "metadata": {
    "colab": {
     "base_uri": "https://localhost:8080/",
     "height": 34
    },
    "colab_type": "code",
    "executionInfo": {
     "elapsed": 1071,
     "status": "ok",
     "timestamp": 1547787276576,
     "user": {
      "displayName": "Andrey Sozykin",
      "photoUrl": "https://lh5.googleusercontent.com/-ErNH158Vx74/AAAAAAAAAAI/AAAAAAAAALA/FLh7rOkXgJs/s64/photo.jpg",
      "userId": "18170979864079203851"
     },
     "user_tz": -300
    },
    "id": "LJgbvHFTT2g7",
    "outputId": "60d3ccce-ffda-4057-d8d4-224f32b1310c"
   },
   "outputs": [],
   "source": [
    "X_train.shape"
   ]
  },
  {
   "cell_type": "markdown",
   "metadata": {
    "colab_type": "text",
    "id": "RevEe2W06jVq"
   },
   "source": [
    "Создаем генератор для расширения данных"
   ]
  },
  {
   "cell_type": "code",
   "execution_count": null,
   "metadata": {
    "colab": {},
    "colab_type": "code",
    "id": "pPy-7W7DqE9w"
   },
   "outputs": [],
   "source": [
    "datagen = ImageDataGenerator(\n",
    "        rotation_range=10,  \n",
    "        zoom_range = 0.10,  \n",
    "        width_shift_range=0.1, \n",
    "        height_shift_range=0.1)"
   ]
  },
  {
   "cell_type": "code",
   "execution_count": null,
   "metadata": {
    "colab": {
     "base_uri": "https://localhost:8080/",
     "height": 1505
    },
    "colab_type": "code",
    "executionInfo": {
     "elapsed": 1915,
     "status": "ok",
     "timestamp": 1547787348113,
     "user": {
      "displayName": "Andrey Sozykin",
      "photoUrl": "https://lh5.googleusercontent.com/-ErNH158Vx74/AAAAAAAAAAI/AAAAAAAAALA/FLh7rOkXgJs/s64/photo.jpg",
      "userId": "18170979864079203851"
     },
     "user_tz": -300
    },
    "id": "CjffjIEa67rK",
    "outputId": "cfd7a522-29ef-4be2-eb4e-f0baf12dfc02"
   },
   "outputs": [],
   "source": [
    "i = 0\n",
    "data = X_train[0]\n",
    "data = np.expand_dims(data, axis=0)\n",
    "for batch in datagen.flow(data, batch_size=1):\n",
    "    plt.figure(i)\n",
    "    imgplot = plt.imshow(batch[0][:,:,0])\n",
    "    i += 1\n",
    "    if i % 6 == 0:\n",
    "        break\n",
    "plt.show()"
   ]
  },
  {
   "cell_type": "markdown",
   "metadata": {
    "colab_type": "text",
    "id": "BmTr_lXTKNbN"
   },
   "source": [
    "## Создаем нейронную сеть"
   ]
  },
  {
   "cell_type": "markdown",
   "metadata": {
    "colab_type": "text",
    "id": "fV_igNZuMNXe"
   },
   "source": [
    "**Создаем последовательную модель**"
   ]
  },
  {
   "cell_type": "code",
   "execution_count": null,
   "metadata": {
    "colab": {},
    "colab_type": "code",
    "id": "YvRM8hR06iUt"
   },
   "outputs": [],
   "source": [
    "model = Sequential()\n",
    "\n",
    "model.add(Conv2D(filters = 32, kernel_size = (5,5),padding = 'Same', \n",
    "                 activation ='relu', input_shape = (28,28,1)))\n",
    "model.add(Conv2D(filters = 32, kernel_size = (5,5),padding = 'Same', \n",
    "                 activation ='relu'))\n",
    "model.add(MaxPooling2D(pool_size=(2,2)))\n",
    "model.add(Dropout(0.25))\n",
    "\n",
    "\n",
    "model.add(Conv2D(filters = 64, kernel_size = (3,3),padding = 'Same', \n",
    "                 activation ='relu'))\n",
    "model.add(Conv2D(filters = 64, kernel_size = (3,3),padding = 'Same', \n",
    "                 activation ='relu'))\n",
    "model.add(MaxPooling2D(pool_size=(2,2), strides=(2,2)))\n",
    "model.add(Dropout(0.25))\n",
    "\n",
    "model.add(Flatten())\n",
    "model.add(Dense(256, activation = \"relu\"))\n",
    "model.add(Dropout(0.5))\n",
    "model.add(Dense(10, activation = \"softmax\"))"
   ]
  },
  {
   "cell_type": "markdown",
   "metadata": {
    "colab_type": "text",
    "id": "G__m76T-KWhd"
   },
   "source": [
    "**Компилируем сеть**"
   ]
  },
  {
   "cell_type": "code",
   "execution_count": null,
   "metadata": {
    "colab": {
     "base_uri": "https://localhost:8080/",
     "height": 566
    },
    "colab_type": "code",
    "executionInfo": {
     "elapsed": 1063,
     "status": "ok",
     "timestamp": 1547787516237,
     "user": {
      "displayName": "Andrey Sozykin",
      "photoUrl": "https://lh5.googleusercontent.com/-ErNH158Vx74/AAAAAAAAAAI/AAAAAAAAALA/FLh7rOkXgJs/s64/photo.jpg",
      "userId": "18170979864079203851"
     },
     "user_tz": -300
    },
    "id": "PTcbSxchKZjd",
    "outputId": "ba181aa7-d4e6-4bc1-cc76-8e1b18defc45"
   },
   "outputs": [],
   "source": [
    "model.compile(loss=\"categorical_crossentropy\", optimizer=\"adam\", metrics=[\"accuracy\"])\n",
    "\n",
    "print(model.summary())"
   ]
  },
  {
   "cell_type": "markdown",
   "metadata": {
    "colab_type": "text",
    "id": "lspCHiaCKl72"
   },
   "source": [
    "## Обучаем нейронную сеть"
   ]
  },
  {
   "cell_type": "code",
   "execution_count": null,
   "metadata": {
    "colab": {},
    "colab_type": "code",
    "id": "C3JnxgJMeKbn"
   },
   "outputs": [],
   "source": [
    "сheckpoint = ModelCheckpoint('mnist-cnn.hdf5', \n",
    "                              monitor='val_acc', \n",
    "                              save_best_only=True,\n",
    "                              verbose=1)"
   ]
  },
  {
   "cell_type": "code",
   "execution_count": null,
   "metadata": {
    "colab": {},
    "colab_type": "code",
    "id": "ZTRnbOV2dbfA"
   },
   "outputs": [],
   "source": [
    "learning_rate_reduction = ReduceLROnPlateau(monitor='val_acc', \n",
    "                                            patience=3, \n",
    "                                            verbose=1, \n",
    "                                            factor=0.5, \n",
    "                                            min_lr=0.00001)"
   ]
  },
  {
   "cell_type": "code",
   "execution_count": null,
   "metadata": {
    "colab": {},
    "colab_type": "code",
    "id": "bldCePr5sUYg"
   },
   "outputs": [],
   "source": [
    "batch_size=96"
   ]
  },
  {
   "cell_type": "code",
   "execution_count": null,
   "metadata": {
    "colab": {
     "base_uri": "https://localhost:8080/",
     "height": 2211
    },
    "colab_type": "code",
    "executionInfo": {
     "elapsed": 426371,
     "status": "ok",
     "timestamp": 1547788175847,
     "user": {
      "displayName": "Andrey Sozykin",
      "photoUrl": "https://lh5.googleusercontent.com/-ErNH158Vx74/AAAAAAAAAAI/AAAAAAAAALA/FLh7rOkXgJs/s64/photo.jpg",
      "userId": "18170979864079203851"
     },
     "user_tz": -300
    },
    "id": "H6EIXu1dKoju",
    "outputId": "5abd10d9-5fc0-4784-a87f-0b7f8406a8ad"
   },
   "outputs": [],
   "source": [
    "history = model.fit(datagen.flow(X_train,Y_train, batch_size=batch_size), \n",
    "                    epochs=30,\n",
    "                    validation_data=(X_val, Y_val),\n",
    "                    steps_per_epoch=X_train.shape[0] // batch_size,\n",
    "                    verbose=1,\n",
    "                    callbacks=[сheckpoint, learning_rate_reduction])"
   ]
  },
  {
   "cell_type": "code",
   "execution_count": null,
   "metadata": {
    "colab": {},
    "colab_type": "code",
    "id": "miePM2tefyzO"
   },
   "outputs": [],
   "source": [
    "model.load_weights('mnist-cnn.hdf5')"
   ]
  },
  {
   "cell_type": "markdown",
   "metadata": {
    "colab_type": "text",
    "id": "wYhse8xmmdS5"
   },
   "source": [
    "## Визуализация качества обучения\n"
   ]
  },
  {
   "cell_type": "code",
   "execution_count": null,
   "metadata": {
    "colab": {
     "base_uri": "https://localhost:8080/",
     "height": 280
    },
    "colab_type": "code",
    "executionInfo": {
     "elapsed": 944,
     "status": "ok",
     "timestamp": 1547788468763,
     "user": {
      "displayName": "Andrey Sozykin",
      "photoUrl": "https://lh5.googleusercontent.com/-ErNH158Vx74/AAAAAAAAAAI/AAAAAAAAALA/FLh7rOkXgJs/s64/photo.jpg",
      "userId": "18170979864079203851"
     },
     "user_tz": -300
    },
    "id": "ty0iVxcXmgHt",
    "outputId": "1500186c-ef42-43e0-cd46-5147dec98870"
   },
   "outputs": [],
   "source": [
    "plt.plot(history.history['acc'], \n",
    "         label='Доля верных ответов на обучающем наборе')\n",
    "plt.plot(history.history['val_acc'], \n",
    "         label='Доля верных ответов на проверочном наборе')\n",
    "plt.xlabel('Эпоха обучения')\n",
    "plt.ylabel('Доля верных ответов')\n",
    "plt.legend()\n",
    "plt.show()"
   ]
  },
  {
   "cell_type": "markdown",
   "metadata": {
    "colab_type": "text",
    "id": "_rQbSXc0CwSQ"
   },
   "source": [
    "## Загружаем данные для распознавания"
   ]
  },
  {
   "cell_type": "code",
   "execution_count": null,
   "metadata": {
    "colab": {},
    "colab_type": "code",
    "id": "lw4F0rCbC0HA"
   },
   "outputs": [],
   "source": [
    "test_dataset = np.loadtxt('test.csv', skiprows=1, delimiter=\",\")"
   ]
  },
  {
   "cell_type": "code",
   "execution_count": null,
   "metadata": {
    "colab": {
     "base_uri": "https://localhost:8080/",
     "height": 103
    },
    "colab_type": "code",
    "executionInfo": {
     "elapsed": 1393,
     "status": "ok",
     "timestamp": 1547788543494,
     "user": {
      "displayName": "Andrey Sozykin",
      "photoUrl": "https://lh5.googleusercontent.com/-ErNH158Vx74/AAAAAAAAAAI/AAAAAAAAALA/FLh7rOkXgJs/s64/photo.jpg",
      "userId": "18170979864079203851"
     },
     "user_tz": -300
    },
    "id": "-Qaa-wwCDJxQ",
    "outputId": "5a332784-11f0-4af1-9638-d5601a3f3e23"
   },
   "outputs": [],
   "source": [
    "test_dataset[:5]"
   ]
  },
  {
   "cell_type": "code",
   "execution_count": null,
   "metadata": {
    "colab": {},
    "colab_type": "code",
    "id": "KtCMLgC7Y53H"
   },
   "outputs": [],
   "source": [
    "x_test = test_dataset.reshape(test_dataset.shape[0], 28, 28, 1)"
   ]
  },
  {
   "cell_type": "markdown",
   "metadata": {
    "colab_type": "text",
    "id": "2edLWqi-DV8v"
   },
   "source": [
    "Нормализация данных"
   ]
  },
  {
   "cell_type": "code",
   "execution_count": null,
   "metadata": {
    "colab": {},
    "colab_type": "code",
    "id": "lKKDMHoCDYKH"
   },
   "outputs": [],
   "source": [
    "x_test = x_test / 255.0"
   ]
  },
  {
   "cell_type": "markdown",
   "metadata": {
    "colab_type": "text",
    "id": "nCDrYOZVD8LS"
   },
   "source": [
    "## Запускаем распознавание рукописных цифр из тестового набора данных"
   ]
  },
  {
   "cell_type": "code",
   "execution_count": null,
   "metadata": {
    "colab": {},
    "colab_type": "code",
    "id": "hkGx6etOEHW3"
   },
   "outputs": [],
   "source": [
    "predictions = model.predict(x_test)"
   ]
  },
  {
   "cell_type": "code",
   "execution_count": null,
   "metadata": {
    "colab": {
     "base_uri": "https://localhost:8080/",
     "height": 274
    },
    "colab_type": "code",
    "executionInfo": {
     "elapsed": 785,
     "status": "ok",
     "timestamp": 1547788601534,
     "user": {
      "displayName": "Andrey Sozykin",
      "photoUrl": "https://lh5.googleusercontent.com/-ErNH158Vx74/AAAAAAAAAAI/AAAAAAAAALA/FLh7rOkXgJs/s64/photo.jpg",
      "userId": "18170979864079203851"
     },
     "user_tz": -300
    },
    "id": "KpjMktszEOHX",
    "outputId": "e2c8f7dd-9edc-425a-8cd8-215932f47fb7"
   },
   "outputs": [],
   "source": [
    "predictions[:5]"
   ]
  },
  {
   "cell_type": "markdown",
   "metadata": {
    "colab_type": "text",
    "id": "hxmUUZFeES83"
   },
   "source": [
    "Преобразуем результаты распознавания из формата one hot encoding в цифры"
   ]
  },
  {
   "cell_type": "code",
   "execution_count": null,
   "metadata": {
    "colab": {},
    "colab_type": "code",
    "id": "9zXRff8tEZcw"
   },
   "outputs": [],
   "source": [
    "predictions = np.argmax(predictions, axis=1)"
   ]
  },
  {
   "cell_type": "code",
   "execution_count": null,
   "metadata": {
    "colab": {
     "base_uri": "https://localhost:8080/",
     "height": 34
    },
    "colab_type": "code",
    "executionInfo": {
     "elapsed": 1060,
     "status": "ok",
     "timestamp": 1547788643160,
     "user": {
      "displayName": "Andrey Sozykin",
      "photoUrl": "https://lh5.googleusercontent.com/-ErNH158Vx74/AAAAAAAAAAI/AAAAAAAAALA/FLh7rOkXgJs/s64/photo.jpg",
      "userId": "18170979864079203851"
     },
     "user_tz": -300
    },
    "id": "I4JBXf1lEev6",
    "outputId": "e92a4fb4-0ce9-4169-84d5-9ea20a6fd02e"
   },
   "outputs": [],
   "source": [
    "predictions[:5]"
   ]
  },
  {
   "cell_type": "markdown",
   "metadata": {
    "colab_type": "text",
    "id": "xYh4TAz4Ei3p"
   },
   "source": [
    "## Готовим файл с решением для Kaggle"
   ]
  },
  {
   "cell_type": "code",
   "execution_count": null,
   "metadata": {
    "colab": {},
    "colab_type": "code",
    "id": "ciJZLp7uEn5p"
   },
   "outputs": [],
   "source": [
    "out = np.column_stack((range(1, predictions.shape[0]+1), predictions))"
   ]
  },
  {
   "cell_type": "code",
   "execution_count": null,
   "metadata": {
    "colab": {
     "base_uri": "https://localhost:8080/",
     "height": 103
    },
    "colab_type": "code",
    "executionInfo": {
     "elapsed": 797,
     "status": "ok",
     "timestamp": 1547788707333,
     "user": {
      "displayName": "Andrey Sozykin",
      "photoUrl": "https://lh5.googleusercontent.com/-ErNH158Vx74/AAAAAAAAAAI/AAAAAAAAALA/FLh7rOkXgJs/s64/photo.jpg",
      "userId": "18170979864079203851"
     },
     "user_tz": -300
    },
    "id": "fbtqv-c7FH8S",
    "outputId": "50b24ff9-2e5e-4eed-8ea4-740bceb40f5f"
   },
   "outputs": [],
   "source": [
    "out[:5]"
   ]
  },
  {
   "cell_type": "markdown",
   "metadata": {
    "colab_type": "text",
    "id": "Njg9BTZUFSDx"
   },
   "source": [
    "Записываем результаты в файл "
   ]
  },
  {
   "cell_type": "code",
   "execution_count": null,
   "metadata": {
    "colab": {},
    "colab_type": "code",
    "id": "aub5ObF2FUmy"
   },
   "outputs": [],
   "source": [
    "np.savetxt('submission.csv', out, header=\"ImageId,Label\", \n",
    "            comments=\"\", fmt=\"%d,%d\")"
   ]
  },
  {
   "cell_type": "markdown",
   "metadata": {},
   "source": [
    "Файл `submission.csv` нужно загрузить на [Kaggle](https://www.kaggle.com/c/digit-recognizer/submit) в качестве решения."
   ]
  }
 ],
 "metadata": {
  "accelerator": "GPU",
  "colab": {
   "collapsed_sections": [
    "xiurjCBVMDTG",
    "BmTr_lXTKNbN",
    "lspCHiaCKl72",
    "wYhse8xmmdS5",
    "_rQbSXc0CwSQ",
    "nCDrYOZVD8LS",
    "xYh4TAz4Ei3p",
    "RTk-9CAxF0_5"
   ],
   "name": "kaggle_mnist.ipynb",
   "provenance": [
    {
     "file_id": "18Nfo1JP99AMuCYHdg2SLJG1iWS4GlyAp",
     "timestamp": 1546577675235
    },
    {
     "file_id": "1Qsy-mZijkJ5aukCpbIA6EKMjh34N3eUl",
     "timestamp": 1540277219658
    },
    {
     "file_id": "1QUcEJIQvqkOc3_WSr_dW2IZJztrnbhM8",
     "timestamp": 1540275088158
    },
    {
     "file_id": "1VeEeArZAekRLCx2AwZw1v9_FyA58gaaR",
     "timestamp": 1539495702856
    }
   ],
   "version": "0.3.2"
  },
  "kernelspec": {
   "display_name": "Python 3",
   "language": "python",
   "name": "python3"
  },
  "language_info": {
   "codemirror_mode": {
    "name": "ipython",
    "version": 3
   },
   "file_extension": ".py",
   "mimetype": "text/x-python",
   "name": "python",
   "nbconvert_exporter": "python",
   "pygments_lexer": "ipython3",
   "version": "3.6.5"
  }
 },
 "nbformat": 4,
 "nbformat_minor": 1
}
