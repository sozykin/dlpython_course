{
 "cells": [
  {
   "cell_type": "code",
   "execution_count": 1,
   "metadata": {},
   "outputs": [
    {
     "name": "stderr",
     "output_type": "stream",
     "text": [
      "Using TensorFlow backend.\n"
     ]
    }
   ],
   "source": [
    "from keras.datasets import boston_housing\n",
    "from keras.models import Sequential\n",
    "from keras.layers import Dense"
   ]
  },
  {
   "cell_type": "markdown",
   "metadata": {},
   "source": [
    "# Загрузка набора данных"
   ]
  },
  {
   "cell_type": "code",
   "execution_count": 2,
   "metadata": {},
   "outputs": [
    {
     "name": "stdout",
     "output_type": "stream",
     "text": [
      "A local file was found, but it seems to be incomplete or outdated because the auto file hash does not match the original value of f553886a1f8d56431e820c5b82552d9d95cfcb96d1e678153f8839538947dff5 so we will re-download the data.\n",
      "Downloading data from https://s3.amazonaws.com/keras-datasets/boston_housing.npz\n",
      "24576/57026 [===========>..................] - ETA: 0s"
     ]
    }
   ],
   "source": [
    "(x_train, y_train), (x_test, y_test) = boston_housing.load_data()"
   ]
  },
  {
   "cell_type": "markdown",
   "metadata": {},
   "source": [
    "# Нормализация данных\n",
    "\n",
    "Вычитаем среднее значение и делим на стандартное отклонение"
   ]
  },
  {
   "cell_type": "code",
   "execution_count": 3,
   "metadata": {
    "collapsed": true
   },
   "outputs": [],
   "source": [
    "# Среднее значение\n",
    "mean = x_train.mean(axis=0)\n",
    "# Стандартное отклонение\n",
    "std = x_train.std(axis=0)\n",
    "x_train -= mean\n",
    "x_train /= std\n",
    "x_test -= mean\n",
    "x_test /= std"
   ]
  },
  {
   "cell_type": "markdown",
   "metadata": {},
   "source": [
    "# Создаем сеть\n",
    "\n",
    "Выходной слой с одним линейным нейроном - для задачи регрессии функция активации не используется.\n",
    "\n",
    "Функция ошибки - среднеквадратичное отклонение.\n",
    "Метрика - среднее абсолютное отклонение."
   ]
  },
  {
   "cell_type": "code",
   "execution_count": 4,
   "metadata": {
    "collapsed": true
   },
   "outputs": [],
   "source": [
    "model = Sequential()\n",
    "model.add(Dense(128, activation='relu', input_shape=(x_train.shape[1],)))\n",
    "model.add(Dense(1))\n",
    "model.compile(optimizer='adam', loss='mse', metrics=['mae'])"
   ]
  },
  {
   "cell_type": "markdown",
   "metadata": {},
   "source": [
    "# Обучение сети"
   ]
  },
  {
   "cell_type": "code",
   "execution_count": 5,
   "metadata": {},
   "outputs": [
    {
     "name": "stdout",
     "output_type": "stream",
     "text": [
      "Epoch 1/100\n",
      "1s - loss: 328.6315 - mean_absolute_error: 15.3529\n",
      "Epoch 2/100\n",
      "0s - loss: 42.3274 - mean_absolute_error: 4.3106\n",
      "Epoch 3/100\n",
      "0s - loss: 26.9893 - mean_absolute_error: 3.5307\n",
      "Epoch 4/100\n",
      "0s - loss: 22.3437 - mean_absolute_error: 3.2821\n",
      "Epoch 5/100\n",
      "0s - loss: 19.3855 - mean_absolute_error: 3.1117\n",
      "Epoch 6/100\n",
      "0s - loss: 16.8406 - mean_absolute_error: 2.9227\n",
      "Epoch 7/100\n",
      "0s - loss: 15.1896 - mean_absolute_error: 2.7458\n",
      "Epoch 8/100\n",
      "0s - loss: 13.4309 - mean_absolute_error: 2.5647\n",
      "Epoch 9/100\n",
      "0s - loss: 11.7554 - mean_absolute_error: 2.4100\n",
      "Epoch 10/100\n",
      "0s - loss: 11.3679 - mean_absolute_error: 2.3879\n",
      "Epoch 11/100\n",
      "0s - loss: 10.8189 - mean_absolute_error: 2.2912\n",
      "Epoch 12/100\n",
      "0s - loss: 10.1628 - mean_absolute_error: 2.2133\n",
      "Epoch 13/100\n",
      "0s - loss: 9.6705 - mean_absolute_error: 2.1963\n",
      "Epoch 14/100\n",
      "0s - loss: 9.6312 - mean_absolute_error: 2.1648\n",
      "Epoch 15/100\n",
      "0s - loss: 9.3351 - mean_absolute_error: 2.1392\n",
      "Epoch 16/100\n",
      "0s - loss: 9.3792 - mean_absolute_error: 2.1485\n",
      "Epoch 17/100\n",
      "0s - loss: 8.9312 - mean_absolute_error: 2.1610\n",
      "Epoch 18/100\n",
      "0s - loss: 8.6144 - mean_absolute_error: 2.0293\n",
      "Epoch 19/100\n",
      "0s - loss: 8.5386 - mean_absolute_error: 2.0529\n",
      "Epoch 20/100\n",
      "0s - loss: 8.1994 - mean_absolute_error: 2.0252\n",
      "Epoch 21/100\n",
      "0s - loss: 8.1366 - mean_absolute_error: 2.0079\n",
      "Epoch 22/100\n",
      "0s - loss: 8.1863 - mean_absolute_error: 1.9954\n",
      "Epoch 23/100\n",
      "0s - loss: 8.0197 - mean_absolute_error: 2.0068\n",
      "Epoch 24/100\n",
      "0s - loss: 7.8048 - mean_absolute_error: 1.9530\n",
      "Epoch 25/100\n",
      "0s - loss: 7.8090 - mean_absolute_error: 1.9663\n",
      "Epoch 26/100\n",
      "0s - loss: 7.4415 - mean_absolute_error: 1.9115\n",
      "Epoch 27/100\n",
      "0s - loss: 7.4642 - mean_absolute_error: 1.9406\n",
      "Epoch 28/100\n",
      "0s - loss: 7.6392 - mean_absolute_error: 1.9351\n",
      "Epoch 29/100\n",
      "0s - loss: 7.3125 - mean_absolute_error: 1.9099\n",
      "Epoch 30/100\n",
      "0s - loss: 7.1394 - mean_absolute_error: 1.8782\n",
      "Epoch 31/100\n",
      "0s - loss: 7.4377 - mean_absolute_error: 1.9145\n",
      "Epoch 32/100\n",
      "0s - loss: 7.0973 - mean_absolute_error: 1.8770\n",
      "Epoch 33/100\n",
      "0s - loss: 6.8600 - mean_absolute_error: 1.8702\n",
      "Epoch 34/100\n",
      "0s - loss: 6.9395 - mean_absolute_error: 1.8480\n",
      "Epoch 35/100\n",
      "0s - loss: 6.8583 - mean_absolute_error: 1.8736\n",
      "Epoch 36/100\n",
      "0s - loss: 6.8161 - mean_absolute_error: 1.8578\n",
      "Epoch 37/100\n",
      "0s - loss: 6.7855 - mean_absolute_error: 1.8425\n",
      "Epoch 38/100\n",
      "0s - loss: 6.5993 - mean_absolute_error: 1.8258\n",
      "Epoch 39/100\n",
      "0s - loss: 6.5670 - mean_absolute_error: 1.8141\n",
      "Epoch 40/100\n",
      "0s - loss: 6.3829 - mean_absolute_error: 1.7907\n",
      "Epoch 41/100\n",
      "0s - loss: 6.4429 - mean_absolute_error: 1.7861\n",
      "Epoch 42/100\n",
      "0s - loss: 6.3106 - mean_absolute_error: 1.7858\n",
      "Epoch 43/100\n",
      "0s - loss: 6.5535 - mean_absolute_error: 1.8285\n",
      "Epoch 44/100\n",
      "0s - loss: 6.2821 - mean_absolute_error: 1.7432\n",
      "Epoch 45/100\n",
      "0s - loss: 6.0909 - mean_absolute_error: 1.7561\n",
      "Epoch 46/100\n",
      "0s - loss: 6.1629 - mean_absolute_error: 1.7629\n",
      "Epoch 47/100\n",
      "0s - loss: 6.2084 - mean_absolute_error: 1.7639\n",
      "Epoch 48/100\n",
      "0s - loss: 6.1059 - mean_absolute_error: 1.7466\n",
      "Epoch 49/100\n",
      "0s - loss: 6.0540 - mean_absolute_error: 1.7296\n",
      "Epoch 50/100\n",
      "0s - loss: 6.0477 - mean_absolute_error: 1.7473\n",
      "Epoch 51/100\n",
      "0s - loss: 5.8137 - mean_absolute_error: 1.7052\n",
      "Epoch 52/100\n",
      "0s - loss: 5.8122 - mean_absolute_error: 1.7004\n",
      "Epoch 53/100\n",
      "0s - loss: 5.7135 - mean_absolute_error: 1.6773\n",
      "Epoch 54/100\n",
      "0s - loss: 5.6047 - mean_absolute_error: 1.6961\n",
      "Epoch 55/100\n",
      "0s - loss: 5.7845 - mean_absolute_error: 1.7044\n",
      "Epoch 56/100\n",
      "0s - loss: 5.6036 - mean_absolute_error: 1.6720\n",
      "Epoch 57/100\n",
      "0s - loss: 5.6934 - mean_absolute_error: 1.6519\n",
      "Epoch 58/100\n",
      "0s - loss: 5.5098 - mean_absolute_error: 1.6551\n",
      "Epoch 59/100\n",
      "0s - loss: 5.5409 - mean_absolute_error: 1.6573\n",
      "Epoch 60/100\n",
      "0s - loss: 5.6060 - mean_absolute_error: 1.6477\n",
      "Epoch 61/100\n",
      "0s - loss: 5.5413 - mean_absolute_error: 1.6680\n",
      "Epoch 62/100\n",
      "0s - loss: 5.4291 - mean_absolute_error: 1.6423\n",
      "Epoch 63/100\n",
      "0s - loss: 5.3309 - mean_absolute_error: 1.6401\n",
      "Epoch 64/100\n",
      "0s - loss: 5.3261 - mean_absolute_error: 1.6490\n",
      "Epoch 65/100\n",
      "0s - loss: 5.2310 - mean_absolute_error: 1.6030\n",
      "Epoch 66/100\n",
      "0s - loss: 5.4039 - mean_absolute_error: 1.6519\n",
      "Epoch 67/100\n",
      "0s - loss: 5.3121 - mean_absolute_error: 1.6531\n",
      "Epoch 68/100\n",
      "0s - loss: 5.2242 - mean_absolute_error: 1.6006\n",
      "Epoch 69/100\n",
      "0s - loss: 5.1300 - mean_absolute_error: 1.6224\n",
      "Epoch 70/100\n",
      "0s - loss: 4.9455 - mean_absolute_error: 1.5738\n",
      "Epoch 71/100\n",
      "0s - loss: 4.9550 - mean_absolute_error: 1.5498\n",
      "Epoch 72/100\n",
      "0s - loss: 4.8837 - mean_absolute_error: 1.5675\n",
      "Epoch 73/100\n",
      "0s - loss: 4.9159 - mean_absolute_error: 1.6116\n",
      "Epoch 74/100\n",
      "0s - loss: 4.7241 - mean_absolute_error: 1.5481\n",
      "Epoch 75/100\n",
      "0s - loss: 4.9084 - mean_absolute_error: 1.5654\n",
      "Epoch 76/100\n",
      "0s - loss: 4.9315 - mean_absolute_error: 1.6145\n",
      "Epoch 77/100\n",
      "0s - loss: 4.7111 - mean_absolute_error: 1.5042\n",
      "Epoch 78/100\n",
      "0s - loss: 4.7052 - mean_absolute_error: 1.5679\n",
      "Epoch 79/100\n",
      "0s - loss: 4.8266 - mean_absolute_error: 1.5949\n",
      "Epoch 80/100\n",
      "0s - loss: 4.5840 - mean_absolute_error: 1.4924\n",
      "Epoch 81/100\n",
      "0s - loss: 4.7988 - mean_absolute_error: 1.5527\n",
      "Epoch 82/100\n",
      "0s - loss: 4.6077 - mean_absolute_error: 1.5375\n",
      "Epoch 83/100\n",
      "0s - loss: 4.6714 - mean_absolute_error: 1.5266\n",
      "Epoch 84/100\n",
      "0s - loss: 4.6822 - mean_absolute_error: 1.5306\n",
      "Epoch 85/100\n",
      "0s - loss: 4.3916 - mean_absolute_error: 1.4755\n",
      "Epoch 86/100\n",
      "0s - loss: 4.6327 - mean_absolute_error: 1.5317\n",
      "Epoch 87/100\n",
      "0s - loss: 4.6433 - mean_absolute_error: 1.5232\n",
      "Epoch 88/100\n",
      "0s - loss: 4.5885 - mean_absolute_error: 1.4925\n",
      "Epoch 89/100\n",
      "0s - loss: 4.2768 - mean_absolute_error: 1.4501\n",
      "Epoch 90/100\n",
      "0s - loss: 4.4949 - mean_absolute_error: 1.4902\n",
      "Epoch 91/100\n",
      "0s - loss: 4.4147 - mean_absolute_error: 1.4854\n",
      "Epoch 92/100\n",
      "0s - loss: 4.4003 - mean_absolute_error: 1.4896\n",
      "Epoch 93/100\n",
      "0s - loss: 4.3069 - mean_absolute_error: 1.4614\n",
      "Epoch 94/100\n",
      "0s - loss: 4.2539 - mean_absolute_error: 1.4974\n",
      "Epoch 95/100\n",
      "0s - loss: 4.4245 - mean_absolute_error: 1.4779\n",
      "Epoch 96/100\n",
      "0s - loss: 4.1824 - mean_absolute_error: 1.4748\n",
      "Epoch 97/100\n",
      "0s - loss: 4.3015 - mean_absolute_error: 1.5055\n",
      "Epoch 98/100\n",
      "0s - loss: 4.1898 - mean_absolute_error: 1.4875\n",
      "Epoch 99/100\n",
      "0s - loss: 4.0751 - mean_absolute_error: 1.4277\n",
      "Epoch 100/100\n",
      "0s - loss: 4.0356 - mean_absolute_error: 1.3982\n"
     ]
    },
    {
     "data": {
      "text/plain": [
       "<keras.callbacks.History at 0x7fed60212ba8>"
      ]
     },
     "execution_count": 5,
     "metadata": {},
     "output_type": "execute_result"
    }
   ],
   "source": [
    "model.fit(x_train, y_train, epochs=100, batch_size=1, verbose=2)"
   ]
  },
  {
   "cell_type": "markdown",
   "metadata": {},
   "source": [
    "# Оценка точности работы сети"
   ]
  },
  {
   "cell_type": "code",
   "execution_count": 6,
   "metadata": {
    "collapsed": true
   },
   "outputs": [],
   "source": [
    "mse, mae = model.evaluate(x_test, y_test, verbose=0)"
   ]
  },
  {
   "cell_type": "code",
   "execution_count": 7,
   "metadata": {},
   "outputs": [
    {
     "name": "stdout",
     "output_type": "stream",
     "text": [
      "Средняя абсолютная ошибка (тысяч долларов): 2.24980488945\n"
     ]
    }
   ],
   "source": [
    "print(\"Средняя абсолютная ошибка (тысяч долларов):\", mae)"
   ]
  },
  {
   "cell_type": "markdown",
   "metadata": {},
   "source": [
    "# Использование сети для предсказания цен недвижимости"
   ]
  },
  {
   "cell_type": "code",
   "execution_count": 8,
   "metadata": {
    "collapsed": true
   },
   "outputs": [],
   "source": [
    "pred = model.predict(x_test)"
   ]
  },
  {
   "cell_type": "code",
   "execution_count": 9,
   "metadata": {},
   "outputs": [
    {
     "name": "stdout",
     "output_type": "stream",
     "text": [
      "Предсказанная стоимость: 18.0341 , правильная стоимость: 18.8\n"
     ]
    }
   ],
   "source": [
    "print(\"Предсказанная стоимость:\", pred[1][0], \", правильная стоимость:\", y_test[1])"
   ]
  },
  {
   "cell_type": "code",
   "execution_count": null,
   "metadata": {
    "collapsed": true
   },
   "outputs": [],
   "source": []
  }
 ],
 "metadata": {
  "kernelspec": {
   "display_name": "Python 3",
   "language": "python",
   "name": "python3"
  },
  "language_info": {
   "codemirror_mode": {
    "name": "ipython",
    "version": 3
   },
   "file_extension": ".py",
   "mimetype": "text/x-python",
   "name": "python",
   "nbconvert_exporter": "python",
   "pygments_lexer": "ipython3",
   "version": "3.6.1"
  }
 },
 "nbformat": 4,
 "nbformat_minor": 2
}
