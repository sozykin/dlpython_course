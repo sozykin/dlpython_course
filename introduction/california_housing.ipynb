{
 "cells": [
  {
   "cell_type": "markdown",
   "id": "aa63cc75",
   "metadata": {},
   "source": [
    "# Определение стоимости недвижимости из набора данных California Housing\n",
    "\n",
    "Чтобы запускать и редактировать код, сохраните копию этого ноутбука себе (File->Save a copy in Drive...). Свою копию вы сможете изменять и запускать.\n",
    "\n",
    "Учебный курс \"[Программирование глубоких нейронных сетей на Python](https://www.asozykin.ru/courses/nnpython)\".\n",
    "\n",
    "<a target=\"_blank\" href=\"https://colab.research.google.com/github/sozykin/dlpython_course/blob/master/introduction/california_housing.ipynb\">\n",
    "  <img src=\"https://colab.research.google.com/assets/colab-badge.svg\" alt=\"Open In Colab\"/>\n",
    "</a>\n"
   ]
  },
  {
   "cell_type": "code",
   "execution_count": 25,
   "id": "f875a87a",
   "metadata": {},
   "outputs": [],
   "source": [
    "from tensorflow.keras.datasets import california_housing\n",
    "from tensorflow.keras.models import Sequential\n",
    "from tensorflow.keras.layers import Dense\n",
    "import matplotlib.pyplot as plt"
   ]
  },
  {
   "cell_type": "markdown",
   "id": "63317eab",
   "metadata": {},
   "source": [
    "## Подготовка данных для обучения сети"
   ]
  },
  {
   "cell_type": "markdown",
   "id": "f9718c90",
   "metadata": {},
   "source": [
    "**Загружаем набор данных**"
   ]
  },
  {
   "cell_type": "code",
   "execution_count": 9,
   "id": "282d69ba",
   "metadata": {},
   "outputs": [],
   "source": [
    "# В Keras встроены средства работы с популярными наборами данных\n",
    "(train_data, train_targets), (test_data, test_targets) =  california_housing.load_data(version=\"large\")"
   ]
  },
  {
   "cell_type": "markdown",
   "id": "5c9bbae9",
   "metadata": {},
   "source": [
    "Размерность данных"
   ]
  },
  {
   "cell_type": "code",
   "execution_count": 10,
   "id": "7f9480fa",
   "metadata": {},
   "outputs": [
    {
     "data": {
      "text/plain": [
       "(16512, 8)"
      ]
     },
     "execution_count": 10,
     "metadata": {},
     "output_type": "execute_result"
    }
   ],
   "source": [
    "train_data.shape"
   ]
  },
  {
   "cell_type": "code",
   "execution_count": 11,
   "id": "80c429b7",
   "metadata": {},
   "outputs": [
    {
     "data": {
      "text/plain": [
       "(4128, 8)"
      ]
     },
     "execution_count": 11,
     "metadata": {},
     "output_type": "execute_result"
    }
   ],
   "source": [
    "test_data.shape"
   ]
  },
  {
   "cell_type": "markdown",
   "id": "a196fea6",
   "metadata": {},
   "source": [
    "Просматриваем данные"
   ]
  },
  {
   "cell_type": "code",
   "execution_count": 12,
   "id": "7409cf4f",
   "metadata": {},
   "outputs": [
    {
     "data": {
      "text/plain": [
       "array([252300., 146900., 290900., 141300., 500001.], dtype=float32)"
      ]
     },
     "execution_count": 12,
     "metadata": {},
     "output_type": "execute_result"
    }
   ],
   "source": [
    "train_targets[:5]"
   ]
  },
  {
   "cell_type": "markdown",
   "id": "4be8daa3",
   "metadata": {},
   "source": [
    "**Названия столбцов**\n",
    "\n",
    "- MedInc: median income in block group\n",
    "- HouseAge: median house age in block group\n",
    "- AveRooms: average number of rooms per household\n",
    "- AveBedrms: average number of bedrooms per household\n",
    "- Population: block group population\n",
    "- AveOccup: average number of household members\n",
    "- Latitude: block group latitude\n",
    "- Longitude: block group longitude"
   ]
  },
  {
   "cell_type": "markdown",
   "id": "f79c4458",
   "metadata": {},
   "source": [
    "Целевая переменная - средняя стоимость недвижимости в квартале"
   ]
  },
  {
   "cell_type": "code",
   "execution_count": 13,
   "id": "a23759c4",
   "metadata": {},
   "outputs": [
    {
     "data": {
      "text/plain": [
       "array([252300., 146900., 290900., 141300., 500001.], dtype=float32)"
      ]
     },
     "execution_count": 13,
     "metadata": {},
     "output_type": "execute_result"
    }
   ],
   "source": [
    "train_targets[:5]"
   ]
  },
  {
   "cell_type": "markdown",
   "id": "9df67fa8",
   "metadata": {},
   "source": [
    "**Предварительная обработка данных**"
   ]
  },
  {
   "cell_type": "markdown",
   "id": "8f88f77d",
   "metadata": {},
   "source": [
    "Нормализация данных для обучения"
   ]
  },
  {
   "cell_type": "code",
   "execution_count": 14,
   "id": "fed7ad61",
   "metadata": {},
   "outputs": [],
   "source": [
    "mean = train_data.mean(axis=0)\n",
    "std = train_data.std(axis=0)\n",
    "x_train = (train_data - mean) / std\n",
    "x_test = (test_data - mean) / std"
   ]
  },
  {
   "cell_type": "markdown",
   "id": "d91eb68f",
   "metadata": {},
   "source": [
    "Масштабирование целевой переменной"
   ]
  },
  {
   "cell_type": "code",
   "execution_count": 15,
   "id": "5939ec19",
   "metadata": {},
   "outputs": [],
   "source": [
    "y_train = train_targets / 100000\n",
    "y_test = test_targets / 100000"
   ]
  },
  {
   "cell_type": "markdown",
   "id": "a0cb51a4",
   "metadata": {},
   "source": [
    "## Создаем модель"
   ]
  },
  {
   "cell_type": "code",
   "execution_count": null,
   "id": "b970c524",
   "metadata": {},
   "outputs": [],
   "source": [
    "model = Sequential(\n",
    "        [\n",
    "            Dense(64, activation=\"relu\"), # Входной слой\n",
    "            Dense(32, activation=\"relu\"), # Скрытый слой\n",
    "            Dense(1),                     # Выходной слой, нет функции активации  \n",
    "        ]\n",
    "    )"
   ]
  },
  {
   "cell_type": "markdown",
   "id": "2165872e",
   "metadata": {},
   "source": [
    "Компилируем модель"
   ]
  },
  {
   "cell_type": "code",
   "execution_count": 81,
   "id": "eb71ffb2",
   "metadata": {},
   "outputs": [],
   "source": [
    "model.compile(\n",
    "    optimizer=\"adam\",\n",
    "    loss=\"mean_squared_error\",\n",
    "    metrics=[\"mean_absolute_error\"],\n",
    ")"
   ]
  },
  {
   "cell_type": "markdown",
   "id": "8f127555",
   "metadata": {},
   "source": [
    "## Обучаем модель"
   ]
  },
  {
   "cell_type": "code",
   "execution_count": null,
   "id": "1846ecdc",
   "metadata": {},
   "outputs": [
    {
     "name": "stdout",
     "output_type": "stream",
     "text": [
      "Epoch 1/130\n",
      "826/826 - 1s - 2ms/step - loss: 0.6880 - mean_absolute_error: 0.5712 - val_loss: 0.3922 - val_mean_absolute_error: 0.4408\n",
      "Epoch 2/130\n",
      "826/826 - 1s - 996us/step - loss: 0.3737 - mean_absolute_error: 0.4366 - val_loss: 0.3697 - val_mean_absolute_error: 0.4382\n",
      "Epoch 3/130\n",
      "826/826 - 1s - 952us/step - loss: 0.3529 - mean_absolute_error: 0.4218 - val_loss: 0.3615 - val_mean_absolute_error: 0.4349\n",
      "Epoch 4/130\n",
      "826/826 - 1s - 951us/step - loss: 0.3434 - mean_absolute_error: 0.4134 - val_loss: 0.3436 - val_mean_absolute_error: 0.4159\n",
      "Epoch 5/130\n",
      "826/826 - 1s - 986us/step - loss: 0.3314 - mean_absolute_error: 0.4062 - val_loss: 0.3344 - val_mean_absolute_error: 0.4063\n",
      "Epoch 6/130\n",
      "826/826 - 1s - 936us/step - loss: 0.3234 - mean_absolute_error: 0.4000 - val_loss: 0.3321 - val_mean_absolute_error: 0.3963\n",
      "Epoch 7/130\n",
      "826/826 - 1s - 943us/step - loss: 0.3185 - mean_absolute_error: 0.3963 - val_loss: 0.3296 - val_mean_absolute_error: 0.3933\n",
      "Epoch 8/130\n",
      "826/826 - 1s - 991us/step - loss: 0.3134 - mean_absolute_error: 0.3909 - val_loss: 0.3260 - val_mean_absolute_error: 0.3886\n",
      "Epoch 9/130\n",
      "826/826 - 1s - 934us/step - loss: 0.3084 - mean_absolute_error: 0.3882 - val_loss: 0.3389 - val_mean_absolute_error: 0.4097\n",
      "Epoch 10/130\n",
      "826/826 - 1s - 1ms/step - loss: 0.3058 - mean_absolute_error: 0.3862 - val_loss: 0.3158 - val_mean_absolute_error: 0.3787\n",
      "Epoch 11/130\n",
      "826/826 - 1s - 979us/step - loss: 0.3014 - mean_absolute_error: 0.3826 - val_loss: 0.3322 - val_mean_absolute_error: 0.4017\n",
      "Epoch 12/130\n",
      "826/826 - 1s - 937us/step - loss: 0.3001 - mean_absolute_error: 0.3800 - val_loss: 0.3132 - val_mean_absolute_error: 0.3789\n",
      "Epoch 13/130\n",
      "826/826 - 1s - 993us/step - loss: 0.2935 - mean_absolute_error: 0.3757 - val_loss: 0.3163 - val_mean_absolute_error: 0.3845\n",
      "Epoch 14/130\n",
      "826/826 - 1s - 983us/step - loss: 0.2923 - mean_absolute_error: 0.3752 - val_loss: 0.3148 - val_mean_absolute_error: 0.3876\n",
      "Epoch 15/130\n",
      "826/826 - 1s - 945us/step - loss: 0.2871 - mean_absolute_error: 0.3707 - val_loss: 0.3116 - val_mean_absolute_error: 0.3710\n",
      "Epoch 16/130\n",
      "826/826 - 1s - 1ms/step - loss: 0.2870 - mean_absolute_error: 0.3729 - val_loss: 0.3144 - val_mean_absolute_error: 0.3829\n",
      "Epoch 17/130\n",
      "826/826 - 1s - 998us/step - loss: 0.2826 - mean_absolute_error: 0.3670 - val_loss: 0.3119 - val_mean_absolute_error: 0.3725\n",
      "Epoch 18/130\n",
      "826/826 - 1s - 1ms/step - loss: 0.2812 - mean_absolute_error: 0.3671 - val_loss: 0.3319 - val_mean_absolute_error: 0.4019\n",
      "Epoch 19/130\n",
      "826/826 - 1s - 1ms/step - loss: 0.2801 - mean_absolute_error: 0.3655 - val_loss: 0.3144 - val_mean_absolute_error: 0.3846\n",
      "Epoch 20/130\n",
      "826/826 - 1s - 1ms/step - loss: 0.2781 - mean_absolute_error: 0.3640 - val_loss: 0.3045 - val_mean_absolute_error: 0.3695\n",
      "Epoch 21/130\n",
      "826/826 - 1s - 1ms/step - loss: 0.2789 - mean_absolute_error: 0.3644 - val_loss: 0.2958 - val_mean_absolute_error: 0.3656\n",
      "Epoch 22/130\n",
      "826/826 - 1s - 1ms/step - loss: 0.2755 - mean_absolute_error: 0.3625 - val_loss: 0.3083 - val_mean_absolute_error: 0.3875\n",
      "Epoch 23/130\n",
      "826/826 - 1s - 1ms/step - loss: 0.2745 - mean_absolute_error: 0.3629 - val_loss: 0.3198 - val_mean_absolute_error: 0.3693\n",
      "Epoch 24/130\n",
      "826/826 - 1s - 1ms/step - loss: 0.2733 - mean_absolute_error: 0.3606 - val_loss: 0.3011 - val_mean_absolute_error: 0.3713\n",
      "Epoch 25/130\n",
      "826/826 - 1s - 1ms/step - loss: 0.2723 - mean_absolute_error: 0.3596 - val_loss: 0.2952 - val_mean_absolute_error: 0.3681\n",
      "Epoch 26/130\n",
      "826/826 - 1s - 1ms/step - loss: 0.2711 - mean_absolute_error: 0.3587 - val_loss: 0.2978 - val_mean_absolute_error: 0.3650\n",
      "Epoch 27/130\n",
      "826/826 - 1s - 1ms/step - loss: 0.2704 - mean_absolute_error: 0.3580 - val_loss: 0.3065 - val_mean_absolute_error: 0.3637\n",
      "Epoch 28/130\n",
      "826/826 - 1s - 1ms/step - loss: 0.2689 - mean_absolute_error: 0.3575 - val_loss: 0.2994 - val_mean_absolute_error: 0.3717\n",
      "Epoch 29/130\n",
      "826/826 - 1s - 1ms/step - loss: 0.2691 - mean_absolute_error: 0.3572 - val_loss: 0.2993 - val_mean_absolute_error: 0.3661\n",
      "Epoch 30/130\n",
      "826/826 - 1s - 1ms/step - loss: 0.2655 - mean_absolute_error: 0.3549 - val_loss: 0.3058 - val_mean_absolute_error: 0.3662\n",
      "Epoch 31/130\n",
      "826/826 - 1s - 1ms/step - loss: 0.2639 - mean_absolute_error: 0.3533 - val_loss: 0.2882 - val_mean_absolute_error: 0.3598\n",
      "Epoch 32/130\n",
      "826/826 - 1s - 1ms/step - loss: 0.2632 - mean_absolute_error: 0.3521 - val_loss: 0.3187 - val_mean_absolute_error: 0.3915\n",
      "Epoch 33/130\n",
      "826/826 - 1s - 1ms/step - loss: 0.2633 - mean_absolute_error: 0.3535 - val_loss: 0.3439 - val_mean_absolute_error: 0.4178\n",
      "Epoch 34/130\n",
      "826/826 - 1s - 1ms/step - loss: 0.2636 - mean_absolute_error: 0.3521 - val_loss: 0.2915 - val_mean_absolute_error: 0.3610\n",
      "Epoch 35/130\n",
      "826/826 - 1s - 1ms/step - loss: 0.2597 - mean_absolute_error: 0.3500 - val_loss: 0.3069 - val_mean_absolute_error: 0.3606\n",
      "Epoch 36/130\n",
      "826/826 - 1s - 1ms/step - loss: 0.2602 - mean_absolute_error: 0.3506 - val_loss: 0.2901 - val_mean_absolute_error: 0.3561\n",
      "Epoch 37/130\n",
      "826/826 - 1s - 987us/step - loss: 0.2601 - mean_absolute_error: 0.3499 - val_loss: 0.2973 - val_mean_absolute_error: 0.3616\n",
      "Epoch 38/130\n",
      "826/826 - 1s - 1ms/step - loss: 0.2593 - mean_absolute_error: 0.3502 - val_loss: 0.2910 - val_mean_absolute_error: 0.3572\n",
      "Epoch 39/130\n",
      "826/826 - 1s - 992us/step - loss: 0.2570 - mean_absolute_error: 0.3475 - val_loss: 0.2989 - val_mean_absolute_error: 0.3561\n",
      "Epoch 40/130\n",
      "826/826 - 1s - 973us/step - loss: 0.2552 - mean_absolute_error: 0.3471 - val_loss: 0.2938 - val_mean_absolute_error: 0.3575\n",
      "Epoch 41/130\n",
      "826/826 - 1s - 1ms/step - loss: 0.2539 - mean_absolute_error: 0.3455 - val_loss: 0.2886 - val_mean_absolute_error: 0.3518\n",
      "Epoch 42/130\n",
      "826/826 - 1s - 1ms/step - loss: 0.2554 - mean_absolute_error: 0.3472 - val_loss: 0.3035 - val_mean_absolute_error: 0.3701\n",
      "Epoch 43/130\n",
      "826/826 - 1s - 1ms/step - loss: 0.2537 - mean_absolute_error: 0.3449 - val_loss: 0.3233 - val_mean_absolute_error: 0.3710\n",
      "Epoch 44/130\n",
      "826/826 - 1s - 1ms/step - loss: 0.2529 - mean_absolute_error: 0.3439 - val_loss: 0.2970 - val_mean_absolute_error: 0.3571\n",
      "Epoch 45/130\n",
      "826/826 - 1s - 988us/step - loss: 0.2532 - mean_absolute_error: 0.3453 - val_loss: 0.2967 - val_mean_absolute_error: 0.3588\n",
      "Epoch 46/130\n",
      "826/826 - 1s - 1ms/step - loss: 0.2516 - mean_absolute_error: 0.3441 - val_loss: 0.2872 - val_mean_absolute_error: 0.3547\n",
      "Epoch 47/130\n",
      "826/826 - 1s - 1ms/step - loss: 0.2542 - mean_absolute_error: 0.3464 - val_loss: 0.3107 - val_mean_absolute_error: 0.3777\n",
      "Epoch 48/130\n",
      "826/826 - 1s - 1ms/step - loss: 0.2495 - mean_absolute_error: 0.3440 - val_loss: 0.2922 - val_mean_absolute_error: 0.3560\n",
      "Epoch 49/130\n",
      "826/826 - 1s - 1ms/step - loss: 0.2484 - mean_absolute_error: 0.3419 - val_loss: 0.2855 - val_mean_absolute_error: 0.3528\n",
      "Epoch 50/130\n",
      "826/826 - 1s - 1ms/step - loss: 0.2498 - mean_absolute_error: 0.3427 - val_loss: 0.2875 - val_mean_absolute_error: 0.3530\n",
      "Epoch 51/130\n",
      "826/826 - 1s - 1ms/step - loss: 0.2481 - mean_absolute_error: 0.3417 - val_loss: 0.2898 - val_mean_absolute_error: 0.3552\n",
      "Epoch 52/130\n",
      "826/826 - 1s - 1ms/step - loss: 0.2476 - mean_absolute_error: 0.3417 - val_loss: 0.2888 - val_mean_absolute_error: 0.3650\n",
      "Epoch 53/130\n",
      "826/826 - 1s - 1ms/step - loss: 0.2470 - mean_absolute_error: 0.3405 - val_loss: 0.2922 - val_mean_absolute_error: 0.3563\n",
      "Epoch 54/130\n",
      "826/826 - 1s - 1ms/step - loss: 0.2467 - mean_absolute_error: 0.3399 - val_loss: 0.2960 - val_mean_absolute_error: 0.3644\n",
      "Epoch 55/130\n",
      "826/826 - 1s - 1ms/step - loss: 0.2459 - mean_absolute_error: 0.3400 - val_loss: 0.3008 - val_mean_absolute_error: 0.3685\n",
      "Epoch 56/130\n",
      "826/826 - 1s - 1ms/step - loss: 0.2450 - mean_absolute_error: 0.3376 - val_loss: 0.2931 - val_mean_absolute_error: 0.3606\n",
      "Epoch 57/130\n",
      "826/826 - 1s - 1ms/step - loss: 0.2445 - mean_absolute_error: 0.3383 - val_loss: 0.2897 - val_mean_absolute_error: 0.3667\n",
      "Epoch 58/130\n",
      "826/826 - 1s - 1ms/step - loss: 0.2439 - mean_absolute_error: 0.3380 - val_loss: 0.2976 - val_mean_absolute_error: 0.3618\n",
      "Epoch 59/130\n",
      "826/826 - 1s - 1ms/step - loss: 0.2405 - mean_absolute_error: 0.3352 - val_loss: 0.2961 - val_mean_absolute_error: 0.3543\n",
      "Epoch 60/130\n",
      "826/826 - 1s - 998us/step - loss: 0.2435 - mean_absolute_error: 0.3373 - val_loss: 0.2907 - val_mean_absolute_error: 0.3562\n",
      "Epoch 61/130\n",
      "826/826 - 1s - 1ms/step - loss: 0.2440 - mean_absolute_error: 0.3392 - val_loss: 0.2916 - val_mean_absolute_error: 0.3609\n",
      "Epoch 62/130\n",
      "826/826 - 1s - 994us/step - loss: 0.2399 - mean_absolute_error: 0.3351 - val_loss: 0.2952 - val_mean_absolute_error: 0.3661\n",
      "Epoch 63/130\n",
      "826/826 - 1s - 1ms/step - loss: 0.2392 - mean_absolute_error: 0.3352 - val_loss: 0.2912 - val_mean_absolute_error: 0.3633\n",
      "Epoch 64/130\n",
      "826/826 - 1s - 1ms/step - loss: 0.2401 - mean_absolute_error: 0.3346 - val_loss: 0.2814 - val_mean_absolute_error: 0.3493\n",
      "Epoch 65/130\n",
      "826/826 - 1s - 991us/step - loss: 0.2415 - mean_absolute_error: 0.3367 - val_loss: 0.2834 - val_mean_absolute_error: 0.3558\n",
      "Epoch 66/130\n",
      "826/826 - 1s - 1ms/step - loss: 0.2397 - mean_absolute_error: 0.3352 - val_loss: 0.3009 - val_mean_absolute_error: 0.3596\n",
      "Epoch 67/130\n",
      "826/826 - 1s - 999us/step - loss: 0.2393 - mean_absolute_error: 0.3348 - val_loss: 0.2945 - val_mean_absolute_error: 0.3541\n",
      "Epoch 68/130\n",
      "826/826 - 1s - 1ms/step - loss: 0.2390 - mean_absolute_error: 0.3343 - val_loss: 0.2866 - val_mean_absolute_error: 0.3649\n",
      "Epoch 69/130\n",
      "826/826 - 1s - 1ms/step - loss: 0.2380 - mean_absolute_error: 0.3352 - val_loss: 0.2832 - val_mean_absolute_error: 0.3541\n",
      "Epoch 70/130\n",
      "826/826 - 1s - 986us/step - loss: 0.2380 - mean_absolute_error: 0.3349 - val_loss: 0.2964 - val_mean_absolute_error: 0.3693\n",
      "Epoch 71/130\n",
      "826/826 - 1s - 1ms/step - loss: 0.2371 - mean_absolute_error: 0.3336 - val_loss: 0.2828 - val_mean_absolute_error: 0.3533\n",
      "Epoch 72/130\n",
      "826/826 - 1s - 1ms/step - loss: 0.2359 - mean_absolute_error: 0.3333 - val_loss: 0.2862 - val_mean_absolute_error: 0.3603\n",
      "Epoch 73/130\n",
      "826/826 - 1s - 1ms/step - loss: 0.2372 - mean_absolute_error: 0.3328 - val_loss: 0.2886 - val_mean_absolute_error: 0.3496\n",
      "Epoch 74/130\n",
      "826/826 - 1s - 1ms/step - loss: 0.2351 - mean_absolute_error: 0.3328 - val_loss: 0.2849 - val_mean_absolute_error: 0.3506\n",
      "Epoch 75/130\n",
      "826/826 - 1s - 1ms/step - loss: 0.2361 - mean_absolute_error: 0.3321 - val_loss: 0.2898 - val_mean_absolute_error: 0.3526\n",
      "Epoch 76/130\n",
      "826/826 - 1s - 1ms/step - loss: 0.2345 - mean_absolute_error: 0.3315 - val_loss: 0.2920 - val_mean_absolute_error: 0.3527\n",
      "Epoch 77/130\n",
      "826/826 - 1s - 997us/step - loss: 0.2336 - mean_absolute_error: 0.3316 - val_loss: 0.2842 - val_mean_absolute_error: 0.3478\n",
      "Epoch 78/130\n",
      "826/826 - 1s - 999us/step - loss: 0.2330 - mean_absolute_error: 0.3303 - val_loss: 0.2843 - val_mean_absolute_error: 0.3579\n",
      "Epoch 79/130\n",
      "826/826 - 1s - 1ms/step - loss: 0.2327 - mean_absolute_error: 0.3299 - val_loss: 0.2786 - val_mean_absolute_error: 0.3460\n",
      "Epoch 80/130\n",
      "826/826 - 1s - 1ms/step - loss: 0.2345 - mean_absolute_error: 0.3313 - val_loss: 0.2934 - val_mean_absolute_error: 0.3524\n",
      "Epoch 81/130\n",
      "826/826 - 1s - 1ms/step - loss: 0.2319 - mean_absolute_error: 0.3294 - val_loss: 0.2942 - val_mean_absolute_error: 0.3664\n",
      "Epoch 82/130\n",
      "826/826 - 1s - 1ms/step - loss: 0.2320 - mean_absolute_error: 0.3302 - val_loss: 0.2860 - val_mean_absolute_error: 0.3488\n",
      "Epoch 83/130\n",
      "826/826 - 1s - 1ms/step - loss: 0.2326 - mean_absolute_error: 0.3292 - val_loss: 0.2875 - val_mean_absolute_error: 0.3523\n",
      "Epoch 84/130\n",
      "826/826 - 1s - 1ms/step - loss: 0.2316 - mean_absolute_error: 0.3295 - val_loss: 0.2861 - val_mean_absolute_error: 0.3525\n",
      "Epoch 85/130\n",
      "826/826 - 1s - 1ms/step - loss: 0.2307 - mean_absolute_error: 0.3286 - val_loss: 0.2852 - val_mean_absolute_error: 0.3471\n",
      "Epoch 86/130\n",
      "826/826 - 1s - 1ms/step - loss: 0.2308 - mean_absolute_error: 0.3289 - val_loss: 0.3104 - val_mean_absolute_error: 0.3931\n",
      "Epoch 87/130\n",
      "826/826 - 1s - 1ms/step - loss: 0.2316 - mean_absolute_error: 0.3305 - val_loss: 0.2845 - val_mean_absolute_error: 0.3482\n",
      "Epoch 88/130\n",
      "826/826 - 1s - 1ms/step - loss: 0.2320 - mean_absolute_error: 0.3286 - val_loss: 0.2812 - val_mean_absolute_error: 0.3499\n",
      "Epoch 89/130\n",
      "826/826 - 1s - 1ms/step - loss: 0.2281 - mean_absolute_error: 0.3277 - val_loss: 0.2833 - val_mean_absolute_error: 0.3521\n",
      "Epoch 90/130\n",
      "826/826 - 1s - 1ms/step - loss: 0.2302 - mean_absolute_error: 0.3297 - val_loss: 0.2790 - val_mean_absolute_error: 0.3448\n",
      "Epoch 91/130\n",
      "826/826 - 1s - 1ms/step - loss: 0.2268 - mean_absolute_error: 0.3254 - val_loss: 0.2849 - val_mean_absolute_error: 0.3419\n",
      "Epoch 92/130\n",
      "826/826 - 1s - 1ms/step - loss: 0.2281 - mean_absolute_error: 0.3279 - val_loss: 0.2785 - val_mean_absolute_error: 0.3520\n",
      "Epoch 93/130\n",
      "826/826 - 1s - 1ms/step - loss: 0.2282 - mean_absolute_error: 0.3266 - val_loss: 0.2829 - val_mean_absolute_error: 0.3543\n",
      "Epoch 94/130\n",
      "826/826 - 1s - 1ms/step - loss: 0.2285 - mean_absolute_error: 0.3282 - val_loss: 0.2885 - val_mean_absolute_error: 0.3508\n",
      "Epoch 95/130\n",
      "826/826 - 1s - 1ms/step - loss: 0.2268 - mean_absolute_error: 0.3264 - val_loss: 0.2794 - val_mean_absolute_error: 0.3499\n",
      "Epoch 96/130\n",
      "826/826 - 1s - 1ms/step - loss: 0.2283 - mean_absolute_error: 0.3273 - val_loss: 0.2831 - val_mean_absolute_error: 0.3482\n",
      "Epoch 97/130\n",
      "826/826 - 1s - 1ms/step - loss: 0.2278 - mean_absolute_error: 0.3253 - val_loss: 0.2795 - val_mean_absolute_error: 0.3442\n",
      "Epoch 98/130\n",
      "826/826 - 1s - 1ms/step - loss: 0.2268 - mean_absolute_error: 0.3258 - val_loss: 0.2793 - val_mean_absolute_error: 0.3458\n",
      "Epoch 99/130\n",
      "826/826 - 1s - 1ms/step - loss: 0.2262 - mean_absolute_error: 0.3251 - val_loss: 0.2806 - val_mean_absolute_error: 0.3455\n",
      "Epoch 100/130\n",
      "826/826 - 1s - 1ms/step - loss: 0.2269 - mean_absolute_error: 0.3263 - val_loss: 0.2807 - val_mean_absolute_error: 0.3499\n",
      "Epoch 101/130\n",
      "826/826 - 1s - 1ms/step - loss: 0.2266 - mean_absolute_error: 0.3249 - val_loss: 0.2818 - val_mean_absolute_error: 0.3456\n",
      "Epoch 102/130\n",
      "826/826 - 1s - 1ms/step - loss: 0.2262 - mean_absolute_error: 0.3258 - val_loss: 0.2886 - val_mean_absolute_error: 0.3507\n",
      "Epoch 103/130\n",
      "826/826 - 1s - 1ms/step - loss: 0.2252 - mean_absolute_error: 0.3252 - val_loss: 0.2782 - val_mean_absolute_error: 0.3495\n",
      "Epoch 104/130\n",
      "826/826 - 1s - 1ms/step - loss: 0.2249 - mean_absolute_error: 0.3242 - val_loss: 0.2883 - val_mean_absolute_error: 0.3504\n",
      "Epoch 105/130\n",
      "826/826 - 1s - 1ms/step - loss: 0.2239 - mean_absolute_error: 0.3245 - val_loss: 0.2828 - val_mean_absolute_error: 0.3571\n",
      "Epoch 106/130\n",
      "826/826 - 1s - 1ms/step - loss: 0.2241 - mean_absolute_error: 0.3239 - val_loss: 0.2782 - val_mean_absolute_error: 0.3553\n",
      "Epoch 107/130\n",
      "826/826 - 1s - 1ms/step - loss: 0.2231 - mean_absolute_error: 0.3237 - val_loss: 0.2943 - val_mean_absolute_error: 0.3651\n",
      "Epoch 108/130\n",
      "826/826 - 1s - 998us/step - loss: 0.2245 - mean_absolute_error: 0.3251 - val_loss: 0.2756 - val_mean_absolute_error: 0.3425\n",
      "Epoch 109/130\n",
      "826/826 - 1s - 1ms/step - loss: 0.2217 - mean_absolute_error: 0.3230 - val_loss: 0.2826 - val_mean_absolute_error: 0.3500\n",
      "Epoch 110/130\n",
      "826/826 - 1s - 1ms/step - loss: 0.2243 - mean_absolute_error: 0.3240 - val_loss: 0.2753 - val_mean_absolute_error: 0.3444\n",
      "Epoch 111/130\n",
      "826/826 - 1s - 990us/step - loss: 0.2226 - mean_absolute_error: 0.3230 - val_loss: 0.2822 - val_mean_absolute_error: 0.3437\n",
      "Epoch 112/130\n",
      "826/826 - 1s - 1ms/step - loss: 0.2221 - mean_absolute_error: 0.3233 - val_loss: 0.2909 - val_mean_absolute_error: 0.3536\n",
      "Epoch 113/130\n",
      "826/826 - 1s - 975us/step - loss: 0.2243 - mean_absolute_error: 0.3244 - val_loss: 0.2766 - val_mean_absolute_error: 0.3502\n",
      "Epoch 114/130\n",
      "826/826 - 1s - 999us/step - loss: 0.2215 - mean_absolute_error: 0.3223 - val_loss: 0.2827 - val_mean_absolute_error: 0.3468\n",
      "Epoch 115/130\n",
      "826/826 - 1s - 1ms/step - loss: 0.2221 - mean_absolute_error: 0.3232 - val_loss: 0.2916 - val_mean_absolute_error: 0.3498\n",
      "Epoch 116/130\n",
      "826/826 - 1s - 1ms/step - loss: 0.2220 - mean_absolute_error: 0.3223 - val_loss: 0.2919 - val_mean_absolute_error: 0.3643\n",
      "Epoch 117/130\n",
      "826/826 - 1s - 1ms/step - loss: 0.2213 - mean_absolute_error: 0.3238 - val_loss: 0.2854 - val_mean_absolute_error: 0.3605\n",
      "Epoch 118/130\n",
      "826/826 - 1s - 1ms/step - loss: 0.2212 - mean_absolute_error: 0.3219 - val_loss: 0.2895 - val_mean_absolute_error: 0.3518\n",
      "Epoch 119/130\n",
      "826/826 - 1s - 1ms/step - loss: 0.2215 - mean_absolute_error: 0.3221 - val_loss: 0.2821 - val_mean_absolute_error: 0.3442\n",
      "Epoch 120/130\n",
      "826/826 - 1s - 1ms/step - loss: 0.2196 - mean_absolute_error: 0.3222 - val_loss: 0.2840 - val_mean_absolute_error: 0.3535\n",
      "Epoch 121/130\n",
      "826/826 - 1s - 1ms/step - loss: 0.2200 - mean_absolute_error: 0.3207 - val_loss: 0.2911 - val_mean_absolute_error: 0.3509\n",
      "Epoch 122/130\n",
      "826/826 - 1s - 1ms/step - loss: 0.2207 - mean_absolute_error: 0.3226 - val_loss: 0.2877 - val_mean_absolute_error: 0.3497\n",
      "Epoch 123/130\n",
      "826/826 - 1s - 995us/step - loss: 0.2192 - mean_absolute_error: 0.3210 - val_loss: 0.2946 - val_mean_absolute_error: 0.3545\n",
      "Epoch 124/130\n",
      "826/826 - 1s - 991us/step - loss: 0.2192 - mean_absolute_error: 0.3213 - val_loss: 0.2750 - val_mean_absolute_error: 0.3451\n",
      "Epoch 125/130\n",
      "826/826 - 1s - 1ms/step - loss: 0.2187 - mean_absolute_error: 0.3210 - val_loss: 0.2805 - val_mean_absolute_error: 0.3417\n",
      "Epoch 126/130\n",
      "826/826 - 1s - 1ms/step - loss: 0.2188 - mean_absolute_error: 0.3211 - val_loss: 0.3031 - val_mean_absolute_error: 0.3823\n",
      "Epoch 127/130\n",
      "826/826 - 1s - 1ms/step - loss: 0.2185 - mean_absolute_error: 0.3213 - val_loss: 0.2848 - val_mean_absolute_error: 0.3482\n",
      "Epoch 128/130\n",
      "826/826 - 1s - 1ms/step - loss: 0.2173 - mean_absolute_error: 0.3208 - val_loss: 0.2863 - val_mean_absolute_error: 0.3619\n",
      "Epoch 129/130\n",
      "826/826 - 1s - 1ms/step - loss: 0.2188 - mean_absolute_error: 0.3215 - val_loss: 0.2917 - val_mean_absolute_error: 0.3598\n",
      "Epoch 130/130\n",
      "826/826 - 1s - 1ms/step - loss: 0.2177 - mean_absolute_error: 0.3199 - val_loss: 0.2855 - val_mean_absolute_error: 0.3464\n"
     ]
    }
   ],
   "source": [
    "history = model.fit(x_train,         # Данные для обучения\n",
    "                    y_train,         # Правильные ответы\n",
    "                    batch_size=32,   # Размер мини-выборки\n",
    "                    epochs=130,      # Количество эпох обучения\n",
    "                    validation_split=0.2, # Доля для проверочного набора данных\n",
    "                    verbose=2)  "
   ]
  },
  {
   "cell_type": "markdown",
   "id": "db1982ee",
   "metadata": {},
   "source": [
    "### Визуализация прогресса обучения"
   ]
  },
  {
   "cell_type": "code",
   "execution_count": 83,
   "id": "c39f7cc5",
   "metadata": {},
   "outputs": [
    {
     "data": {
      "image/png": "[encoded data removed]",
      "text/plain": [
       "<Figure size 640x480 with 1 Axes>"
      ]
     },
     "metadata": {},
     "output_type": "display_data"
    }
   ],
   "source": [
    "plt.plot(history.history['mean_absolute_error'], \n",
    "         label='Средняя абсолютная ошибка на обучающем наборе')\n",
    "plt.plot(history.history['val_mean_absolute_error'], \n",
    "         label='Средняя абсолютная ошибка на проверочном наборе')\n",
    "plt.xlabel('Эпоха обучения')\n",
    "plt.ylabel('Средняя абсолютная ошибка')\n",
    "plt.legend()\n",
    "plt.show()"
   ]
  },
  {
   "cell_type": "code",
   "execution_count": 84,
   "id": "9234b39b",
   "metadata": {},
   "outputs": [
    {
     "data": {
      "image/png": "[encoded data removed]",
      "text/plain": [
       "<Figure size 640x480 with 1 Axes>"
      ]
     },
     "metadata": {},
     "output_type": "display_data"
    }
   ],
   "source": [
    "plt.plot(history.history['loss'], \n",
    "         label='Функция потерь на обучающем наборе')\n",
    "plt.plot(history.history['val_loss'], \n",
    "         label='Функция потерь на проверочном наборе')\n",
    "plt.xlabel('Эпоха обучения')\n",
    "plt.ylabel('Функция потерь')\n",
    "plt.legend()\n",
    "plt.show()"
   ]
  },
  {
   "cell_type": "markdown",
   "id": "856657c2",
   "metadata": {},
   "source": [
    "## Оценка качества обучения"
   ]
  },
  {
   "cell_type": "markdown",
   "id": "3ce0d459",
   "metadata": {},
   "source": [
    "Проверка качества работы на наборе данных для тестирования"
   ]
  },
  {
   "cell_type": "code",
   "execution_count": 85,
   "id": "87450a18",
   "metadata": {},
   "outputs": [
    {
     "name": "stdout",
     "output_type": "stream",
     "text": [
      "\u001b[1m129/129\u001b[0m \u001b[32m━━━━━━━━━━━━━━━━━━━━\u001b[0m\u001b[37m\u001b[0m \u001b[1m0s\u001b[0m 745us/step - loss: 0.2832 - mean_absolute_error: 0.3529\n"
     ]
    }
   ],
   "source": [
    "scores = model.evaluate(x_test, y_test, verbose=1)"
   ]
  },
  {
   "cell_type": "code",
   "execution_count": 86,
   "id": "69eadfe7",
   "metadata": {},
   "outputs": [
    {
     "name": "stdout",
     "output_type": "stream",
     "text": [
      "Средняя абсолютная ошибка: 35287.50538825989\n"
     ]
    }
   ],
   "source": [
    "print(\"Средняя абсолютная ошибка:\", scores[1] * 100000)"
   ]
  },
  {
   "cell_type": "markdown",
   "id": "588b6600",
   "metadata": {},
   "source": [
    "## Предсказание на тестовых данных"
   ]
  },
  {
   "cell_type": "code",
   "execution_count": 87,
   "id": "aea4b8e6",
   "metadata": {},
   "outputs": [
    {
     "name": "stdout",
     "output_type": "stream",
     "text": [
      "\u001b[1m129/129\u001b[0m \u001b[32m━━━━━━━━━━━━━━━━━━━━\u001b[0m\u001b[37m\u001b[0m \u001b[1m0s\u001b[0m 566us/step\n"
     ]
    }
   ],
   "source": [
    "predictions = model.predict(x_test)"
   ]
  },
  {
   "cell_type": "code",
   "execution_count": 90,
   "id": "15e87175",
   "metadata": {},
   "outputs": [
    {
     "data": {
      "text/plain": [
       "array([[1.9147214 ],\n",
       "       [2.4129071 ],\n",
       "       [1.9162626 ],\n",
       "       [0.14930081],\n",
       "       [1.7035018 ]], dtype=float32)"
      ]
     },
     "execution_count": 90,
     "metadata": {},
     "output_type": "execute_result"
    }
   ],
   "source": [
    "predictions[:5]"
   ]
  },
  {
   "cell_type": "code",
   "execution_count": 91,
   "id": "ed7f672c",
   "metadata": {},
   "outputs": [
    {
     "data": {
      "text/plain": [
       "array([3.979, 2.279, 1.721, 1.865, 1.489], dtype=float32)"
      ]
     },
     "execution_count": 91,
     "metadata": {},
     "output_type": "execute_result"
    }
   ],
   "source": [
    "y_test[:5]"
   ]
  }
 ],
 "metadata": {
  "kernelspec": {
   "display_name": ".venv",
   "language": "python",
   "name": "python3"
  },
  "language_info": {
   "codemirror_mode": {
    "name": "ipython",
    "version": 3
   },
   "file_extension": ".py",
   "mimetype": "text/x-python",
   "name": "python",
   "nbconvert_exporter": "python",
   "pygments_lexer": "ipython3",
   "version": "3.13.2"
  }
 },
 "nbformat": 4,
 "nbformat_minor": 5
}
