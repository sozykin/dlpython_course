{
  "cells": [
    {
      "cell_type": "markdown",
      "metadata": {
        "id": "nXn84GvZPJ8-"
      },
      "source": [
        "# Распознавание объектов на изображениях из набора данных CIFAR-10\n",
        "\n",
        "Чтобы запускать и редактировать код, сохраните копию этого ноутбука себе (Файл -> Создать копию на Диске). Свою копию вы сможете изменять и запускать.\n",
        "\n",
        "Учебный курс \"[Программирование глубоких нейронных сетей на Python](https://openedu.ru/course/urfu/PYDNN/)\".\n",
        "\n",
        "<a target=\"_blank\" href=\"https://colab.research.google.com/github/sozykin/dlpython_course/blob/master/cnn/pytorch/cifar10.ipynb\">\n",
        "  <img src=\"https://colab.research.google.com/assets/colab-badge.svg\" alt=\"Open In Colab\"/>\n",
        "</a>"
      ]
    },
    {
      "cell_type": "code",
      "execution_count": 1,
      "metadata": {
        "id": "00gAhNe2O9EM"
      },
      "outputs": [],
      "source": [
        "import torch\n",
        "import torchvision\n",
        "import torchvision.transforms as transforms\n",
        "import torch.nn as nn\n",
        "import torch.nn.functional as F\n",
        "import numpy as np\n",
        "import matplotlib.pyplot as plt\n",
        "%matplotlib inline"
      ]
    },
    {
      "cell_type": "markdown",
      "metadata": {
        "id": "UYDEPJT0PgjM"
      },
      "source": [
        "## Загружаем набор данных"
      ]
    },
    {
      "cell_type": "markdown",
      "metadata": {
        "id": "z_nWLJxiPoJ1"
      },
      "source": [
        "Определяем инструмент предварительной обработки изображений из набора данных"
      ]
    },
    {
      "cell_type": "code",
      "execution_count": 4,
      "metadata": {
        "id": "4Dod0CAKPuCt"
      },
      "outputs": [],
      "source": [
        "transform = transforms.Compose(\n",
        "    [\n",
        "        transforms.ToTensor()\n",
        "    ])"
      ]
    },
    {
      "cell_type": "markdown",
      "metadata": {
        "id": "vaEHZdQzPxVV"
      },
      "source": [
        "Загружаем наборы данных для обучения и тестирования"
      ]
    },
    {
      "cell_type": "code",
      "execution_count": 3,
      "metadata": {
        "colab": {
          "base_uri": "https://localhost:8080/"
        },
        "id": "BGx1Ci94PjO0",
        "outputId": "5aa06060-3eca-463c-8a18-bfc1b913cb8b"
      },
      "outputs": [
        {
          "name": "stderr",
          "output_type": "stream",
          "text": [
            "100.0%\n"
          ]
        }
      ],
      "source": [
        "trainset = torchvision.datasets.CIFAR10(root='data', train=True,\n",
        "                                        download=True, transform=transform)\n",
        "testset = torchvision.datasets.CIFAR10(root='data', train=False,\n",
        "                                       download=True, transform=transform)\n"
      ]
    },
    {
      "cell_type": "markdown",
      "metadata": {
        "id": "2mlI4ULNP_QM"
      },
      "source": [
        "Создаем загрузчики данных"
      ]
    },
    {
      "cell_type": "code",
      "execution_count": 6,
      "metadata": {
        "id": "M6_ZvUXnO9EN"
      },
      "outputs": [],
      "source": [
        "# Размер мини-выборки\n",
        "batch_size = 256\n",
        "\n",
        "trainloader = torch.utils.data.DataLoader(trainset, \n",
        "                                          batch_size=batch_size,\n",
        "                                          shuffle=True)\n",
        "\n",
        "testloader = torch.utils.data.DataLoader(testset, \n",
        "                                         batch_size=batch_size,\n",
        "                                         shuffle=False)"
      ]
    },
    {
      "cell_type": "markdown",
      "metadata": {
        "id": "wDuex-OZQEmr"
      },
      "source": [
        "Имена классов"
      ]
    },
    {
      "cell_type": "code",
      "execution_count": 7,
      "metadata": {
        "id": "3Gn_FaogQEFz"
      },
      "outputs": [],
      "source": [
        "classes = ('самолет', 'машина', 'птица', 'кот',\n",
        "           'олень', 'собака', 'лягушка', 'лошадь', 'корабль', 'грузовик')"
      ]
    },
    {
      "cell_type": "markdown",
      "metadata": {
        "id": "es4FL2RIO9EN"
      },
      "source": [
        "Просматриваем примеры изображений\n",
        "\n"
      ]
    },
    {
      "cell_type": "code",
      "execution_count": 8,
      "metadata": {
        "colab": {
          "base_uri": "https://localhost:8080/",
          "height": 135
        },
        "id": "sNNl-avyQg1B",
        "outputId": "a8ec57ad-af6a-4e18-f223-b759d1d70aa8"
      },
      "outputs": [
        {
          "data": {
            "image/png": "[encoded data removed]",
            "text/plain": [
              "<Figure size 1200x500 with 10 Axes>"
            ]
          },
          "metadata": {},
          "output_type": "display_data"
        }
      ],
      "source": [
        "nsamples=10\n",
        "\n",
        "imgs, labels = next(iter(trainloader))\n",
        "\n",
        "fig=plt.figure(figsize=(12,5),facecolor='w')\n",
        "for i in range(nsamples):\n",
        "    ax = plt.subplot(1,nsamples, i+1)\n",
        "    img = imgs[i] / 2 + 0.5     # unnormalize\n",
        "    npimg = img.numpy()\n",
        "    plt.imshow(np.transpose(npimg, (1, 2, 0)))\n",
        "    ax.set_title(classes[labels[i]], fontsize=10)\n",
        "    ax.get_xaxis().set_visible(False)\n",
        "    ax.get_yaxis().set_visible(False)\n",
        "\n",
        "plt.show()"
      ]
    },
    {
      "cell_type": "markdown",
      "metadata": {
        "id": "KirjRMkOO9EO"
      },
      "source": [
        "## Создаем модель\n",
        "\n",
        "\n"
      ]
    },
    {
      "cell_type": "code",
      "execution_count": 9,
      "metadata": {
        "id": "y6pGTDUqRSV6"
      },
      "outputs": [],
      "source": [
        "device = (\n",
        "    \"cuda\"\n",
        "    if torch.cuda.is_available()\n",
        "    else \"mps\"\n",
        "    if torch.backends.mps.is_available()\n",
        "    else \"cpu\"\n",
        ")"
      ]
    },
    {
      "cell_type": "code",
      "execution_count": 10,
      "metadata": {
        "colab": {
          "base_uri": "https://localhost:8080/",
          "height": 35
        },
        "id": "B8CZvNVcRVma",
        "outputId": "3174a331-655a-472d-8734-31a67b6e6060"
      },
      "outputs": [
        {
          "data": {
            "text/plain": [
              "'cuda'"
            ]
          },
          "execution_count": 10,
          "metadata": {},
          "output_type": "execute_result"
        }
      ],
      "source": [
        "device"
      ]
    },
    {
      "cell_type": "markdown",
      "metadata": {
        "id": "bBIAdrVVRZx6"
      },
      "source": [
        "Описываем класс для модели"
      ]
    },
    {
      "cell_type": "code",
      "execution_count": 13,
      "metadata": {
        "id": "4e13x05fYhqe"
      },
      "outputs": [],
      "source": [
        "class NeuralNetwork(nn.Module):\n",
        "    def __init__(self):\n",
        "        super().__init__()\n",
        "        self.network = nn.Sequential(\n",
        "            nn.Conv2d(3, 32, kernel_size=3, stride=1, padding=1),\n",
        "            nn.ReLU(),\n",
        "            nn.MaxPool2d(2, 2),\n",
        "\n",
        "            nn.Conv2d(32, 64, kernel_size=3, stride=1, padding=1),\n",
        "            nn.ReLU(),\n",
        "            nn.MaxPool2d(2, 2),\n",
        "\n",
        "            nn.Flatten(),\n",
        "            nn.Linear(256*8*8, 1024),\n",
        "            nn.ReLU(),\n",
        "            nn.Linear(1024, 512),\n",
        "            nn.ReLU(),\n",
        "            nn.Linear(512, 10))\n",
        "\n",
        "    def forward(self, xb):\n",
        "        return self.network(xb)"
      ]
    },
    {
      "cell_type": "markdown",
      "metadata": {
        "id": "f-o3gzIBTE4F"
      },
      "source": [
        "Создаем модель на основе описанного класса"
      ]
    },
    {
      "cell_type": "code",
      "execution_count": null,
      "metadata": {
        "colab": {
          "base_uri": "https://localhost:8080/"
        },
        "id": "3Dl4RUK6TEVt",
        "outputId": "9416c1e1-dbfc-4fa6-f124-fba3bf220bd8"
      },
      "outputs": [
        {
          "name": "stdout",
          "output_type": "stream",
          "text": [
            "NeuralNetwork(\n",
            "  (network): Sequential(\n",
            "    (0): Conv2d(3, 32, kernel_size=(3, 3), stride=(1, 1), padding=(1, 1))\n",
            "    (1): ReLU()\n",
            "    (2): MaxPool2d(kernel_size=2, stride=2, padding=0, dilation=1, ceil_mode=False)\n",
            "    (3): Conv2d(32, 64, kernel_size=(3, 3), stride=(1, 1), padding=(1, 1))\n",
            "    (4): ReLU()\n",
            "    (5): MaxPool2d(kernel_size=2, stride=2, padding=0, dilation=1, ceil_mode=False)\n",
            "    (6): Flatten(start_dim=1, end_dim=-1)\n",
            "    (7): Linear(in_features=16384, out_features=1024, bias=True)\n",
            "    (8): ReLU()\n",
            "    (9): Linear(in_features=1024, out_features=512, bias=True)\n",
            "    (10): ReLU()\n",
            "    (11): Linear(in_features=512, out_features=10, bias=True)\n",
            "  )\n",
            ")\n"
          ]
        }
      ],
      "source": [
        "model = NeuralNetwork().to(device)\n"
      ]
    },
    {
      "cell_type": "code",
      "execution_count": 15,
      "metadata": {},
      "outputs": [
        {
          "data": {
            "text/plain": [
              "NeuralNetwork(\n",
              "  (network): Sequential(\n",
              "    (0): Conv2d(3, 32, kernel_size=(3, 3), stride=(1, 1), padding=(1, 1))\n",
              "    (1): ReLU()\n",
              "    (2): MaxPool2d(kernel_size=2, stride=2, padding=0, dilation=1, ceil_mode=False)\n",
              "    (3): Conv2d(32, 64, kernel_size=(3, 3), stride=(1, 1), padding=(1, 1))\n",
              "    (4): ReLU()\n",
              "    (5): MaxPool2d(kernel_size=2, stride=2, padding=0, dilation=1, ceil_mode=False)\n",
              "    (6): Flatten(start_dim=1, end_dim=-1)\n",
              "    (7): Linear(in_features=16384, out_features=1024, bias=True)\n",
              "    (8): ReLU()\n",
              "    (9): Linear(in_features=1024, out_features=512, bias=True)\n",
              "    (10): ReLU()\n",
              "    (11): Linear(in_features=512, out_features=10, bias=True)\n",
              "  )\n",
              ")"
            ]
          },
          "execution_count": 15,
          "metadata": {},
          "output_type": "execute_result"
        }
      ],
      "source": [
        "model"
      ]
    },
    {
      "cell_type": "markdown",
      "metadata": {
        "id": "G61vhDGVIInR"
      },
      "source": [
        "## Обучаем модель\n",
        "\n",
        "Задаем функцию ошибки - категориальная перекрестная энтропия\n",
        "\n"
      ]
    },
    {
      "cell_type": "code",
      "execution_count": 16,
      "metadata": {
        "id": "GAPq1_B7IInS"
      },
      "outputs": [],
      "source": [
        "loss_fn = nn.CrossEntropyLoss()"
      ]
    },
    {
      "cell_type": "markdown",
      "metadata": {
        "id": "d5azd5_KC1P3"
      },
      "source": [
        "Задаем оптимизатор"
      ]
    },
    {
      "cell_type": "code",
      "execution_count": 17,
      "metadata": {
        "id": "_MbXaq3KC3Df"
      },
      "outputs": [],
      "source": [
        "optimizer = torch.optim.Adam(model.parameters(), lr=1e-3)"
      ]
    },
    {
      "cell_type": "markdown",
      "metadata": {
        "id": "3g0_Us6lIInS"
      },
      "source": [
        "Определяем функцию для обучения нейронной сети\n",
        "\n"
      ]
    },
    {
      "cell_type": "code",
      "execution_count": null,
      "metadata": {
        "id": "0dvzdzOIIInS"
      },
      "outputs": [],
      "source": [
        "def train(dataloader, model, loss_fn, optimizer):\n",
        "    size = len(dataloader.dataset)\n",
        "    # Включаем режим обучения\n",
        "    model.train()\n",
        "    # В цикле получаем все мини-выборки\n",
        "    # X - изображение\n",
        "    # y - номер класса\n",
        "    for batch, (X, y) in enumerate(dataloader):\n",
        "        # Передаем данные на устройство\n",
        "        X, y = X.to(device), y.to(device)\n",
        "        # Обнуляем значения градиента\n",
        "        optimizer.zero_grad()\n",
        "\n",
        "        # Расчитываем данные на выходе из нейронной сети\n",
        "        pred = model(X)\n",
        "\n",
        "        # Расчитываем значение ошибки\n",
        "        loss = loss_fn(pred, y)\n",
        "\n",
        "        # Обратное распространение ошибки\n",
        "        loss.backward()\n",
        "\n",
        "        # Выполняем шаг обучения (изменение весов)\n",
        "        optimizer.step()\n",
        "\n",
        "        # Печатаем прогресс каждые 50 мини-выборок\n",
        "        if batch % 50 == 0:\n",
        "            loss, current = loss.item(), (batch + 1) * len(X)\n",
        "            print(f\"Ошибка: {loss:>7f}  [{current:>5d}/{size:>5d}]\")"
      ]
    },
    {
      "cell_type": "markdown",
      "metadata": {
        "id": "8etBONqmIInS"
      },
      "source": [
        "Определяем функцию для проверки качества работы нейронной сети на тестовом наборе данных"
      ]
    },
    {
      "cell_type": "code",
      "execution_count": null,
      "metadata": {
        "id": "u29pLBHpIInS"
      },
      "outputs": [],
      "source": [
        "def test(dataloader, model, loss_fn):\n",
        "    size = len(dataloader.dataset)\n",
        "    num_batches = len(dataloader)\n",
        "    # Включаем режим оценки качества модели\n",
        "    model.eval()\n",
        "    # Начальные значения\n",
        "    test_loss, correct = 0, 0\n",
        "    # Для оценки качества работы не нужно рассчитывать градиент\n",
        "    with torch.no_grad():\n",
        "        # В цикле проходим по мини-выборкам из тестового набора данных\n",
        "        for X, y in dataloader:\n",
        "            # Передаем данные на устройство\n",
        "            X, y = X.to(device), y.to(device)\n",
        "            pred = model(X)\n",
        "            test_loss += loss_fn(pred, y).item()\n",
        "            correct += (pred.argmax(1) == y).type(torch.float).sum().item()\n",
        "    test_loss /= num_batches\n",
        "    correct /= size\n",
        "    print(f\"Качество на тестовом наборе данных: \\n Доля правильных ответов: {(100*correct):>0.1f}%, средняя ошибка: {test_loss:>8f} \\n\")"
      ]
    },
    {
      "cell_type": "markdown",
      "metadata": {
        "id": "jB9w6TnAIInS"
      },
      "source": [
        "Обучаем модель в течение 10 эпох\n",
        "\n"
      ]
    },
    {
      "cell_type": "code",
      "execution_count": null,
      "metadata": {
        "colab": {
          "base_uri": "https://localhost:8080/"
        },
        "id": "47jhcWUOIInS",
        "outputId": "00f6f687-c896-4496-bdee-b9720ee82824"
      },
      "outputs": [
        {
          "name": "stdout",
          "output_type": "stream",
          "text": [
            "Эпоха 1\n",
            "-------------------------------\n",
            "Ошибка: 2.303020  [  256/50000]\n",
            "Ошибка: 1.905954  [13056/50000]\n",
            "Ошибка: 1.720232  [25856/50000]\n",
            "Ошибка: 1.505373  [38656/50000]\n",
            "Качество на тестовом наборе данных: \n",
            " Доля правильных ответов: 49.2%, средняя ошибка: 1.412370 \n",
            "\n",
            "Эпоха 2\n",
            "-------------------------------\n",
            "Ошибка: 1.474615  [  256/50000]\n",
            "Ошибка: 1.236939  [13056/50000]\n",
            "Ошибка: 1.205344  [25856/50000]\n",
            "Ошибка: 1.098535  [38656/50000]\n",
            "Качество на тестовом наборе данных: \n",
            " Доля правильных ответов: 63.1%, средняя ошибка: 1.026261 \n",
            "\n",
            "Эпоха 3\n",
            "-------------------------------\n",
            "Ошибка: 0.974184  [  256/50000]\n",
            "Ошибка: 0.906735  [13056/50000]\n",
            "Ошибка: 0.988402  [25856/50000]\n",
            "Ошибка: 0.869275  [38656/50000]\n",
            "Качество на тестовом наборе данных: \n",
            " Доля правильных ответов: 68.6%, средняя ошибка: 0.885442 \n",
            "\n",
            "Эпоха 4\n",
            "-------------------------------\n",
            "Ошибка: 0.879549  [  256/50000]\n",
            "Ошибка: 0.754406  [13056/50000]\n",
            "Ошибка: 0.766176  [25856/50000]\n",
            "Ошибка: 0.643175  [38656/50000]\n",
            "Качество на тестовом наборе данных: \n",
            " Доля правильных ответов: 73.6%, средняя ошибка: 0.767419 \n",
            "\n",
            "Эпоха 5\n",
            "-------------------------------\n",
            "Ошибка: 0.644149  [  256/50000]\n",
            "Ошибка: 0.674362  [13056/50000]\n",
            "Ошибка: 0.593428  [25856/50000]\n",
            "Ошибка: 0.663322  [38656/50000]\n",
            "Качество на тестовом наборе данных: \n",
            " Доля правильных ответов: 74.5%, средняя ошибка: 0.762621 \n",
            "\n",
            "Эпоха 6\n",
            "-------------------------------\n",
            "Ошибка: 0.554543  [  256/50000]\n",
            "Ошибка: 0.590393  [13056/50000]\n",
            "Ошибка: 0.475023  [25856/50000]\n",
            "Ошибка: 0.430555  [38656/50000]\n",
            "Качество на тестовом наборе данных: \n",
            " Доля правильных ответов: 78.2%, средняя ошибка: 0.655011 \n",
            "\n",
            "Эпоха 7\n",
            "-------------------------------\n",
            "Ошибка: 0.365907  [  256/50000]\n",
            "Ошибка: 0.405590  [13056/50000]\n",
            "Ошибка: 0.377237  [25856/50000]\n",
            "Ошибка: 0.390800  [38656/50000]\n",
            "Качество на тестовом наборе данных: \n",
            " Доля правильных ответов: 77.8%, средняя ошибка: 0.684024 \n",
            "\n",
            "Эпоха 8\n",
            "-------------------------------\n",
            "Ошибка: 0.404893  [  256/50000]\n",
            "Ошибка: 0.317151  [13056/50000]\n",
            "Ошибка: 0.422943  [25856/50000]\n",
            "Ошибка: 0.432978  [38656/50000]\n",
            "Качество на тестовом наборе данных: \n",
            " Доля правильных ответов: 79.1%, средняя ошибка: 0.668903 \n",
            "\n",
            "Эпоха 9\n",
            "-------------------------------\n",
            "Ошибка: 0.184401  [  256/50000]\n",
            "Ошибка: 0.201612  [13056/50000]\n",
            "Ошибка: 0.260805  [25856/50000]\n",
            "Ошибка: 0.305982  [38656/50000]\n",
            "Качество на тестовом наборе данных: \n",
            " Доля правильных ответов: 80.0%, средняя ошибка: 0.709038 \n",
            "\n",
            "Эпоха 10\n",
            "-------------------------------\n",
            "Ошибка: 0.116885  [  256/50000]\n",
            "Ошибка: 0.156320  [13056/50000]\n",
            "Ошибка: 0.218700  [25856/50000]\n",
            "Ошибка: 0.170978  [38656/50000]\n",
            "Качество на тестовом наборе данных: \n",
            " Доля правильных ответов: 79.5%, средняя ошибка: 0.793160 \n",
            "\n",
            "Обучение завершено!\n"
          ]
        }
      ],
      "source": [
        "epochs = 10\n",
        "for t in range(epochs):\n",
        "    print(f\"Эпоха {t+1}\\n-------------------------------\")\n",
        "    # Обучение модели\n",
        "    train(trainloader, model, loss_fn, optimizer)\n",
        "    # Оценка качества работы на тестовом объеме данных\n",
        "    test(testloader, model, loss_fn)\n",
        "print(\"Обучение завершено!\")"
      ]
    },
    {
      "cell_type": "markdown",
      "metadata": {
        "id": "vJAS6QL-IInT"
      },
      "source": [
        "## Сохранение обученной модели\n",
        "\n"
      ]
    },
    {
      "cell_type": "markdown",
      "metadata": {
        "id": "rpnPUVx2nUT4"
      },
      "source": [
        "Параметры модели"
      ]
    },
    {
      "cell_type": "code",
      "execution_count": null,
      "metadata": {
        "colab": {
          "base_uri": "https://localhost:8080/"
        },
        "id": "rmME6nMOnSuq",
        "outputId": "2a9c615d-b86f-4269-c4c5-7a29f2b73568"
      },
      "outputs": [
        {
          "data": {
            "text/plain": [
              "OrderedDict([('network.0.weight',\n",
              "              tensor([[[[-1.6138e-01,  1.7496e-01, -1.1263e-01],\n",
              "                        [ 1.6202e-01,  1.9628e-01,  1.7669e-01],\n",
              "                        [ 1.2722e-01,  2.4790e-02, -7.1190e-02]],\n",
              "              \n",
              "                       [[-1.9344e-01, -1.4006e-02, -2.8429e-02],\n",
              "                        [-8.2738e-02,  2.0179e-01,  3.2212e-02],\n",
              "                        [ 4.0644e-02, -1.1436e-01,  1.2649e-01]],\n",
              "              \n",
              "                       [[-8.1036e-02,  1.3174e-01,  8.0093e-02],\n",
              "                        [-7.2276e-02, -1.5996e-01,  1.5380e-01],\n",
              "                        [ 1.0363e-01, -1.7346e-01, -2.2918e-01]]],\n",
              "              \n",
              "              \n",
              "                      [[[ 1.1511e-01,  9.2250e-03,  6.2382e-02],\n",
              "                        [-1.9252e-02,  1.6367e-01,  7.1226e-02],\n",
              "                        [-6.2349e-02, -9.5559e-02,  1.4525e-01]],\n",
              "              \n",
              "                       [[-3.2396e-02, -3.8722e-02, -1.1051e-01],\n",
              "                        [-9.6706e-03,  1.5256e-01,  1.5589e-01],\n",
              "                        [-1.8722e-01, -2.1351e-01, -2.1647e-02]],\n",
              "              \n",
              "                       [[ 2.0770e-01, -7.1625e-02, -7.2278e-02],\n",
              "                        [ 1.0328e-01, -1.4059e-01,  8.0875e-02],\n",
              "                        [-8.6739e-02,  2.0102e-02, -7.3653e-02]]],\n",
              "              \n",
              "              \n",
              "                      [[[ 2.0185e-01, -1.4484e-01, -1.4087e-01],\n",
              "                        [ 6.8057e-02, -1.6464e-01, -8.6120e-02],\n",
              "                        [ 7.6665e-02, -5.0454e-02,  2.2017e-01]],\n",
              "              \n",
              "                       [[ 1.1902e-01,  2.0642e-02,  1.1310e-01],\n",
              "                        [ 1.6958e-01, -1.1419e-01,  3.4990e-02],\n",
              "                        [-1.5987e-01,  2.9569e-02,  1.9554e-01]],\n",
              "              \n",
              "                       [[ 1.0690e-01, -1.6586e-01, -1.5496e-01],\n",
              "                        [-1.5077e-02, -6.0767e-02,  9.5976e-02],\n",
              "                        [-1.9874e-01, -1.2122e-01,  9.9394e-02]]],\n",
              "              \n",
              "              \n",
              "                      [[[ 6.5549e-02, -8.2974e-02, -7.2191e-02],\n",
              "                        [ 1.2281e-01, -8.1387e-02, -3.7891e-02],\n",
              "                        [-3.0951e-02, -6.4358e-02, -1.6774e-01]],\n",
              "              \n",
              "                       [[ 1.0688e-01, -3.6144e-02, -6.3772e-02],\n",
              "                        [ 8.0707e-02, -1.0733e-02, -1.8902e-01],\n",
              "                        [ 3.7857e-02,  2.3302e-01,  1.3448e-01]],\n",
              "              \n",
              "                       [[-1.0799e-01, -1.6879e-02, -6.3041e-02],\n",
              "                        [-5.6160e-02,  3.9594e-02, -1.4864e-01],\n",
              "                        [ 1.7562e-03,  2.5227e-01,  7.5819e-02]]],\n",
              "              \n",
              "              \n",
              "                      [[[ 1.9029e-01,  1.9490e-01, -2.0655e-01],\n",
              "                        [ 1.2604e-01, -1.9715e-01,  4.3537e-02],\n",
              "                        [-1.5398e-02, -5.2715e-03, -5.9666e-03]],\n",
              "              \n",
              "                       [[ 2.3070e-01,  5.5512e-02, -1.8976e-01],\n",
              "                        [-9.1170e-02, -4.7181e-02, -1.7743e-01],\n",
              "                        [-1.6814e-01,  1.9654e-01,  3.6982e-02]],\n",
              "              \n",
              "                       [[-1.6857e-02,  5.1484e-02,  1.5356e-01],\n",
              "                        [ 1.1420e-01, -1.8084e-01, -1.8886e-01],\n",
              "                        [-1.2254e-01,  2.1252e-01, -1.0249e-01]]],\n",
              "              \n",
              "              \n",
              "                      [[[-9.3362e-02, -2.6145e-02, -5.2505e-02],\n",
              "                        [-1.4313e-02, -1.7434e-01, -1.2047e-01],\n",
              "                        [-6.3557e-02, -1.2439e-01,  1.4566e-01]],\n",
              "              \n",
              "                       [[ 1.4103e-01,  1.9618e-01,  1.5455e-01],\n",
              "                        [-2.6791e-02, -1.0466e-01,  9.1627e-02],\n",
              "                        [-6.1891e-02, -2.8469e-03, -7.5121e-02]],\n",
              "              \n",
              "                       [[-8.5381e-03,  1.9802e-01, -2.6691e-02],\n",
              "                        [ 1.1482e-01,  8.0857e-02,  1.8868e-02],\n",
              "                        [ 4.1072e-02,  9.5097e-02, -4.5272e-02]]],\n",
              "              \n",
              "              \n",
              "                      [[[-9.8578e-03, -1.2226e-01,  2.0929e-01],\n",
              "                        [-6.8207e-02, -1.9529e-01,  1.1693e-01],\n",
              "                        [ 1.8344e-02,  1.1874e-01,  7.1386e-02]],\n",
              "              \n",
              "                       [[ 9.4797e-02, -2.0905e-01,  5.1671e-02],\n",
              "                        [ 1.8000e-01, -2.4299e-01, -1.4699e-01],\n",
              "                        [ 1.1792e-01,  6.0656e-02,  1.6463e-02]],\n",
              "              \n",
              "                       [[-5.1929e-02,  6.0390e-02,  2.1533e-01],\n",
              "                        [-1.1881e-01, -1.2294e-01, -8.3488e-02],\n",
              "                        [ 1.8655e-01,  7.5030e-02, -1.4253e-01]]],\n",
              "              \n",
              "              \n",
              "                      [[[-1.7185e-01,  1.3393e-01, -1.3849e-01],\n",
              "                        [-5.0286e-02,  2.6579e-02,  5.9331e-02],\n",
              "                        [ 2.6038e-02,  2.0941e-01, -7.6185e-02]],\n",
              "              \n",
              "                       [[ 1.0155e-01,  1.9021e-01, -1.0872e-01],\n",
              "                        [ 1.3797e-01, -9.6291e-02, -1.0808e-01],\n",
              "                        [-1.6066e-01,  1.0803e-01,  9.2453e-02]],\n",
              "              \n",
              "                       [[ 1.3869e-01, -1.5076e-01, -9.9410e-02],\n",
              "                        [-9.9940e-02,  6.7436e-02, -9.5184e-02],\n",
              "                        [ 1.4319e-01, -1.0156e-01,  3.8246e-02]]],\n",
              "              \n",
              "              \n",
              "                      [[[ 1.7265e-01, -1.0477e-01,  1.5290e-01],\n",
              "                        [ 1.2790e-01,  1.0584e-01, -1.5843e-01],\n",
              "                        [-1.3745e-01,  2.2804e-01, -4.6149e-02]],\n",
              "              \n",
              "                       [[-9.5252e-03, -1.2484e-01, -1.3105e-01],\n",
              "                        [ 6.5098e-03,  5.7828e-03, -1.1741e-01],\n",
              "                        [-6.3684e-02,  1.7881e-01, -1.3709e-01]],\n",
              "              \n",
              "                       [[-1.1563e-01, -1.5004e-01,  1.5882e-01],\n",
              "                        [-1.5592e-01,  2.0215e-01, -3.5045e-02],\n",
              "                        [ 2.0426e-01, -3.9120e-02, -1.0176e-01]]],\n",
              "              \n",
              "              \n",
              "                      [[[ 1.5485e-01,  2.9665e-02,  1.3398e-01],\n",
              "                        [-4.7158e-02,  8.2407e-02, -6.8713e-02],\n",
              "                        [-1.5461e-01,  3.1674e-02,  1.1522e-01]],\n",
              "              \n",
              "                       [[ 4.5104e-05, -1.5380e-01, -9.7103e-03],\n",
              "                        [-1.7161e-01, -1.0186e-01, -3.0128e-02],\n",
              "                        [-1.3177e-01,  1.4964e-01,  5.7235e-02]],\n",
              "              \n",
              "                       [[-1.5997e-01,  1.4214e-01,  1.8413e-01],\n",
              "                        [ 3.6187e-02, -9.4811e-02, -6.8771e-02],\n",
              "                        [ 5.4681e-03,  1.2145e-01,  1.8604e-01]]],\n",
              "              \n",
              "              \n",
              "                      [[[ 1.2553e-01, -1.4543e-01,  6.5683e-02],\n",
              "                        [-1.7183e-01,  1.5295e-01, -9.3682e-02],\n",
              "                        [ 8.1764e-02, -1.9655e-01, -4.9681e-02]],\n",
              "              \n",
              "                       [[-1.5895e-01, -3.2267e-02,  5.4661e-03],\n",
              "                        [ 1.2241e-01,  1.8676e-01,  8.9900e-02],\n",
              "                        [ 1.4550e-01, -7.1303e-02,  1.7451e-01]],\n",
              "              \n",
              "                       [[-1.0648e-01, -1.8062e-01, -1.0126e-01],\n",
              "                        [ 1.4608e-01,  1.8776e-01, -3.0290e-02],\n",
              "                        [-2.4539e-02, -1.6236e-01,  1.6560e-01]]],\n",
              "              \n",
              "              \n",
              "                      [[[-8.5262e-02, -1.8795e-01, -1.7564e-01],\n",
              "                        [ 6.3456e-02,  6.8128e-04, -1.1037e-01],\n",
              "                        [ 1.8087e-01,  5.7371e-02,  2.1016e-01]],\n",
              "              \n",
              "                       [[-1.2967e-01, -5.4533e-02,  1.6433e-02],\n",
              "                        [-6.7621e-03, -5.7788e-02,  2.1268e-01],\n",
              "                        [-6.1722e-02, -8.4174e-02,  2.3132e-01]],\n",
              "              \n",
              "                       [[ 1.8794e-01, -9.0947e-02,  1.2756e-01],\n",
              "                        [ 1.1152e-02, -1.8947e-01, -3.9748e-02],\n",
              "                        [ 2.7056e-03, -1.7982e-01,  1.1512e-01]]],\n",
              "              \n",
              "              \n",
              "                      [[[ 1.2753e-01,  8.0638e-02,  1.1911e-01],\n",
              "                        [-2.0767e-02, -2.2475e-01,  1.2881e-01],\n",
              "                        [-2.1878e-01,  1.1840e-01, -7.6419e-03]],\n",
              "              \n",
              "                       [[-3.3390e-02, -1.9435e-01,  1.3809e-01],\n",
              "                        [-1.8475e-01,  3.2777e-02,  1.0677e-01],\n",
              "                        [-1.8339e-01,  1.3261e-01, -1.7128e-02]],\n",
              "              \n",
              "                       [[-4.1210e-02, -1.7253e-01,  1.1528e-01],\n",
              "                        [-1.4104e-01, -1.1419e-01,  1.3234e-01],\n",
              "                        [ 1.6038e-01, -4.1415e-02,  1.1879e-01]]],\n",
              "              \n",
              "              \n",
              "                      [[[-9.6997e-02,  5.0796e-02,  2.5377e-02],\n",
              "                        [-7.5712e-02, -1.6495e-01,  9.6773e-02],\n",
              "                        [ 1.4915e-01,  1.7045e-01,  2.8628e-02]],\n",
              "              \n",
              "                       [[ 1.4667e-01, -8.7990e-02, -8.2295e-02],\n",
              "                        [ 6.7019e-02,  4.3740e-02, -7.7417e-02],\n",
              "                        [-5.7286e-02, -1.2727e-01, -1.5950e-01]],\n",
              "              \n",
              "                       [[-7.2711e-02, -1.2648e-01, -5.8025e-02],\n",
              "                        [ 1.5443e-01, -1.0101e-03, -1.5758e-01],\n",
              "                        [-1.6928e-02, -4.0786e-02,  1.7714e-01]]],\n",
              "              \n",
              "              \n",
              "                      [[[-2.1238e-01,  6.8411e-03,  9.3952e-02],\n",
              "                        [-6.5535e-02,  1.6184e-01, -6.3103e-02],\n",
              "                        [ 1.8973e-01, -5.6304e-03, -2.2245e-01]],\n",
              "              \n",
              "                       [[ 1.3319e-01, -2.4332e-02,  1.4041e-01],\n",
              "                        [ 1.9582e-01, -9.8019e-02, -2.0675e-01],\n",
              "                        [ 1.2946e-01,  1.4976e-01, -6.3118e-02]],\n",
              "              \n",
              "                       [[ 2.2271e-02,  1.1227e-01,  1.2465e-01],\n",
              "                        [-7.5975e-02, -8.4720e-02, -7.3181e-02],\n",
              "                        [ 1.9015e-02, -2.2994e-02, -2.1913e-01]]],\n",
              "              \n",
              "              \n",
              "                      [[[ 5.6997e-02, -4.2326e-02, -9.3214e-02],\n",
              "                        [-1.2611e-01, -1.0868e-01, -2.0969e-01],\n",
              "                        [-1.6108e-01,  1.2150e-01, -3.3997e-02]],\n",
              "              \n",
              "                       [[ 1.5163e-01,  1.7598e-01, -2.8853e-02],\n",
              "                        [-5.3274e-02,  8.8914e-02,  1.0892e-01],\n",
              "                        [ 2.4303e-02, -3.4541e-02, -5.4582e-02]],\n",
              "              \n",
              "                       [[ 2.9966e-02,  1.8977e-01, -1.0468e-01],\n",
              "                        [-4.4510e-02,  9.2613e-02, -1.2448e-01],\n",
              "                        [ 1.6171e-01, -1.8090e-01,  6.0231e-02]]],\n",
              "              \n",
              "              \n",
              "                      [[[-8.5799e-02,  1.4823e-01,  1.4740e-01],\n",
              "                        [ 4.0402e-02, -1.9010e-01,  1.4846e-01],\n",
              "                        [-1.2604e-01, -6.4162e-02, -1.4066e-01]],\n",
              "              \n",
              "                       [[-9.6458e-02, -1.9649e-01,  1.0507e-01],\n",
              "                        [ 7.0155e-02, -8.0266e-02,  1.9680e-01],\n",
              "                        [ 1.7186e-01, -6.0327e-02,  1.8150e-01]],\n",
              "              \n",
              "                       [[ 2.5129e-02, -3.2097e-02, -9.9558e-03],\n",
              "                        [ 3.5006e-02, -1.4369e-01,  5.4698e-02],\n",
              "                        [-1.7556e-02, -8.9117e-02,  5.1696e-02]]],\n",
              "              \n",
              "              \n",
              "                      [[[ 4.4002e-02,  1.2110e-01, -2.8315e-02],\n",
              "                        [-2.3680e-04,  1.5953e-01, -7.9262e-03],\n",
              "                        [ 1.0314e-01, -7.5524e-02, -2.1014e-01]],\n",
              "              \n",
              "                       [[-1.6325e-01, -1.5594e-01, -1.6729e-01],\n",
              "                        [ 2.0791e-01,  2.3256e-01,  6.4421e-02],\n",
              "                        [-1.2975e-01, -7.9003e-02, -1.4564e-01]],\n",
              "              \n",
              "                       [[-1.5972e-01,  1.2076e-01, -1.0544e-01],\n",
              "                        [ 2.0255e-01,  1.1145e-01,  6.7306e-02],\n",
              "                        [-5.3101e-02,  2.1122e-01, -1.2797e-01]]],\n",
              "              \n",
              "              \n",
              "                      [[[-4.7664e-02,  1.5676e-01, -1.1481e-01],\n",
              "                        [-1.7876e-01, -4.0740e-02,  3.9926e-03],\n",
              "                        [-1.6555e-01, -4.1138e-02,  1.0103e-01]],\n",
              "              \n",
              "                       [[ 1.6599e-01,  1.6577e-01,  1.6912e-01],\n",
              "                        [-1.8593e-01,  1.4433e-01, -3.5851e-02],\n",
              "                        [ 3.5210e-02, -2.7951e-02, -3.1925e-02]],\n",
              "              \n",
              "                       [[ 9.7313e-02,  1.6173e-01,  9.5957e-02],\n",
              "                        [ 5.6646e-02, -1.6072e-01, -8.9283e-02],\n",
              "                        [-9.3263e-02, -3.4274e-02, -1.7533e-01]]],\n",
              "              \n",
              "              \n",
              "                      [[[-1.2133e-01, -8.9716e-02, -1.1551e-01],\n",
              "                        [ 1.6148e-01, -4.3482e-02, -2.0162e-01],\n",
              "                        [-1.3020e-01, -1.0246e-02,  1.3326e-01]],\n",
              "              \n",
              "                       [[-8.3561e-02,  1.8638e-01, -5.5855e-02],\n",
              "                        [ 1.4638e-01, -1.1410e-01,  8.1934e-02],\n",
              "                        [ 5.7595e-02, -4.9246e-02, -1.5939e-01]],\n",
              "              \n",
              "                       [[-1.1069e-01,  1.2288e-01,  2.1907e-01],\n",
              "                        [ 1.2142e-01, -6.0182e-02,  1.4931e-02],\n",
              "                        [ 1.1131e-01,  1.1641e-01, -1.0973e-01]]],\n",
              "              \n",
              "              \n",
              "                      [[[ 4.1322e-02,  1.1828e-01, -1.9246e-01],\n",
              "                        [-2.1966e-01,  1.5810e-01, -2.0689e-02],\n",
              "                        [ 9.4083e-02, -3.2566e-02, -1.7509e-01]],\n",
              "              \n",
              "                       [[ 1.8202e-02,  2.4074e-02, -8.2560e-02],\n",
              "                        [-1.4331e-01,  1.6715e-01,  1.6006e-01],\n",
              "                        [-1.2603e-01,  1.3228e-01,  1.9610e-01]],\n",
              "              \n",
              "                       [[ 9.5296e-02, -1.8809e-01,  9.1483e-02],\n",
              "                        [ 1.1123e-01, -1.2083e-01, -2.1719e-01],\n",
              "                        [ 5.5660e-02,  1.0930e-01, -1.3855e-01]]],\n",
              "              \n",
              "              \n",
              "                      [[[ 7.2694e-02,  1.7747e-01, -1.4418e-01],\n",
              "                        [-4.0618e-03, -3.3776e-02, -1.1641e-01],\n",
              "                        [-1.9627e-01,  9.2202e-02, -5.3676e-02]],\n",
              "              \n",
              "                       [[ 7.0353e-02,  1.9228e-01,  3.0364e-02],\n",
              "                        [-1.0308e-01,  4.3990e-02,  5.4844e-02],\n",
              "                        [ 2.4582e-02, -4.6037e-02, -7.0243e-02]],\n",
              "              \n",
              "                       [[-2.3723e-01,  3.6479e-02, -2.2848e-01],\n",
              "                        [ 8.3820e-02,  1.8982e-01,  9.2655e-04],\n",
              "                        [-1.0290e-01,  5.8768e-02,  1.6439e-01]]],\n",
              "              \n",
              "              \n",
              "                      [[[ 1.1895e-01, -2.0110e-01, -6.0279e-02],\n",
              "                        [-1.7913e-01,  8.8160e-02, -2.9629e-02],\n",
              "                        [-3.6074e-02, -1.1577e-01,  1.7907e-01]],\n",
              "              \n",
              "                       [[ 2.6987e-02,  6.7052e-02, -4.6911e-02],\n",
              "                        [-5.3469e-02, -1.8635e-01,  1.8001e-01],\n",
              "                        [ 1.4247e-01,  1.0786e-01,  3.3987e-02]],\n",
              "              \n",
              "                       [[ 1.7494e-01, -5.7918e-02, -1.5418e-01],\n",
              "                        [-1.2907e-01,  1.3572e-01, -5.3411e-02],\n",
              "                        [-9.4685e-03,  1.2919e-01,  1.9343e-01]]],\n",
              "              \n",
              "              \n",
              "                      [[[ 9.4246e-02,  7.8634e-02,  1.5662e-01],\n",
              "                        [ 9.1973e-02, -1.8399e-01, -1.3836e-01],\n",
              "                        [-1.7525e-01,  1.8567e-01, -7.7604e-02]],\n",
              "              \n",
              "                       [[ 1.8339e-01, -2.0734e-01, -6.4098e-03],\n",
              "                        [-5.7848e-02, -5.9362e-02,  2.1828e-01],\n",
              "                        [-7.2522e-02, -9.0656e-02,  2.2105e-01]],\n",
              "              \n",
              "                       [[ 5.6482e-03, -2.3665e-01, -7.6722e-02],\n",
              "                        [-1.0536e-01,  9.1558e-02, -2.7176e-02],\n",
              "                        [ 1.1525e-01,  5.6348e-02,  3.0004e-02]]],\n",
              "              \n",
              "              \n",
              "                      [[[ 1.1455e-01,  2.3004e-01, -2.6938e-02],\n",
              "                        [ 8.6803e-02, -2.7696e-02, -7.3547e-02],\n",
              "                        [-4.6585e-02, -7.6023e-02, -1.8800e-01]],\n",
              "              \n",
              "                       [[-5.0390e-02,  1.4807e-01, -6.4907e-03],\n",
              "                        [ 9.2255e-02,  1.2833e-01, -1.7808e-01],\n",
              "                        [-2.0824e-01, -1.3859e-02,  1.7647e-01]],\n",
              "              \n",
              "                       [[-7.7069e-02, -1.1507e-01, -1.8598e-01],\n",
              "                        [-1.7611e-01,  1.8700e-01, -8.3447e-02],\n",
              "                        [ 1.2787e-01,  2.1267e-01,  5.7023e-02]]],\n",
              "              \n",
              "              \n",
              "                      [[[-9.2756e-02,  1.6798e-01,  1.1750e-01],\n",
              "                        [-5.8638e-02,  1.1557e-01, -1.0355e-01],\n",
              "                        [-1.7420e-01,  1.8024e-01, -1.2442e-01]],\n",
              "              \n",
              "                       [[ 1.3309e-01, -1.3529e-01, -6.8867e-02],\n",
              "                        [ 2.3071e-02, -2.0833e-01, -1.9927e-01],\n",
              "                        [-1.1492e-01, -1.1284e-01,  1.1394e-01]],\n",
              "              \n",
              "                       [[ 9.2507e-02, -1.3634e-01,  2.0187e-01],\n",
              "                        [ 8.7503e-02, -3.6550e-02, -8.3169e-02],\n",
              "                        [-1.0773e-01,  1.0781e-01,  2.4573e-02]]],\n",
              "              \n",
              "              \n",
              "                      [[[-1.8433e-01, -3.1145e-02, -5.9810e-02],\n",
              "                        [-9.9920e-02,  2.2351e-01, -2.0016e-01],\n",
              "                        [ 2.2652e-02,  1.0464e-02, -7.3303e-02]],\n",
              "              \n",
              "                       [[-1.1512e-01, -7.1515e-02, -1.0750e-01],\n",
              "                        [ 1.8950e-01, -9.4148e-02,  1.5106e-01],\n",
              "                        [-3.7171e-02,  1.6863e-01,  5.6519e-02]],\n",
              "              \n",
              "                       [[-1.9141e-01,  2.1304e-01,  1.5636e-01],\n",
              "                        [ 7.7270e-02,  2.2378e-01, -7.9345e-02],\n",
              "                        [-8.5498e-02, -3.0940e-02, -6.4401e-02]]],\n",
              "              \n",
              "              \n",
              "                      [[[ 1.1335e-01, -3.3479e-02, -4.2965e-02],\n",
              "                        [-3.8165e-02,  2.1063e-01, -7.3899e-02],\n",
              "                        [ 2.5761e-02,  6.3171e-02, -1.2646e-01]],\n",
              "              \n",
              "                       [[-8.9952e-02, -1.4704e-01,  1.2078e-03],\n",
              "                        [ 1.1028e-01,  9.2034e-02, -2.5192e-01],\n",
              "                        [-4.7070e-02,  1.7468e-01, -6.0327e-02]],\n",
              "              \n",
              "                       [[ 3.5842e-02,  1.7090e-01, -3.0663e-02],\n",
              "                        [ 5.9433e-02, -1.6376e-02, -1.6115e-01],\n",
              "                        [ 4.7792e-02, -1.2858e-02,  2.0052e-02]]],\n",
              "              \n",
              "              \n",
              "                      [[[-1.8493e-01,  3.1574e-02,  7.6845e-03],\n",
              "                        [ 1.3341e-01, -3.0265e-02, -6.6062e-02],\n",
              "                        [ 1.6061e-01,  6.9844e-02,  1.3946e-01]],\n",
              "              \n",
              "                       [[ 3.8165e-02, -6.1414e-02, -1.0041e-01],\n",
              "                        [-2.3263e-01,  6.6249e-02, -1.4828e-01],\n",
              "                        [ 6.4008e-03,  1.2823e-01, -6.0411e-02]],\n",
              "              \n",
              "                       [[ 7.2048e-02,  1.6021e-01, -1.3156e-01],\n",
              "                        [ 1.4184e-01,  1.5891e-01,  8.2858e-02],\n",
              "                        [ 1.4034e-01, -2.3121e-02,  7.6006e-02]]],\n",
              "              \n",
              "              \n",
              "                      [[[ 1.5898e-01, -2.8774e-02, -1.0538e-01],\n",
              "                        [ 3.0831e-02,  2.4300e-02,  1.7248e-01],\n",
              "                        [-8.9485e-02,  1.7658e-01, -4.2454e-02]],\n",
              "              \n",
              "                       [[-8.2337e-02, -6.0861e-02, -2.0349e-01],\n",
              "                        [ 3.5263e-03,  3.1893e-02,  2.4410e-03],\n",
              "                        [-1.6976e-01,  4.1300e-02, -2.4354e-01]],\n",
              "              \n",
              "                       [[-1.0453e-01, -3.2272e-02, -4.7886e-02],\n",
              "                        [ 5.5248e-02,  1.1399e-01,  1.9487e-01],\n",
              "                        [-7.6929e-03,  2.1063e-01,  3.8212e-02]]],\n",
              "              \n",
              "              \n",
              "                      [[[ 2.4073e-02,  4.5316e-02,  2.4155e-01],\n",
              "                        [ 7.8576e-03,  1.4012e-02, -8.9120e-02],\n",
              "                        [-9.3729e-02, -5.8281e-02,  2.0819e-01]],\n",
              "              \n",
              "                       [[-1.4390e-01, -6.1323e-02,  6.2121e-02],\n",
              "                        [-1.2303e-01,  1.4408e-02, -1.6371e-01],\n",
              "                        [-8.5900e-02, -8.2170e-02, -2.4134e-02]],\n",
              "              \n",
              "                       [[ 1.1928e-01, -1.1237e-01,  1.4566e-01],\n",
              "                        [-1.9890e-01, -1.0726e-01,  2.1741e-01],\n",
              "                        [ 1.8587e-01, -1.6970e-02,  1.2747e-01]]],\n",
              "              \n",
              "              \n",
              "                      [[[ 6.3340e-02,  1.8041e-01,  3.6380e-02],\n",
              "                        [ 1.4248e-01,  1.0626e-01, -3.2740e-02],\n",
              "                        [-1.3237e-01, -2.4683e-01, -5.0928e-02]],\n",
              "              \n",
              "                       [[-6.7093e-02,  1.5216e-01, -1.2552e-01],\n",
              "                        [ 7.4891e-02, -1.6030e-01,  8.9490e-02],\n",
              "                        [-2.0004e-01,  8.5744e-02,  1.4849e-01]],\n",
              "              \n",
              "                       [[ 5.9711e-02, -9.7220e-02,  1.6213e-01],\n",
              "                        [ 7.9496e-02,  5.6563e-02, -1.2791e-03],\n",
              "                        [-1.1312e-01, -5.1816e-02, -1.7411e-01]]]], device='cuda:0')),\n",
              "             ('network.0.bias',\n",
              "              tensor([-0.1434,  0.0050,  0.0487, -0.0226,  0.0380, -0.1751,  0.0741,  0.0487,\n",
              "                       0.0062, -0.1544,  0.1000,  0.0729, -0.0243, -0.1644,  0.1122,  0.0171,\n",
              "                       0.0912,  0.1103,  0.0272,  0.1141, -0.1093,  0.0499, -0.1851,  0.0167,\n",
              "                       0.0567, -0.0985,  0.0455,  0.0433, -0.0456,  0.0743,  0.0888,  0.0696],\n",
              "                     device='cuda:0')),\n",
              "             ('network.2.weight',\n",
              "              tensor([[[[ 0.0824, -0.0169,  0.1111],\n",
              "                        [ 0.1109,  0.1074,  0.1002],\n",
              "                        [-0.0672, -0.0110,  0.0321]],\n",
              "              \n",
              "                       [[-0.0099,  0.0172,  0.0410],\n",
              "                        [ 0.0175,  0.0035, -0.0168],\n",
              "                        [ 0.0317, -0.0576, -0.0410]],\n",
              "              \n",
              "                       [[ 0.0203,  0.0414,  0.0825],\n",
              "                        [-0.1228, -0.0753,  0.0532],\n",
              "                        [ 0.0253, -0.1005, -0.1016]],\n",
              "              \n",
              "                       ...,\n",
              "              \n",
              "                       [[-0.0386,  0.0585, -0.0453],\n",
              "                        [-0.0760, -0.0564, -0.0842],\n",
              "                        [ 0.0897, -0.0273,  0.0297]],\n",
              "              \n",
              "                       [[ 0.0245, -0.0611, -0.0770],\n",
              "                        [ 0.0323,  0.0299, -0.0493],\n",
              "                        [ 0.0163,  0.0058,  0.0458]],\n",
              "              \n",
              "                       [[ 0.0513,  0.0119,  0.0208],\n",
              "                        [-0.0206,  0.0361,  0.0192],\n",
              "                        [-0.0541, -0.0675, -0.0730]]],\n",
              "              \n",
              "              \n",
              "                      [[[-0.0234, -0.0374, -0.1309],\n",
              "                        [ 0.0301,  0.0140, -0.0759],\n",
              "                        [-0.0231, -0.0543, -0.0305]],\n",
              "              \n",
              "                       [[-0.0030, -0.0090, -0.0396],\n",
              "                        [ 0.0710, -0.0108,  0.0483],\n",
              "                        [-0.0863, -0.0442,  0.0002]],\n",
              "              \n",
              "                       [[-0.0766, -0.0685, -0.0799],\n",
              "                        [ 0.0374, -0.0455,  0.0110],\n",
              "                        [-0.0909, -0.0603, -0.0770]],\n",
              "              \n",
              "                       ...,\n",
              "              \n",
              "                       [[ 0.0177,  0.0594, -0.0304],\n",
              "                        [ 0.0022, -0.0137,  0.0085],\n",
              "                        [-0.0655, -0.0225, -0.0711]],\n",
              "              \n",
              "                       [[ 0.0443, -0.0074, -0.0284],\n",
              "                        [ 0.0247,  0.0127, -0.0118],\n",
              "                        [-0.1104, -0.0687, -0.0666]],\n",
              "              \n",
              "                       [[-0.0080, -0.0151,  0.0288],\n",
              "                        [-0.0347, -0.0171,  0.0767],\n",
              "                        [-0.0451, -0.0050, -0.0287]]],\n",
              "              \n",
              "              \n",
              "                      [[[-0.0131,  0.0145, -0.0095],\n",
              "                        [-0.0704, -0.0975, -0.0351],\n",
              "                        [-0.1243, -0.0692, -0.0815]],\n",
              "              \n",
              "                       [[ 0.0539, -0.0055,  0.0266],\n",
              "                        [ 0.0355,  0.0776,  0.0553],\n",
              "                        [-0.0365,  0.0254, -0.0158]],\n",
              "              \n",
              "                       [[-0.0786, -0.0110, -0.0037],\n",
              "                        [-0.0507,  0.0375,  0.0344],\n",
              "                        [-0.0027, -0.0387,  0.0207]],\n",
              "              \n",
              "                       ...,\n",
              "              \n",
              "                       [[-0.0583,  0.0079,  0.0442],\n",
              "                        [-0.0239,  0.0360, -0.0421],\n",
              "                        [-0.0501,  0.0198, -0.0160]],\n",
              "              \n",
              "                       [[ 0.0487,  0.0287, -0.0217],\n",
              "                        [ 0.0623,  0.0649,  0.0072],\n",
              "                        [-0.0338,  0.0726,  0.0003]],\n",
              "              \n",
              "                       [[-0.0236, -0.0451,  0.0577],\n",
              "                        [ 0.0080, -0.0219,  0.0426],\n",
              "                        [ 0.0398, -0.0052,  0.0560]]],\n",
              "              \n",
              "              \n",
              "                      ...,\n",
              "              \n",
              "              \n",
              "                      [[[ 0.0203,  0.0610, -0.0546],\n",
              "                        [-0.0240,  0.0275, -0.0231],\n",
              "                        [ 0.0021, -0.0234,  0.0091]],\n",
              "              \n",
              "                       [[-0.0070, -0.0504, -0.0177],\n",
              "                        [-0.0874, -0.0769, -0.0058],\n",
              "                        [ 0.0516, -0.0921, -0.0391]],\n",
              "              \n",
              "                       [[-0.0115,  0.0331,  0.0389],\n",
              "                        [ 0.0297, -0.0191, -0.0006],\n",
              "                        [ 0.0852,  0.0393,  0.0417]],\n",
              "              \n",
              "                       ...,\n",
              "              \n",
              "                       [[-0.0459, -0.0185,  0.0385],\n",
              "                        [ 0.0314, -0.0463,  0.0040],\n",
              "                        [ 0.0680,  0.0798,  0.0083]],\n",
              "              \n",
              "                       [[-0.0274,  0.0457,  0.0318],\n",
              "                        [ 0.0254, -0.0566, -0.0048],\n",
              "                        [-0.0032, -0.0107,  0.0057]],\n",
              "              \n",
              "                       [[-0.0773, -0.0306,  0.0353],\n",
              "                        [-0.0055,  0.0103,  0.0219],\n",
              "                        [ 0.0227, -0.0600, -0.0895]]],\n",
              "              \n",
              "              \n",
              "                      [[[-0.0850, -0.0461, -0.0235],\n",
              "                        [-0.0176, -0.0205,  0.0507],\n",
              "                        [-0.0312, -0.0314, -0.0399]],\n",
              "              \n",
              "                       [[ 0.0399, -0.0231, -0.0624],\n",
              "                        [ 0.0380, -0.0851, -0.0281],\n",
              "                        [ 0.0227, -0.0252, -0.0551]],\n",
              "              \n",
              "                       [[ 0.0385,  0.0943,  0.0386],\n",
              "                        [ 0.0933,  0.0582, -0.0245],\n",
              "                        [-0.0547, -0.0377,  0.0567]],\n",
              "              \n",
              "                       ...,\n",
              "              \n",
              "                       [[-0.0933,  0.0155,  0.0235],\n",
              "                        [ 0.0014,  0.0037, -0.0109],\n",
              "                        [-0.0314, -0.0420, -0.0171]],\n",
              "              \n",
              "                       [[-0.0551,  0.0212, -0.0185],\n",
              "                        [-0.0332,  0.0241,  0.0291],\n",
              "                        [ 0.0269, -0.0348,  0.0276]],\n",
              "              \n",
              "                       [[ 0.0320,  0.0077, -0.0455],\n",
              "                        [ 0.0084, -0.1307, -0.1330],\n",
              "                        [-0.0334, -0.0696, -0.0288]]],\n",
              "              \n",
              "              \n",
              "                      [[[ 0.0116,  0.0361, -0.0568],\n",
              "                        [-0.0273,  0.0398,  0.0237],\n",
              "                        [-0.0465, -0.0535,  0.0059]],\n",
              "              \n",
              "                       [[ 0.0250, -0.0070,  0.0388],\n",
              "                        [-0.0430, -0.0650,  0.0369],\n",
              "                        [ 0.0250, -0.0103,  0.0232]],\n",
              "              \n",
              "                       [[-0.0131,  0.0265,  0.0166],\n",
              "                        [ 0.0565,  0.0186, -0.0570],\n",
              "                        [-0.0545, -0.0640,  0.0335]],\n",
              "              \n",
              "                       ...,\n",
              "              \n",
              "                       [[-0.0134,  0.0255, -0.0317],\n",
              "                        [ 0.0253, -0.0055, -0.0675],\n",
              "                        [-0.0433,  0.0301, -0.0299]],\n",
              "              \n",
              "                       [[-0.0652, -0.0252, -0.0218],\n",
              "                        [ 0.0027, -0.0285, -0.0253],\n",
              "                        [ 0.0294, -0.0375, -0.0373]],\n",
              "              \n",
              "                       [[-0.0103,  0.0259,  0.0147],\n",
              "                        [ 0.0090, -0.0052, -0.0406],\n",
              "                        [-0.0393, -0.0162, -0.0346]]]], device='cuda:0')),\n",
              "             ('network.2.bias',\n",
              "              tensor([-0.0378,  0.0714, -0.0102, -0.0285, -0.0045, -0.0296,  0.0183,  0.0506,\n",
              "                      -0.0461,  0.0264, -0.0107,  0.0638,  0.0543, -0.0148, -0.0610,  0.0066,\n",
              "                      -0.0031,  0.0020, -0.0260, -0.0126,  0.0618, -0.0271,  0.0170,  0.0291,\n",
              "                      -0.0189, -0.0260, -0.0368,  0.0145,  0.0447, -0.0561, -0.0112, -0.0094,\n",
              "                       0.0262, -0.0128, -0.0455, -0.0136, -0.0473,  0.0035, -0.0294, -0.0706,\n",
              "                      -0.0487, -0.0024, -0.0002, -0.0603,  0.0181, -0.0045, -0.0419,  0.0275,\n",
              "                       0.0383, -0.0399,  0.0219, -0.0671, -0.0210, -0.0381, -0.0545,  0.0254,\n",
              "                      -0.0248,  0.0264,  0.0202,  0.0226, -0.0508, -0.0255,  0.0028, -0.0372],\n",
              "                     device='cuda:0')),\n",
              "             ('network.5.weight',\n",
              "              tensor([[[[-0.0102, -0.0303, -0.0064],\n",
              "                        [ 0.0076, -0.0418, -0.0112],\n",
              "                        [-0.0198, -0.0064, -0.0283]],\n",
              "              \n",
              "                       [[ 0.0325, -0.0226,  0.0067],\n",
              "                        [-0.0241, -0.0090, -0.0462],\n",
              "                        [-0.0240,  0.0188, -0.0019]],\n",
              "              \n",
              "                       [[ 0.0231,  0.0141,  0.0057],\n",
              "                        [-0.0224,  0.0201, -0.0394],\n",
              "                        [-0.0075,  0.0286, -0.0051]],\n",
              "              \n",
              "                       ...,\n",
              "              \n",
              "                       [[-0.0205, -0.0298,  0.0288],\n",
              "                        [ 0.0216,  0.0010, -0.0447],\n",
              "                        [ 0.0256, -0.0120, -0.0381]],\n",
              "              \n",
              "                       [[-0.0068, -0.0416, -0.0440],\n",
              "                        [ 0.0075,  0.0187,  0.0335],\n",
              "                        [ 0.0131,  0.0018,  0.0108]],\n",
              "              \n",
              "                       [[-0.0426,  0.0124,  0.0209],\n",
              "                        [-0.0434, -0.0003,  0.0111],\n",
              "                        [-0.0271,  0.0064,  0.0240]]],\n",
              "              \n",
              "              \n",
              "                      [[[-0.0123,  0.0010, -0.0618],\n",
              "                        [-0.0054, -0.0247, -0.0508],\n",
              "                        [-0.0274,  0.0116, -0.0460]],\n",
              "              \n",
              "                       [[ 0.0378,  0.0005, -0.0334],\n",
              "                        [ 0.0079,  0.0041, -0.0253],\n",
              "                        [-0.0569, -0.0557, -0.0254]],\n",
              "              \n",
              "                       [[-0.0451, -0.0247,  0.0049],\n",
              "                        [-0.0073, -0.0060, -0.0416],\n",
              "                        [-0.0606, -0.0269, -0.0494]],\n",
              "              \n",
              "                       ...,\n",
              "              \n",
              "                       [[-0.0334,  0.0221,  0.0196],\n",
              "                        [ 0.0055, -0.0396,  0.0252],\n",
              "                        [-0.0208, -0.0396, -0.0296]],\n",
              "              \n",
              "                       [[-0.0341,  0.0221, -0.0202],\n",
              "                        [-0.0299, -0.0476, -0.0348],\n",
              "                        [ 0.0110, -0.0236, -0.0571]],\n",
              "              \n",
              "                       [[-0.0047,  0.0046,  0.0159],\n",
              "                        [ 0.0195,  0.0297, -0.0004],\n",
              "                        [ 0.0155, -0.0352,  0.0048]]],\n",
              "              \n",
              "              \n",
              "                      [[[-0.0080, -0.0257, -0.0282],\n",
              "                        [ 0.0533,  0.0670,  0.1049],\n",
              "                        [-0.0830,  0.0073,  0.0125]],\n",
              "              \n",
              "                       [[-0.0224, -0.0174,  0.0166],\n",
              "                        [ 0.0259, -0.0192, -0.0167],\n",
              "                        [ 0.0031,  0.0251, -0.0163]],\n",
              "              \n",
              "                       [[ 0.0632,  0.0553,  0.1000],\n",
              "                        [ 0.0958,  0.0408,  0.0311],\n",
              "                        [ 0.0194, -0.0184, -0.0184]],\n",
              "              \n",
              "                       ...,\n",
              "              \n",
              "                       [[ 0.0268,  0.0439, -0.0155],\n",
              "                        [ 0.0077, -0.0231,  0.0034],\n",
              "                        [-0.0083,  0.0333,  0.0111]],\n",
              "              \n",
              "                       [[-0.0347, -0.0337, -0.0309],\n",
              "                        [-0.0437, -0.0704, -0.0952],\n",
              "                        [-0.0261, -0.0909, -0.0920]],\n",
              "              \n",
              "                       [[ 0.0020, -0.0243,  0.0369],\n",
              "                        [ 0.0214,  0.0016,  0.0440],\n",
              "                        [-0.0354, -0.0330,  0.0186]]],\n",
              "              \n",
              "              \n",
              "                      ...,\n",
              "              \n",
              "              \n",
              "                      [[[-0.0623, -0.0907, -0.0409],\n",
              "                        [-0.1476, -0.1339, -0.0849],\n",
              "                        [-0.0168, -0.0640, -0.0355]],\n",
              "              \n",
              "                       [[-0.0091,  0.0111,  0.0474],\n",
              "                        [ 0.0275,  0.0932,  0.0048],\n",
              "                        [-0.0798, -0.0688, -0.0165]],\n",
              "              \n",
              "                       [[ 0.0356,  0.0294,  0.0112],\n",
              "                        [ 0.0268, -0.0086, -0.0037],\n",
              "                        [-0.0327, -0.0397, -0.0774]],\n",
              "              \n",
              "                       ...,\n",
              "              \n",
              "                       [[-0.0593, -0.0716, -0.0731],\n",
              "                        [-0.0159, -0.0290,  0.0141],\n",
              "                        [ 0.0251,  0.0760,  0.0810]],\n",
              "              \n",
              "                       [[-0.0508, -0.0798, -0.1105],\n",
              "                        [ 0.0112, -0.0161, -0.0123],\n",
              "                        [ 0.0489,  0.0239,  0.0784]],\n",
              "              \n",
              "                       [[-0.0314,  0.0349,  0.0374],\n",
              "                        [-0.0388, -0.0093,  0.0014],\n",
              "                        [ 0.0052,  0.0419, -0.0299]]],\n",
              "              \n",
              "              \n",
              "                      [[[ 0.0303, -0.0332, -0.0542],\n",
              "                        [ 0.0268,  0.0037, -0.0183],\n",
              "                        [-0.0107,  0.0242, -0.0483]],\n",
              "              \n",
              "                       [[ 0.0343,  0.0461,  0.0775],\n",
              "                        [ 0.0098,  0.0755,  0.0802],\n",
              "                        [ 0.0314, -0.0079, -0.0429]],\n",
              "              \n",
              "                       [[ 0.0640,  0.0227, -0.0005],\n",
              "                        [ 0.0471,  0.0035,  0.0073],\n",
              "                        [-0.0055, -0.0102, -0.0226]],\n",
              "              \n",
              "                       ...,\n",
              "              \n",
              "                       [[-0.0301, -0.0654, -0.0368],\n",
              "                        [ 0.0319,  0.0009,  0.0129],\n",
              "                        [-0.0558,  0.0074,  0.0024]],\n",
              "              \n",
              "                       [[-0.1129, -0.0598, -0.0630],\n",
              "                        [-0.0788, -0.0447, -0.0519],\n",
              "                        [ 0.0159,  0.0116,  0.0013]],\n",
              "              \n",
              "                       [[ 0.0101,  0.0126,  0.0337],\n",
              "                        [ 0.0239,  0.0054,  0.0341],\n",
              "                        [ 0.0051,  0.0119,  0.0306]]],\n",
              "              \n",
              "              \n",
              "                      [[[-0.0645, -0.1374, -0.0964],\n",
              "                        [-0.0616, -0.0856, -0.0828],\n",
              "                        [-0.0460,  0.0007,  0.0315]],\n",
              "              \n",
              "                       [[-0.0111, -0.0342,  0.0008],\n",
              "                        [ 0.0398, -0.0348,  0.0121],\n",
              "                        [ 0.0415, -0.0068, -0.0226]],\n",
              "              \n",
              "                       [[-0.0746, -0.0475, -0.0301],\n",
              "                        [ 0.0351, -0.0025,  0.0098],\n",
              "                        [ 0.0700,  0.0504,  0.0743]],\n",
              "              \n",
              "                       ...,\n",
              "              \n",
              "                       [[ 0.0378,  0.0047, -0.0109],\n",
              "                        [ 0.0551, -0.0072, -0.0725],\n",
              "                        [ 0.0121, -0.0505,  0.0011]],\n",
              "              \n",
              "                       [[-0.0138,  0.0273, -0.0638],\n",
              "                        [-0.0175,  0.0034, -0.0510],\n",
              "                        [-0.0396,  0.0137, -0.0281]],\n",
              "              \n",
              "                       [[-0.0254, -0.0442,  0.0114],\n",
              "                        [ 0.0135,  0.0385,  0.0155],\n",
              "                        [ 0.0021,  0.0365, -0.0226]]]], device='cuda:0')),\n",
              "             ('network.5.bias',\n",
              "              tensor([-3.6907e-02, -3.3765e-02, -4.2223e-02,  1.7424e-03,  4.4648e-02,\n",
              "                       4.7074e-02,  1.3350e-02, -2.2385e-02,  3.8523e-02,  3.7166e-02,\n",
              "                       3.8693e-02, -5.7103e-02,  2.1557e-02, -1.5020e-02,  1.2176e-02,\n",
              "                      -2.0793e-02,  9.7004e-04,  4.1124e-03, -7.0375e-02, -5.0678e-03,\n",
              "                      -3.8493e-02, -2.9471e-02,  3.6216e-02, -3.1668e-02, -1.2178e-02,\n",
              "                       2.5123e-02, -1.9928e-02, -1.1890e-02, -5.2436e-02, -5.6064e-02,\n",
              "                      -3.7318e-02,  2.7202e-02, -5.7661e-02,  1.0081e-01,  8.9837e-03,\n",
              "                       6.0362e-02, -5.0500e-02,  1.6025e-02, -6.0107e-02, -1.8834e-02,\n",
              "                      -3.5682e-02, -3.5525e-02, -4.1357e-02, -9.6375e-03, -3.8967e-02,\n",
              "                      -3.7937e-02, -2.8989e-02,  3.6442e-02, -6.8688e-03,  1.8410e-02,\n",
              "                       1.2833e-02, -6.2831e-02, -3.0303e-02, -3.6647e-02, -4.6537e-02,\n",
              "                       8.9955e-04, -5.3280e-02,  4.1232e-02,  8.0867e-02,  2.8059e-02,\n",
              "                      -3.5298e-02, -5.6827e-02, -5.1169e-02, -5.1460e-02, -4.0569e-02,\n",
              "                      -2.8172e-02, -3.6832e-03,  6.3385e-02,  5.3689e-02, -9.2411e-03,\n",
              "                      -6.1246e-02,  1.4097e-02,  7.9840e-02,  1.2565e-02, -7.9025e-02,\n",
              "                       4.8075e-02,  7.1971e-02, -3.0601e-02,  8.3304e-02,  1.0016e-01,\n",
              "                       9.2867e-03,  8.3007e-02, -4.3715e-02, -2.6947e-03, -5.2854e-02,\n",
              "                       2.6118e-02,  4.3967e-02,  8.6717e-02, -3.3049e-02, -5.4064e-02,\n",
              "                      -2.6899e-02, -1.2752e-02,  4.6507e-03, -2.7201e-02,  4.2107e-02,\n",
              "                      -8.6536e-02, -3.7943e-02,  2.6335e-02,  7.4276e-02,  4.9869e-02,\n",
              "                      -1.3381e-02,  6.7577e-02,  2.3129e-02, -8.7246e-02, -3.6589e-02,\n",
              "                       5.3665e-02,  2.4252e-02, -5.4871e-02,  1.1178e-02, -3.2516e-02,\n",
              "                      -3.4303e-02,  3.4021e-02, -4.4150e-02, -3.9400e-02, -4.7805e-02,\n",
              "                      -1.3318e-02,  7.3271e-02,  1.5094e-05,  6.3314e-02, -4.1941e-02,\n",
              "                       2.1964e-02, -4.5912e-02,  4.7315e-02, -6.8792e-02,  4.2155e-02,\n",
              "                       2.0290e-02,  2.3496e-02,  2.6173e-02], device='cuda:0')),\n",
              "             ('network.7.weight',\n",
              "              tensor([[[[-0.0304, -0.0297,  0.0197],\n",
              "                        [ 0.0189, -0.0127, -0.0048],\n",
              "                        [ 0.0030,  0.0142,  0.0186]],\n",
              "              \n",
              "                       [[ 0.0279, -0.0214, -0.0213],\n",
              "                        [ 0.0133,  0.0162, -0.0165],\n",
              "                        [ 0.0283, -0.0127, -0.0226]],\n",
              "              \n",
              "                       [[-0.0269, -0.0464, -0.0407],\n",
              "                        [ 0.0948,  0.0032, -0.0470],\n",
              "                        [ 0.0246,  0.0142,  0.0292]],\n",
              "              \n",
              "                       ...,\n",
              "              \n",
              "                       [[-0.0421, -0.0947, -0.0096],\n",
              "                        [-0.0897, -0.0464,  0.0021],\n",
              "                        [-0.0491, -0.0726,  0.0036]],\n",
              "              \n",
              "                       [[ 0.0531, -0.0439, -0.0358],\n",
              "                        [ 0.0493, -0.0025, -0.0172],\n",
              "                        [-0.0111, -0.0304, -0.0048]],\n",
              "              \n",
              "                       [[-0.0094, -0.0944, -0.0484],\n",
              "                        [ 0.0571, -0.0673,  0.0072],\n",
              "                        [-0.0084, -0.0377,  0.0203]]],\n",
              "              \n",
              "              \n",
              "                      [[[ 0.0008,  0.0071,  0.0273],\n",
              "                        [ 0.0255, -0.0033,  0.0063],\n",
              "                        [ 0.0287, -0.0153, -0.0054]],\n",
              "              \n",
              "                       [[-0.0166, -0.0042,  0.0096],\n",
              "                        [-0.0052, -0.0347,  0.0029],\n",
              "                        [ 0.0191, -0.0106,  0.0037]],\n",
              "              \n",
              "                       [[ 0.0219, -0.0291, -0.0643],\n",
              "                        [ 0.0044, -0.1007, -0.0297],\n",
              "                        [ 0.0743, -0.1265, -0.0633]],\n",
              "              \n",
              "                       ...,\n",
              "              \n",
              "                       [[ 0.0198,  0.0034,  0.0679],\n",
              "                        [-0.0901, -0.1141,  0.0549],\n",
              "                        [-0.0757, -0.1580, -0.0371]],\n",
              "              \n",
              "                       [[ 0.0043, -0.0242, -0.0145],\n",
              "                        [ 0.0234, -0.0261,  0.0226],\n",
              "                        [ 0.0265, -0.0195,  0.0246]],\n",
              "              \n",
              "                       [[-0.0611, -0.0480,  0.0370],\n",
              "                        [-0.0589,  0.0493,  0.1038],\n",
              "                        [-0.1744, -0.0113,  0.0764]]],\n",
              "              \n",
              "              \n",
              "                      [[[ 0.0118, -0.0114, -0.0277],\n",
              "                        [-0.0080, -0.0017,  0.0229],\n",
              "                        [ 0.0146,  0.0223, -0.0150]],\n",
              "              \n",
              "                       [[-0.0265, -0.0315,  0.0032],\n",
              "                        [-0.0302, -0.0252, -0.0124],\n",
              "                        [-0.0053, -0.0114,  0.0083]],\n",
              "              \n",
              "                       [[-0.0279,  0.0121,  0.0131],\n",
              "                        [-0.0142,  0.0046,  0.0133],\n",
              "                        [-0.0009,  0.0094, -0.0156]],\n",
              "              \n",
              "                       ...,\n",
              "              \n",
              "                       [[-0.0061, -0.0035, -0.0046],\n",
              "                        [-0.0133, -0.0061,  0.0041],\n",
              "                        [-0.0127,  0.0161,  0.0244]],\n",
              "              \n",
              "                       [[ 0.0159, -0.0245,  0.0139],\n",
              "                        [-0.0011,  0.0077, -0.0310],\n",
              "                        [-0.0019, -0.0265, -0.0255]],\n",
              "              \n",
              "                       [[-0.0028,  0.0149, -0.0069],\n",
              "                        [ 0.0046, -0.0173, -0.0204],\n",
              "                        [-0.0176, -0.0067, -0.0199]]],\n",
              "              \n",
              "              \n",
              "                      ...,\n",
              "              \n",
              "              \n",
              "                      [[[-0.0235,  0.0183,  0.0076],\n",
              "                        [-0.0003, -0.0309, -0.0078],\n",
              "                        [ 0.0076, -0.0333,  0.0128]],\n",
              "              \n",
              "                       [[ 0.0071,  0.0161, -0.0084],\n",
              "                        [-0.0076, -0.0340,  0.0244],\n",
              "                        [-0.0435,  0.0073,  0.0176]],\n",
              "              \n",
              "                       [[ 0.0464,  0.0491,  0.0512],\n",
              "                        [ 0.0305,  0.0376,  0.0056],\n",
              "                        [ 0.0110, -0.0891, -0.0533]],\n",
              "              \n",
              "                       ...,\n",
              "              \n",
              "                       [[-0.1099, -0.1227, -0.0761],\n",
              "                        [ 0.0231, -0.0519, -0.1333],\n",
              "                        [ 0.0173, -0.0705, -0.0336]],\n",
              "              \n",
              "                       [[-0.0078,  0.0122,  0.0246],\n",
              "                        [ 0.0103,  0.0245,  0.0011],\n",
              "                        [ 0.0615, -0.0235, -0.0394]],\n",
              "              \n",
              "                       [[ 0.0624,  0.0012, -0.0512],\n",
              "                        [ 0.0096, -0.0506, -0.0971],\n",
              "                        [ 0.0510, -0.0296, -0.1135]]],\n",
              "              \n",
              "              \n",
              "                      [[[-0.0062,  0.0259, -0.0198],\n",
              "                        [-0.0082,  0.0146, -0.0007],\n",
              "                        [-0.0107, -0.0076,  0.0204]],\n",
              "              \n",
              "                       [[-0.0347, -0.0106,  0.0161],\n",
              "                        [-0.0225, -0.0295,  0.0204],\n",
              "                        [ 0.0053,  0.0113,  0.0106]],\n",
              "              \n",
              "                       [[-0.0446,  0.0029, -0.0083],\n",
              "                        [-0.0573,  0.0394,  0.0438],\n",
              "                        [-0.0696, -0.0007,  0.0836]],\n",
              "              \n",
              "                       ...,\n",
              "              \n",
              "                       [[ 0.0362,  0.0173,  0.0932],\n",
              "                        [ 0.0379,  0.0325,  0.0382],\n",
              "                        [ 0.1148,  0.1322,  0.0556]],\n",
              "              \n",
              "                       [[-0.0464, -0.0291, -0.0472],\n",
              "                        [ 0.0289,  0.0140,  0.0383],\n",
              "                        [-0.0025,  0.0096,  0.0531]],\n",
              "              \n",
              "                       [[ 0.0050,  0.0090,  0.0464],\n",
              "                        [-0.0195, -0.0311, -0.0062],\n",
              "                        [ 0.0062,  0.0109, -0.0238]]],\n",
              "              \n",
              "              \n",
              "                      [[[-0.0199, -0.0232,  0.0077],\n",
              "                        [-0.0230,  0.0146,  0.0221],\n",
              "                        [ 0.0017,  0.0174,  0.0250]],\n",
              "              \n",
              "                       [[ 0.0266, -0.0069,  0.0366],\n",
              "                        [ 0.0492,  0.0875,  0.0488],\n",
              "                        [ 0.0910,  0.0361,  0.0027]],\n",
              "              \n",
              "                       [[-0.1080, -0.0145,  0.0839],\n",
              "                        [-0.0329, -0.0168,  0.0734],\n",
              "                        [-0.0347, -0.0760,  0.0073]],\n",
              "              \n",
              "                       ...,\n",
              "              \n",
              "                       [[-0.1213, -0.1082,  0.0434],\n",
              "                        [ 0.0893, -0.0164,  0.0160],\n",
              "                        [ 0.1063,  0.0645,  0.0648]],\n",
              "              \n",
              "                       [[-0.0053, -0.1048,  0.0006],\n",
              "                        [ 0.0149, -0.1127, -0.0560],\n",
              "                        [ 0.0597, -0.0603, -0.0315]],\n",
              "              \n",
              "                       [[-0.0799, -0.0854, -0.0089],\n",
              "                        [ 0.0902,  0.0190,  0.0870],\n",
              "                        [ 0.0698,  0.0610,  0.1595]]]], device='cuda:0')),\n",
              "             ('network.7.bias',\n",
              "              tensor([ 0.0382,  0.0284, -0.0147, -0.0104,  0.0573,  0.0107,  0.0247, -0.0181,\n",
              "                      -0.0270, -0.0243, -0.0526,  0.0235, -0.0401, -0.0004,  0.0460, -0.0373,\n",
              "                       0.0402, -0.0069, -0.0186,  0.0233, -0.0470,  0.0218,  0.0205, -0.0260,\n",
              "                      -0.0010, -0.0583, -0.0450,  0.0190, -0.0142, -0.0281, -0.0460,  0.0572,\n",
              "                      -0.0008, -0.0668, -0.0161,  0.0549,  0.0435,  0.0482, -0.0749,  0.0425,\n",
              "                      -0.0204,  0.0243, -0.0248,  0.0272, -0.0302,  0.0500,  0.0141,  0.0239,\n",
              "                       0.0153,  0.0374,  0.0281, -0.0431, -0.0032,  0.0369,  0.0152, -0.0482,\n",
              "                       0.0650,  0.0574, -0.0070, -0.0381,  0.0339, -0.0213,  0.0642, -0.0021,\n",
              "                       0.0344, -0.0035, -0.0587, -0.0539,  0.0173,  0.0191,  0.0660, -0.0105,\n",
              "                       0.0347,  0.0386, -0.0013, -0.0197, -0.0464,  0.0438,  0.0483, -0.0273,\n",
              "                       0.0039, -0.0183, -0.0467,  0.0076, -0.0092, -0.0614,  0.0345,  0.0229,\n",
              "                      -0.0071, -0.0157,  0.0134, -0.0070,  0.0434,  0.0339, -0.0140, -0.0523,\n",
              "                       0.0175, -0.0298,  0.0176,  0.0142, -0.0378, -0.0181,  0.0146,  0.0344,\n",
              "                      -0.0098,  0.0319,  0.0029, -0.0214, -0.0192, -0.0442, -0.0489,  0.0152,\n",
              "                      -0.0315, -0.0731,  0.0021, -0.0079,  0.0468,  0.0359, -0.0471,  0.0384,\n",
              "                       0.0633, -0.0483, -0.0117, -0.0137, -0.0288,  0.0259,  0.0035,  0.0574],\n",
              "                     device='cuda:0')),\n",
              "             ('network.10.weight',\n",
              "              tensor([[[[ 0.0007, -0.0440, -0.0404],\n",
              "                        [-0.0448, -0.0571, -0.0081],\n",
              "                        [ 0.0150,  0.0306,  0.0204]],\n",
              "              \n",
              "                       [[-0.0405,  0.0426,  0.0329],\n",
              "                        [ 0.0489,  0.0154,  0.0218],\n",
              "                        [ 0.0766, -0.0408, -0.0207]],\n",
              "              \n",
              "                       [[ 0.0284,  0.0225, -0.0270],\n",
              "                        [ 0.0015,  0.0291, -0.0332],\n",
              "                        [-0.0058, -0.0087,  0.0078]],\n",
              "              \n",
              "                       ...,\n",
              "              \n",
              "                       [[-0.0193, -0.0376, -0.0175],\n",
              "                        [ 0.0721, -0.0312, -0.0496],\n",
              "                        [ 0.0041, -0.0160, -0.0616]],\n",
              "              \n",
              "                       [[-0.0637, -0.0741, -0.0212],\n",
              "                        [-0.0379, -0.0552,  0.0073],\n",
              "                        [-0.1117, -0.0325, -0.0618]],\n",
              "              \n",
              "                       [[-0.0548, -0.0763,  0.0368],\n",
              "                        [-0.0010, -0.0504,  0.0203],\n",
              "                        [-0.0237, -0.0335,  0.0263]]],\n",
              "              \n",
              "              \n",
              "                      [[[ 0.0250,  0.0134, -0.0225],\n",
              "                        [ 0.0393,  0.0216,  0.0202],\n",
              "                        [-0.0010,  0.0032, -0.0116]],\n",
              "              \n",
              "                       [[ 0.0125, -0.0216, -0.0239],\n",
              "                        [ 0.0246, -0.0184,  0.0016],\n",
              "                        [ 0.0051, -0.0439, -0.0284]],\n",
              "              \n",
              "                       [[ 0.0158,  0.0141,  0.0026],\n",
              "                        [-0.0089, -0.0197, -0.0303],\n",
              "                        [ 0.0174, -0.0259, -0.0308]],\n",
              "              \n",
              "                       ...,\n",
              "              \n",
              "                       [[-0.0303, -0.0017,  0.0065],\n",
              "                        [-0.0220, -0.0202,  0.0103],\n",
              "                        [ 0.0062, -0.0436, -0.0247]],\n",
              "              \n",
              "                       [[-0.0417, -0.0397, -0.0257],\n",
              "                        [-0.0002, -0.0067, -0.0387],\n",
              "                        [-0.0292, -0.0121, -0.0347]],\n",
              "              \n",
              "                       [[-0.0177, -0.0059,  0.0093],\n",
              "                        [ 0.0002,  0.0245, -0.0303],\n",
              "                        [-0.0107, -0.0021,  0.0072]]],\n",
              "              \n",
              "              \n",
              "                      [[[ 0.0040,  0.0064,  0.0075],\n",
              "                        [ 0.0214,  0.0051, -0.0134],\n",
              "                        [ 0.0069, -0.0003,  0.0154]],\n",
              "              \n",
              "                       [[-0.0149,  0.0105, -0.0194],\n",
              "                        [ 0.0291,  0.0075, -0.0234],\n",
              "                        [-0.0119, -0.0325,  0.0213]],\n",
              "              \n",
              "                       [[-0.0191,  0.0057, -0.0236],\n",
              "                        [ 0.0040,  0.0227,  0.0185],\n",
              "                        [-0.0332, -0.0021, -0.0138]],\n",
              "              \n",
              "                       ...,\n",
              "              \n",
              "                       [[-0.0210,  0.0156, -0.0083],\n",
              "                        [-0.0010, -0.0056,  0.0182],\n",
              "                        [-0.0247,  0.0194,  0.0040]],\n",
              "              \n",
              "                       [[-0.0274,  0.0105, -0.0272],\n",
              "                        [ 0.0194, -0.0099, -0.0146],\n",
              "                        [-0.0261, -0.0080, -0.0234]],\n",
              "              \n",
              "                       [[-0.0143, -0.0061, -0.0033],\n",
              "                        [-0.0218,  0.0010,  0.0073],\n",
              "                        [ 0.0210, -0.0177,  0.0058]]],\n",
              "              \n",
              "              \n",
              "                      ...,\n",
              "              \n",
              "              \n",
              "                      [[[-0.0761, -0.0274,  0.0105],\n",
              "                        [-0.0787, -0.0417, -0.0110],\n",
              "                        [-0.0423, -0.0343, -0.0110]],\n",
              "              \n",
              "                       [[-0.0343, -0.0627, -0.0300],\n",
              "                        [-0.0508, -0.1045, -0.0557],\n",
              "                        [-0.0333, -0.0523, -0.0174]],\n",
              "              \n",
              "                       [[ 0.0073,  0.0201, -0.0073],\n",
              "                        [ 0.0121,  0.0259,  0.0134],\n",
              "                        [-0.0027, -0.0198, -0.0083]],\n",
              "              \n",
              "                       ...,\n",
              "              \n",
              "                       [[-0.0196, -0.0605, -0.0238],\n",
              "                        [-0.0576, -0.0292, -0.0152],\n",
              "                        [-0.0417, -0.0734,  0.0022]],\n",
              "              \n",
              "                       [[-0.0033,  0.0044, -0.0432],\n",
              "                        [-0.0180, -0.0453, -0.0780],\n",
              "                        [-0.0547, -0.0041, -0.0064]],\n",
              "              \n",
              "                       [[-0.0470, -0.0038, -0.0066],\n",
              "                        [-0.0208, -0.0549, -0.0560],\n",
              "                        [-0.0275, -0.0335, -0.0143]]],\n",
              "              \n",
              "              \n",
              "                      [[[-0.0372, -0.0167, -0.0479],\n",
              "                        [-0.0522, -0.0126, -0.0419],\n",
              "                        [-0.0340, -0.0260, -0.0291]],\n",
              "              \n",
              "                       [[-0.0395, -0.0405,  0.0057],\n",
              "                        [-0.0576, -0.0577, -0.0551],\n",
              "                        [-0.0435, -0.0025, -0.0502]],\n",
              "              \n",
              "                       [[-0.0115,  0.0207,  0.0007],\n",
              "                        [ 0.0192, -0.0170,  0.0156],\n",
              "                        [-0.0013, -0.0135, -0.0231]],\n",
              "              \n",
              "                       ...,\n",
              "              \n",
              "                       [[-0.0486, -0.0725, -0.0811],\n",
              "                        [-0.0660, -0.0612, -0.0557],\n",
              "                        [-0.0319, -0.0419, -0.0310]],\n",
              "              \n",
              "                       [[-0.0662, -0.0969, -0.0404],\n",
              "                        [ 0.0026, -0.0213, -0.0490],\n",
              "                        [-0.0085, -0.0002, -0.0413]],\n",
              "              \n",
              "                       [[-0.0180,  0.0068, -0.0196],\n",
              "                        [-0.0129, -0.0359, -0.0036],\n",
              "                        [-0.0295, -0.0651, -0.0485]]],\n",
              "              \n",
              "              \n",
              "                      [[[ 0.0015, -0.0415,  0.0574],\n",
              "                        [-0.0881, -0.1034,  0.0373],\n",
              "                        [-0.1085, -0.1101, -0.0152]],\n",
              "              \n",
              "                       [[ 0.1459, -0.0963,  0.0844],\n",
              "                        [ 0.0040, -0.1164,  0.0538],\n",
              "                        [ 0.0738, -0.1228, -0.0067]],\n",
              "              \n",
              "                       [[-0.0143,  0.0167,  0.0015],\n",
              "                        [ 0.0206,  0.0093, -0.0177],\n",
              "                        [-0.0251,  0.0057, -0.0213]],\n",
              "              \n",
              "                       ...,\n",
              "              \n",
              "                       [[ 0.0119,  0.0474,  0.0274],\n",
              "                        [ 0.0313,  0.0785, -0.0457],\n",
              "                        [ 0.0308, -0.1010, -0.0904]],\n",
              "              \n",
              "                       [[ 0.0249,  0.0327,  0.0019],\n",
              "                        [-0.0062, -0.0048, -0.0349],\n",
              "                        [-0.0816, -0.0763, -0.0339]],\n",
              "              \n",
              "                       [[ 0.0924,  0.0117,  0.0483],\n",
              "                        [-0.0318, -0.1565, -0.0706],\n",
              "                        [-0.0521,  0.0090,  0.0216]]]], device='cuda:0')),\n",
              "             ('network.10.bias',\n",
              "              tensor([-0.0675, -0.0460, -0.0193, -0.0492, -0.0398,  0.0512, -0.0328,  0.0236,\n",
              "                      -0.0048, -0.0511, -0.0400,  0.0187, -0.0290, -0.0366, -0.0112, -0.0195,\n",
              "                       0.0243, -0.0469,  0.0027, -0.0293,  0.0062,  0.0480,  0.0333, -0.0239,\n",
              "                       0.0013, -0.0099,  0.0651,  0.0459, -0.0243,  0.0124,  0.0481, -0.0076,\n",
              "                      -0.0128, -0.0355,  0.0463, -0.0533, -0.0595,  0.0241, -0.0052,  0.0279,\n",
              "                       0.0068, -0.0334,  0.0218, -0.0103,  0.0021, -0.0181, -0.0507, -0.0004,\n",
              "                      -0.0224, -0.0388,  0.0075, -0.0372, -0.0337,  0.0014, -0.0473, -0.0109,\n",
              "                      -0.0290, -0.0096,  0.0163, -0.0519, -0.0065, -0.0179,  0.0019, -0.0379,\n",
              "                      -0.0445,  0.0084, -0.0034, -0.0197,  0.0027,  0.0743, -0.0149, -0.0409,\n",
              "                      -0.0372,  0.0386,  0.0473,  0.0511,  0.0024, -0.0327, -0.0231, -0.0143,\n",
              "                       0.0302, -0.0190,  0.0315, -0.0490, -0.0512, -0.0499,  0.0083,  0.0451,\n",
              "                      -0.0470,  0.0264, -0.0277, -0.0371,  0.0802, -0.0382,  0.0108, -0.0342,\n",
              "                      -0.0331,  0.0140, -0.0232, -0.0483, -0.0231, -0.0301, -0.0320,  0.0807,\n",
              "                       0.0439, -0.0543, -0.0643, -0.0331, -0.0311,  0.0420, -0.0321, -0.0420,\n",
              "                      -0.0230, -0.0470, -0.0408, -0.0414, -0.0111, -0.0185, -0.0142, -0.0126,\n",
              "                       0.0424,  0.0396, -0.0852,  0.0617, -0.0054, -0.0219, -0.0372, -0.0196,\n",
              "                      -0.0234, -0.0176, -0.0539, -0.0317, -0.0276, -0.0097,  0.0655,  0.0019,\n",
              "                      -0.0339,  0.0245, -0.0224, -0.0627, -0.0444, -0.0024, -0.0145, -0.0218,\n",
              "                      -0.0684, -0.0328, -0.0321, -0.0306, -0.0240, -0.0122,  0.0011, -0.0108,\n",
              "                      -0.0163,  0.0441,  0.0172, -0.0169, -0.0013,  0.0112,  0.0024,  0.0453,\n",
              "                       0.0303, -0.0053, -0.0132,  0.0607,  0.0005,  0.0340, -0.0416, -0.0037,\n",
              "                       0.0477, -0.0053,  0.0364,  0.0235,  0.0420, -0.0317,  0.0151, -0.0585,\n",
              "                      -0.0423,  0.0893,  0.0634, -0.0187, -0.0395, -0.0466, -0.0323, -0.0080,\n",
              "                      -0.0370, -0.0237, -0.0633, -0.0074,  0.0712, -0.0432,  0.0021, -0.0208,\n",
              "                      -0.0177, -0.0564, -0.0049, -0.0304, -0.0096,  0.0035, -0.0574, -0.0264,\n",
              "                      -0.0382,  0.0119, -0.0205,  0.0533, -0.0138, -0.0045, -0.0127, -0.0146,\n",
              "                       0.0116, -0.0115,  0.0490,  0.0312, -0.0361,  0.0727,  0.0559, -0.0500,\n",
              "                      -0.0375, -0.0321,  0.0211,  0.0319, -0.0361,  0.0552, -0.0016, -0.0633,\n",
              "                       0.0232, -0.0102, -0.0212, -0.0229, -0.0207, -0.0496,  0.0413,  0.1006,\n",
              "                      -0.0084,  0.0681, -0.0397,  0.0357,  0.0381, -0.0340,  0.0525, -0.0209,\n",
              "                      -0.0020, -0.0333, -0.0189,  0.0441, -0.0018,  0.0398, -0.0515, -0.0417,\n",
              "                       0.0117, -0.0423,  0.0286, -0.0105, -0.0338, -0.0439, -0.0481,  0.0010],\n",
              "                     device='cuda:0')),\n",
              "             ('network.12.weight',\n",
              "              tensor([[[[ 9.5268e-03,  2.3085e-02, -7.1951e-02],\n",
              "                        [ 2.9127e-02,  4.0885e-02, -1.1108e-02],\n",
              "                        [ 1.0828e-02, -2.1203e-02, -3.4037e-02]],\n",
              "              \n",
              "                       [[ 1.4668e-02,  1.8280e-02,  1.6351e-03],\n",
              "                        [-3.3391e-02, -6.2179e-03, -3.3129e-03],\n",
              "                        [ 4.8917e-03,  1.5802e-02,  5.0925e-02]],\n",
              "              \n",
              "                       [[-8.7999e-03, -3.9962e-02, -1.3430e-02],\n",
              "                        [-5.2962e-03, -1.4861e-02, -3.0682e-04],\n",
              "                        [ 1.6692e-02, -6.8914e-04,  1.5821e-02]],\n",
              "              \n",
              "                       ...,\n",
              "              \n",
              "                       [[-4.2306e-02, -4.8428e-03,  1.3551e-02],\n",
              "                        [-1.3219e-02, -8.8196e-03,  2.0600e-02],\n",
              "                        [ 7.7235e-03,  2.2104e-02, -2.3452e-02]],\n",
              "              \n",
              "                       [[ 2.0911e-02,  4.9228e-02,  3.9653e-02],\n",
              "                        [-4.6768e-03,  5.4740e-02,  4.1174e-02],\n",
              "                        [-1.3133e-02, -1.1453e-02,  2.3220e-02]],\n",
              "              \n",
              "                       [[-1.0588e-01, -6.4721e-02, -1.6362e-02],\n",
              "                        [-1.5275e-01, -1.2106e-02, -3.1227e-02],\n",
              "                        [-1.1808e-01, -1.3711e-01, -2.2229e-01]]],\n",
              "              \n",
              "              \n",
              "                      [[[ 1.0750e-01,  2.3797e-02,  7.4162e-02],\n",
              "                        [ 1.0085e-01,  6.1078e-02,  4.9876e-02],\n",
              "                        [ 3.5592e-03,  2.2567e-02,  6.8237e-02]],\n",
              "              \n",
              "                       [[ 2.3415e-02,  5.0643e-03,  5.0755e-03],\n",
              "                        [ 2.1248e-03, -1.2451e-02,  1.8464e-02],\n",
              "                        [-3.9898e-02, -4.6901e-02, -2.8757e-02]],\n",
              "              \n",
              "                       [[-1.9884e-02,  8.8170e-03,  1.2505e-02],\n",
              "                        [-2.0635e-02,  5.9903e-03, -5.4396e-03],\n",
              "                        [ 2.0516e-03,  5.7345e-03, -1.3619e-02]],\n",
              "              \n",
              "                       ...,\n",
              "              \n",
              "                       [[ 6.4082e-02,  4.7406e-02, -3.9105e-02],\n",
              "                        [-2.1628e-02,  3.3164e-02,  3.6414e-02],\n",
              "                        [ 2.7787e-02,  1.2846e-02, -4.3321e-02]],\n",
              "              \n",
              "                       [[ 8.0105e-03,  4.0219e-02, -6.9063e-04],\n",
              "                        [ 3.3793e-02,  3.4579e-02,  3.1928e-02],\n",
              "                        [ 5.7192e-02,  5.0592e-02,  2.7583e-02]],\n",
              "              \n",
              "                       [[ 5.7105e-02,  3.0706e-02,  2.7278e-02],\n",
              "                        [-9.4420e-02, -5.1160e-02,  2.7196e-02],\n",
              "                        [-5.6726e-02, -3.6618e-02, -3.5203e-02]]],\n",
              "              \n",
              "              \n",
              "                      [[[ 4.8503e-03, -7.7303e-04,  1.3640e-03],\n",
              "                        [-1.9948e-02, -1.4997e-02, -3.7814e-03],\n",
              "                        [-2.0641e-02, -1.1495e-02,  9.1410e-04]],\n",
              "              \n",
              "                       [[-1.2909e-04, -1.1385e-02, -1.0387e-02],\n",
              "                        [ 1.1714e-03, -1.5279e-03, -2.3254e-02],\n",
              "                        [ 1.2887e-02, -1.2724e-03,  2.1817e-03]],\n",
              "              \n",
              "                       [[-2.0171e-02,  1.0847e-02,  3.3595e-03],\n",
              "                        [-1.1421e-02, -3.9410e-03, -2.5529e-02],\n",
              "                        [ 1.2846e-02, -2.6257e-02,  6.4394e-03]],\n",
              "              \n",
              "                       ...,\n",
              "              \n",
              "                       [[-2.6244e-02, -8.7105e-05, -3.5669e-03],\n",
              "                        [ 1.2849e-02,  5.0778e-03,  3.4711e-03],\n",
              "                        [ 8.4728e-03, -8.3416e-04, -2.6083e-02]],\n",
              "              \n",
              "                       [[ 3.6343e-03, -1.3560e-02, -2.3684e-02],\n",
              "                        [-2.4176e-02, -4.2953e-03,  1.4739e-02],\n",
              "                        [-8.0639e-03, -1.8441e-02, -1.5014e-02]],\n",
              "              \n",
              "                       [[ 1.0070e-02, -2.3206e-02,  2.0826e-03],\n",
              "                        [ 8.0719e-03, -2.0102e-02,  1.2496e-02],\n",
              "                        [-1.0641e-03, -1.6610e-02, -1.0120e-02]]],\n",
              "              \n",
              "              \n",
              "                      ...,\n",
              "              \n",
              "              \n",
              "                      [[[ 1.1750e-02, -3.7396e-03, -1.7134e-02],\n",
              "                        [-1.7643e-02,  1.5484e-02,  1.3010e-02],\n",
              "                        [ 1.7334e-02, -1.4653e-02,  1.7645e-02]],\n",
              "              \n",
              "                       [[-7.6569e-03,  1.1224e-02, -5.1604e-03],\n",
              "                        [-7.5294e-03, -2.6509e-02, -2.1658e-03],\n",
              "                        [-4.4184e-03, -2.5306e-02, -2.1986e-02]],\n",
              "              \n",
              "                       [[-1.9070e-02, -1.1248e-02,  4.3866e-03],\n",
              "                        [-1.4480e-02, -1.4634e-02, -2.6201e-02],\n",
              "                        [ 1.0115e-02, -9.7832e-04, -1.4554e-02]],\n",
              "              \n",
              "                       ...,\n",
              "              \n",
              "                       [[-5.8516e-03, -8.9709e-03,  3.8604e-04],\n",
              "                        [ 5.4444e-03, -2.6651e-02, -3.0628e-02],\n",
              "                        [-2.2806e-02,  7.6523e-03, -6.6189e-03]],\n",
              "              \n",
              "                       [[-1.3133e-02, -1.7613e-02,  1.4400e-02],\n",
              "                        [ 1.1731e-02, -6.9791e-03, -2.3529e-02],\n",
              "                        [-2.1400e-02, -8.8738e-03, -1.7600e-02]],\n",
              "              \n",
              "                       [[-4.3286e-02, -2.9987e-02, -2.1031e-02],\n",
              "                        [ 1.2690e-02, -4.5247e-03, -3.4382e-02],\n",
              "                        [-7.2710e-03,  4.5137e-03, -1.1008e-02]]],\n",
              "              \n",
              "              \n",
              "                      [[[ 6.9760e-02,  4.3064e-03,  4.1479e-02],\n",
              "                        [ 1.8708e-02, -4.1500e-02, -5.3367e-03],\n",
              "                        [-7.6685e-02,  1.4641e-02,  2.2532e-02]],\n",
              "              \n",
              "                       [[ 2.9375e-02,  1.4364e-03,  2.1498e-02],\n",
              "                        [-1.5480e-02, -6.8615e-03,  1.7164e-02],\n",
              "                        [ 1.3305e-02, -3.1259e-02, -2.2471e-02]],\n",
              "              \n",
              "                       [[-4.4628e-02, -4.1058e-02,  2.1871e-04],\n",
              "                        [ 2.9820e-02,  8.6882e-03,  1.1017e-02],\n",
              "                        [-2.4490e-02,  4.4525e-03, -1.5830e-02]],\n",
              "              \n",
              "                       ...,\n",
              "              \n",
              "                       [[-5.0344e-02, -2.3405e-02, -5.9454e-03],\n",
              "                        [ 3.1341e-03,  6.9165e-03, -1.6505e-02],\n",
              "                        [ 2.4356e-02,  1.9261e-02, -3.6700e-02]],\n",
              "              \n",
              "                       [[ 1.3723e-02,  2.6972e-02,  5.3862e-02],\n",
              "                        [ 5.2351e-02, -6.8623e-02,  1.3028e-02],\n",
              "                        [ 5.5350e-02, -1.7728e-02, -3.2110e-02]],\n",
              "              \n",
              "                       [[ 2.3600e-02,  5.4273e-02,  2.0000e-02],\n",
              "                        [-1.5654e-02, -1.2601e-01, -8.3390e-02],\n",
              "                        [-4.9387e-02, -1.2247e-01, -1.2626e-01]]],\n",
              "              \n",
              "              \n",
              "                      [[[-1.6621e-02, -4.1788e-03,  1.4815e-02],\n",
              "                        [ 8.4383e-03, -1.1794e-02, -2.5373e-03],\n",
              "                        [-5.9799e-03, -2.9261e-03,  3.9901e-03]],\n",
              "              \n",
              "                       [[ 1.9452e-02, -1.4394e-02,  1.0091e-02],\n",
              "                        [-1.2402e-02, -2.3096e-02, -2.3845e-02],\n",
              "                        [ 7.5934e-03,  3.5840e-04, -5.2039e-03]],\n",
              "              \n",
              "                       [[ 8.4731e-03,  2.4060e-06, -7.2155e-03],\n",
              "                        [-1.4638e-02,  2.0304e-02,  8.3976e-03],\n",
              "                        [ 2.0829e-02,  2.1802e-02,  1.3471e-02]],\n",
              "              \n",
              "                       ...,\n",
              "              \n",
              "                       [[-2.4186e-02,  4.5885e-03, -1.2620e-02],\n",
              "                        [-9.7780e-03,  1.0606e-02, -7.8210e-03],\n",
              "                        [ 7.8858e-03,  5.1973e-03,  2.6750e-03]],\n",
              "              \n",
              "                       [[-2.2933e-02, -7.0129e-04,  1.3914e-02],\n",
              "                        [-1.5469e-02, -1.7560e-02,  2.8457e-03],\n",
              "                        [-1.4656e-02,  2.6591e-02,  4.9767e-03]],\n",
              "              \n",
              "                       [[-6.9608e-02, -5.3079e-02, -1.4948e-02],\n",
              "                        [-4.1362e-02, -4.8047e-02, -2.2366e-02],\n",
              "                        [ 2.6027e-02,  1.7194e-02, -8.6469e-03]]]], device='cuda:0')),\n",
              "             ('network.12.bias',\n",
              "              tensor([-0.0086, -0.0127, -0.0378,  0.0595,  0.0466,  0.0178, -0.0090, -0.0354,\n",
              "                      -0.0114,  0.0553, -0.0232, -0.0392,  0.0020, -0.0134,  0.0437, -0.0004,\n",
              "                       0.0193,  0.0353, -0.0450,  0.0521, -0.0330, -0.0122,  0.0602, -0.0347,\n",
              "                      -0.0102,  0.0195,  0.0326,  0.0392, -0.0047, -0.0100,  0.0625,  0.0447,\n",
              "                      -0.0179,  0.0360, -0.0654,  0.0321, -0.0686, -0.0250,  0.0024,  0.0278,\n",
              "                       0.0390,  0.0348, -0.0401, -0.0254,  0.0108,  0.0216, -0.0201,  0.0275,\n",
              "                      -0.0553,  0.0473,  0.0018, -0.0528,  0.0250, -0.0322, -0.0127,  0.0707,\n",
              "                       0.0012,  0.0059,  0.0633, -0.0022,  0.0382, -0.0494,  0.0088, -0.0162,\n",
              "                      -0.0134, -0.0112, -0.0432, -0.0101, -0.0397,  0.0556, -0.0472,  0.0437,\n",
              "                      -0.0075,  0.0050,  0.0596, -0.0112,  0.0184,  0.0748,  0.0022, -0.0105,\n",
              "                       0.0694, -0.0128,  0.0513,  0.0392, -0.0148,  0.0115,  0.0366,  0.0446,\n",
              "                       0.0018,  0.0255, -0.0166, -0.0247, -0.0208,  0.0302, -0.0066, -0.0067,\n",
              "                       0.0569,  0.0318,  0.0197,  0.0388,  0.0084, -0.0240, -0.0230,  0.0109,\n",
              "                       0.0097,  0.0501, -0.0444, -0.0127,  0.0026, -0.0100, -0.0303, -0.0014,\n",
              "                      -0.0151, -0.0389, -0.0164, -0.0571, -0.0357, -0.0191, -0.0223, -0.0467,\n",
              "                      -0.0180, -0.0487, -0.0345, -0.0176, -0.0067, -0.0050,  0.0699, -0.0318,\n",
              "                      -0.0037, -0.0163,  0.0080,  0.0004,  0.0313, -0.0196,  0.0144, -0.0219,\n",
              "                      -0.0250, -0.0017, -0.0254, -0.0252, -0.0172,  0.0789,  0.0255, -0.0535,\n",
              "                       0.0442,  0.0328,  0.0425, -0.0107,  0.0149,  0.0196, -0.0205, -0.0334,\n",
              "                      -0.0245,  0.0036, -0.0684,  0.0440,  0.0171, -0.0361, -0.0298,  0.0594,\n",
              "                      -0.0102, -0.0171, -0.0135, -0.0183, -0.0126, -0.0195, -0.0041,  0.0010,\n",
              "                       0.0410,  0.0348, -0.0134, -0.0116,  0.0266,  0.0278,  0.0701, -0.0416,\n",
              "                      -0.0257,  0.0307,  0.0357,  0.0402,  0.0692,  0.0517,  0.0325, -0.0279,\n",
              "                       0.0638, -0.0414,  0.0064,  0.0698, -0.0193, -0.0233, -0.0604,  0.0050,\n",
              "                      -0.0070,  0.0135, -0.0145,  0.0361, -0.0180,  0.0101, -0.0056, -0.0181,\n",
              "                      -0.0172,  0.0149, -0.0230, -0.0441, -0.0181, -0.0491, -0.0124, -0.0189,\n",
              "                      -0.0258,  0.0570, -0.0127, -0.0428,  0.0577,  0.0742,  0.0139,  0.0123,\n",
              "                      -0.0559, -0.0166,  0.0526, -0.0372,  0.0539, -0.0061,  0.0757,  0.0146,\n",
              "                      -0.0238, -0.0237,  0.0557,  0.0524,  0.0351, -0.0114, -0.0096,  0.0054,\n",
              "                      -0.0428, -0.0472, -0.0301,  0.0325, -0.0343, -0.0140,  0.0179,  0.0711,\n",
              "                       0.0188, -0.0016,  0.0075, -0.0142,  0.0329,  0.0713,  0.0538, -0.0455,\n",
              "                       0.0247, -0.0005, -0.0452,  0.0200,  0.0179, -0.0328,  0.0118, -0.0669],\n",
              "                     device='cuda:0')),\n",
              "             ('network.16.weight',\n",
              "              tensor([[ 0.0018, -0.0168,  0.0060,  ..., -0.0209,  0.0198, -0.0004],\n",
              "                      [-0.0199, -0.0204,  0.0069,  ..., -0.0006, -0.0099, -0.0049],\n",
              "                      [ 0.0204, -0.0503, -0.0187,  ...,  0.0458,  0.0466,  0.0363],\n",
              "                      ...,\n",
              "                      [-0.0059, -0.0224, -0.0285,  ...,  0.0006, -0.0112, -0.0057],\n",
              "                      [-0.0219, -0.0403,  0.0124,  ..., -0.0018,  0.0316,  0.0232],\n",
              "                      [ 0.0158,  0.0009,  0.0075,  ...,  0.0085,  0.0153,  0.0116]],\n",
              "                     device='cuda:0')),\n",
              "             ('network.16.bias',\n",
              "              tensor([ 0.0341,  0.0050,  0.0250,  ..., -0.0227,  0.0624,  0.0032],\n",
              "                     device='cuda:0')),\n",
              "             ('network.18.weight',\n",
              "              tensor([[ 0.0228,  0.0016,  0.0639,  ...,  0.0193,  0.0066, -0.0147],\n",
              "                      [-0.0216,  0.0308, -0.0760,  ...,  0.0004, -0.0412,  0.0140],\n",
              "                      [-0.0287, -0.0340, -0.0135,  ..., -0.0034,  0.0352, -0.0016],\n",
              "                      ...,\n",
              "                      [-0.0131, -0.0246,  0.0061,  ..., -0.0226, -0.0313, -0.0312],\n",
              "                      [-0.0090, -0.0017, -0.0184,  ..., -0.0269, -0.0403,  0.0148],\n",
              "                      [ 0.0267, -0.0212,  0.0500,  ..., -0.0115, -0.0360,  0.0090]],\n",
              "                     device='cuda:0')),\n",
              "             ('network.18.bias',\n",
              "              tensor([ 0.0419,  0.0382, -0.0048,  0.0215,  0.0109, -0.0387,  0.0909, -0.0144,\n",
              "                      -0.0132,  0.0508,  0.0463, -0.0157,  0.0144,  0.0566,  0.0855, -0.0306,\n",
              "                       0.0469, -0.0287, -0.0195,  0.0464, -0.0210, -0.0348, -0.0252, -0.0273,\n",
              "                       0.0456, -0.0362,  0.0282,  0.0435,  0.0718, -0.0590, -0.0199,  0.0405,\n",
              "                       0.0824,  0.0242,  0.0580,  0.0114,  0.0305, -0.0104, -0.0373,  0.0123,\n",
              "                       0.0258,  0.0123,  0.0244, -0.0504,  0.0312,  0.0790,  0.0673,  0.0533,\n",
              "                      -0.0097, -0.0557, -0.0351, -0.0347, -0.0062,  0.0353,  0.0526, -0.0543,\n",
              "                       0.0059, -0.0463,  0.0477, -0.0282, -0.0187, -0.0448,  0.0442, -0.0100,\n",
              "                      -0.0404, -0.0238,  0.0633,  0.0787,  0.0669, -0.0350,  0.0578, -0.0632,\n",
              "                       0.0859, -0.0465,  0.0332, -0.0209,  0.0194, -0.0619, -0.0275,  0.0028,\n",
              "                      -0.0544,  0.0998, -0.0055,  0.0448,  0.0526, -0.0336,  0.0446, -0.0424,\n",
              "                      -0.0088,  0.0098,  0.0372, -0.0226,  0.0257, -0.0140, -0.0072,  0.0324,\n",
              "                       0.0554,  0.0635,  0.0690,  0.0326,  0.0633,  0.0050,  0.0097,  0.0093,\n",
              "                      -0.0324, -0.0078,  0.0253, -0.0223,  0.0737,  0.0505,  0.0430,  0.0237,\n",
              "                      -0.0229, -0.0271, -0.0477,  0.0591,  0.0364,  0.0206,  0.0123,  0.0639,\n",
              "                      -0.0142, -0.0248, -0.0422, -0.0185,  0.0022,  0.0296,  0.0148,  0.0118,\n",
              "                       0.0271,  0.0071, -0.0270, -0.0121,  0.0734,  0.0493,  0.0532, -0.0222,\n",
              "                       0.0747, -0.0416, -0.0196,  0.0079, -0.0058,  0.0472, -0.0115,  0.0103,\n",
              "                       0.0241,  0.0518,  0.0318, -0.0042,  0.0321, -0.0221, -0.0070,  0.0265,\n",
              "                      -0.0110, -0.0105, -0.0192,  0.0476, -0.0216,  0.0029, -0.0157, -0.0464,\n",
              "                       0.0389, -0.0461, -0.0226,  0.0289, -0.0446,  0.0577, -0.0346,  0.0059,\n",
              "                       0.0160,  0.0499,  0.0390,  0.0439,  0.0856,  0.0634,  0.0159,  0.0705,\n",
              "                       0.0514, -0.0139, -0.0374,  0.0231,  0.0482,  0.0431,  0.0390, -0.0115,\n",
              "                      -0.0294, -0.0354,  0.0483,  0.0691,  0.0303, -0.0121, -0.0423, -0.0353,\n",
              "                       0.0542,  0.0730,  0.0410,  0.0638,  0.0063,  0.0554,  0.0936,  0.0328,\n",
              "                       0.0069, -0.0008,  0.0632,  0.0067, -0.0319,  0.0443,  0.0830,  0.0146,\n",
              "                      -0.0003, -0.0145,  0.0669, -0.0066, -0.0061,  0.0193, -0.0158, -0.0010,\n",
              "                       0.0295,  0.0390,  0.0604, -0.0337, -0.0390, -0.0144, -0.0168, -0.0037,\n",
              "                       0.0029,  0.0611,  0.0488,  0.0479, -0.0105, -0.0556, -0.0096, -0.0149,\n",
              "                       0.0062,  0.0175,  0.0128,  0.0404,  0.0627, -0.0086, -0.0076,  0.0363,\n",
              "                      -0.0107, -0.0192,  0.0040,  0.0256,  0.0522, -0.0264, -0.0182, -0.0250,\n",
              "                       0.0637,  0.0313,  0.0402, -0.0329, -0.0309,  0.0591,  0.0794,  0.0660,\n",
              "                       0.0789,  0.0349,  0.0444,  0.0275,  0.0512, -0.0165,  0.0265,  0.0443,\n",
              "                       0.0669,  0.0038,  0.0757,  0.0825,  0.0107, -0.0049, -0.0242,  0.0267,\n",
              "                       0.0590,  0.0253,  0.0602, -0.0413,  0.0442, -0.0027, -0.0546, -0.0003,\n",
              "                      -0.0323,  0.0267,  0.0788, -0.0236, -0.0104,  0.0003,  0.0373, -0.0226,\n",
              "                      -0.0180, -0.0143, -0.0414, -0.0435, -0.0458, -0.0311, -0.0156,  0.0395,\n",
              "                      -0.0229,  0.0297,  0.0569,  0.0478, -0.0083, -0.0144,  0.0339, -0.0790,\n",
              "                       0.0258,  0.0141,  0.0428, -0.0137,  0.0724,  0.0394,  0.0206,  0.0194,\n",
              "                      -0.0213, -0.0216, -0.0029,  0.0077, -0.0195, -0.0252,  0.0021,  0.0407,\n",
              "                       0.0809,  0.0288,  0.0700,  0.0354,  0.0448,  0.0235, -0.0268, -0.0015,\n",
              "                       0.0214,  0.0160, -0.0248,  0.0720,  0.0739,  0.0675,  0.0393,  0.0398,\n",
              "                       0.0209,  0.0194,  0.0256,  0.0755,  0.0546,  0.0551,  0.0210,  0.0438,\n",
              "                      -0.0052, -0.0384,  0.0563,  0.0609,  0.0185, -0.0186, -0.0333,  0.0039,\n",
              "                       0.0386,  0.0733, -0.0299,  0.0685,  0.0178,  0.0535, -0.0103, -0.0019,\n",
              "                       0.0437,  0.0509,  0.0432,  0.0526, -0.0317, -0.0138,  0.0164,  0.0484,\n",
              "                       0.0535, -0.0322,  0.0179, -0.0063,  0.0047, -0.0046, -0.0142, -0.0050,\n",
              "                      -0.0020, -0.0159, -0.0189, -0.0275,  0.0374, -0.0588,  0.0401,  0.0259,\n",
              "                       0.0009,  0.0577, -0.0231, -0.0295,  0.0146,  0.0151,  0.0584,  0.0317,\n",
              "                       0.0707,  0.0282,  0.0015, -0.0303,  0.0310, -0.0196, -0.0394, -0.0320,\n",
              "                      -0.0238, -0.0020,  0.0993,  0.0152, -0.0143,  0.0349,  0.0027,  0.0060,\n",
              "                      -0.0328,  0.0256,  0.0151, -0.0095, -0.0030,  0.0217,  0.0131, -0.0705,\n",
              "                       0.0157,  0.0463, -0.0195,  0.0083, -0.0415,  0.0284, -0.0294, -0.0020,\n",
              "                       0.0007,  0.0504,  0.0636,  0.0186,  0.0698,  0.0068,  0.0829, -0.0298,\n",
              "                       0.0429, -0.0423,  0.0411, -0.0524, -0.0050,  0.0129,  0.0458, -0.0381,\n",
              "                       0.0433, -0.0318, -0.0053,  0.0614,  0.0346, -0.0352, -0.0341,  0.1079,\n",
              "                       0.0538,  0.0950, -0.0295,  0.0890,  0.0607,  0.0399, -0.0889, -0.0290,\n",
              "                      -0.0114,  0.0122,  0.0402,  0.0580, -0.0527, -0.0395, -0.0577, -0.0183,\n",
              "                      -0.0455,  0.0341,  0.0098, -0.0317,  0.0479,  0.0179, -0.0218,  0.0442,\n",
              "                       0.0689, -0.0010,  0.0376, -0.0180,  0.0614, -0.0204, -0.0356, -0.0422,\n",
              "                      -0.0368,  0.0051,  0.0153,  0.0109,  0.0265,  0.0151,  0.0002,  0.0667,\n",
              "                       0.0200, -0.0378,  0.1018, -0.0355,  0.0038,  0.0271,  0.0425,  0.0555,\n",
              "                       0.0034, -0.0365, -0.0086, -0.0285,  0.0607,  0.0041,  0.0362, -0.0327,\n",
              "                      -0.0163,  0.0050,  0.0672,  0.0740, -0.0313,  0.0281,  0.0117,  0.0103],\n",
              "                     device='cuda:0')),\n",
              "             ('network.20.weight',\n",
              "              tensor([[-0.0338, -0.0942,  0.0211,  ..., -0.0072, -0.0141, -0.0552],\n",
              "                      [-0.0503, -0.0734, -0.0375,  ...,  0.0082,  0.0062, -0.0104],\n",
              "                      [-0.0345, -0.0002, -0.0236,  ..., -0.0471,  0.0026, -0.0463],\n",
              "                      ...,\n",
              "                      [ 0.0057, -0.0295,  0.0204,  ..., -0.0006, -0.0107, -0.0828],\n",
              "                      [ 0.0692, -0.0308, -0.0435,  ..., -0.0688,  0.0193, -0.0622],\n",
              "                      [ 0.0494,  0.0123, -0.0298,  ...,  0.0631,  0.0164,  0.0357]],\n",
              "                     device='cuda:0')),\n",
              "             ('network.20.bias',\n",
              "              tensor([ 0.0133,  0.0047,  0.0104,  0.0036, -0.0155,  0.0161, -0.0173, -0.0355,\n",
              "                       0.0285, -0.0454], device='cuda:0'))])"
            ]
          },
          "execution_count": 18,
          "metadata": {},
          "output_type": "execute_result"
        }
      ],
      "source": [
        "model.state_dict()"
      ]
    },
    {
      "cell_type": "code",
      "execution_count": null,
      "metadata": {
        "id": "kbMsH_E1IInU"
      },
      "outputs": [],
      "source": [
        "torch.save(model.state_dict(), \"model.pth\")"
      ]
    },
    {
      "cell_type": "markdown",
      "metadata": {
        "id": "4_-MiJUGIInU"
      },
      "source": [
        "## Загрузка модели\n",
        "\n"
      ]
    },
    {
      "cell_type": "code",
      "execution_count": null,
      "metadata": {
        "colab": {
          "base_uri": "https://localhost:8080/"
        },
        "id": "fm9RjfycIInU",
        "outputId": "453c81f5-4d44-4416-ffac-cb5ba2bde010"
      },
      "outputs": [
        {
          "data": {
            "text/plain": [
              "<All keys matched successfully>"
            ]
          },
          "execution_count": 20,
          "metadata": {},
          "output_type": "execute_result"
        }
      ],
      "source": [
        "model = NeuralNetwork().to(device)\n",
        "model.load_state_dict(torch.load(\"model.pth\"))"
      ]
    },
    {
      "cell_type": "markdown",
      "metadata": {
        "id": "_RApsOYxIInU"
      },
      "source": [
        "## Распознавание изображений из тестового набора данных\n",
        "\n"
      ]
    },
    {
      "cell_type": "code",
      "execution_count": null,
      "metadata": {
        "colab": {
          "base_uri": "https://localhost:8080/"
        },
        "id": "PwVjgEvEIInU",
        "outputId": "48669e07-bb12-4dde-bee1-08a8b55a6799"
      },
      "outputs": [
        {
          "data": {
            "text/plain": [
              "NeuralNetwork(\n",
              "  (network): Sequential(\n",
              "    (0): Conv2d(3, 32, kernel_size=(3, 3), stride=(1, 1), padding=(1, 1))\n",
              "    (1): ReLU()\n",
              "    (2): Conv2d(32, 64, kernel_size=(3, 3), stride=(1, 1), padding=(1, 1))\n",
              "    (3): ReLU()\n",
              "    (4): MaxPool2d(kernel_size=2, stride=2, padding=0, dilation=1, ceil_mode=False)\n",
              "    (5): Conv2d(64, 128, kernel_size=(3, 3), stride=(1, 1), padding=(1, 1))\n",
              "    (6): ReLU()\n",
              "    (7): Conv2d(128, 128, kernel_size=(3, 3), stride=(1, 1), padding=(1, 1))\n",
              "    (8): ReLU()\n",
              "    (9): MaxPool2d(kernel_size=2, stride=2, padding=0, dilation=1, ceil_mode=False)\n",
              "    (10): Conv2d(128, 256, kernel_size=(3, 3), stride=(1, 1), padding=(1, 1))\n",
              "    (11): ReLU()\n",
              "    (12): Conv2d(256, 256, kernel_size=(3, 3), stride=(1, 1), padding=(1, 1))\n",
              "    (13): ReLU()\n",
              "    (14): MaxPool2d(kernel_size=2, stride=2, padding=0, dilation=1, ceil_mode=False)\n",
              "    (15): Flatten(start_dim=1, end_dim=-1)\n",
              "    (16): Linear(in_features=4096, out_features=1024, bias=True)\n",
              "    (17): ReLU()\n",
              "    (18): Linear(in_features=1024, out_features=512, bias=True)\n",
              "    (19): ReLU()\n",
              "    (20): Linear(in_features=512, out_features=10, bias=True)\n",
              "  )\n",
              ")"
            ]
          },
          "execution_count": 21,
          "metadata": {},
          "output_type": "execute_result"
        }
      ],
      "source": [
        "model.eval()"
      ]
    },
    {
      "cell_type": "code",
      "execution_count": null,
      "metadata": {
        "id": "TQKiE7YT1F1M"
      },
      "outputs": [],
      "source": [
        "x, y = testset[5]"
      ]
    },
    {
      "cell_type": "code",
      "execution_count": null,
      "metadata": {
        "colab": {
          "base_uri": "https://localhost:8080/",
          "height": 447
        },
        "id": "3Gz_VP5PdZTK",
        "outputId": "ea146363-76b8-4819-d68b-22c4beb6d438"
      },
      "outputs": [
        {
          "data": {
            "text/plain": [
              "<matplotlib.image.AxesImage at 0x7c24143d54d0>"
            ]
          },
          "execution_count": 41,
          "metadata": {},
          "output_type": "execute_result"
        },
        {
          "data": {
            "image/png": "[encoded data removed]",
            "text/plain": [
              "<Figure size 640x480 with 1 Axes>"
            ]
          },
          "metadata": {},
          "output_type": "display_data"
        }
      ],
      "source": [
        "img = x / 2 + 0.5\n",
        "plt.imshow(img.permute(1, 2, 0))"
      ]
    },
    {
      "cell_type": "markdown",
      "metadata": {
        "id": "lMjKGz6j2mn1"
      },
      "source": [
        "Запускаем распознавание"
      ]
    },
    {
      "cell_type": "code",
      "execution_count": null,
      "metadata": {
        "id": "YROoxp3K2ggX"
      },
      "outputs": [],
      "source": [
        "with torch.no_grad():\n",
        "    x = x.unsqueeze(0).to(device)\n",
        "    pred = model(x)"
      ]
    },
    {
      "cell_type": "markdown",
      "metadata": {
        "id": "7PU1eT9K2qv-"
      },
      "source": [
        "Результаты распознавания"
      ]
    },
    {
      "cell_type": "code",
      "execution_count": null,
      "metadata": {
        "colab": {
          "base_uri": "https://localhost:8080/"
        },
        "id": "y-wOt4iK2k4V",
        "outputId": "ee86b0d9-dff0-4b51-8912-3e2a0c71c9b3"
      },
      "outputs": [
        {
          "data": {
            "text/plain": [
              "tensor([[ -7.6016, -10.4587,  -3.0140,   0.3230,  -2.7575,  -3.0054,  11.4020,\n",
              "          -7.5687,  -8.9567,  -5.0741]], device='cuda:0')"
            ]
          },
          "execution_count": 43,
          "metadata": {},
          "output_type": "execute_result"
        }
      ],
      "source": [
        "pred"
      ]
    },
    {
      "cell_type": "markdown",
      "metadata": {
        "id": "qslCwb0b4fQ3"
      },
      "source": [
        "Номер класса"
      ]
    },
    {
      "cell_type": "code",
      "execution_count": null,
      "metadata": {
        "colab": {
          "base_uri": "https://localhost:8080/"
        },
        "id": "cIQWWN9y4CZf",
        "outputId": "e5590765-a5d8-4c2f-8388-87ad970e759c"
      },
      "outputs": [
        {
          "data": {
            "text/plain": [
              "tensor(6, device='cuda:0')"
            ]
          },
          "execution_count": 44,
          "metadata": {},
          "output_type": "execute_result"
        }
      ],
      "source": [
        "pred[0].argmax(0)"
      ]
    },
    {
      "cell_type": "markdown",
      "metadata": {
        "id": "-2lsN5cu4j7u"
      },
      "source": [
        "Название класса"
      ]
    },
    {
      "cell_type": "code",
      "execution_count": null,
      "metadata": {
        "colab": {
          "base_uri": "https://localhost:8080/",
          "height": 35
        },
        "id": "aqtocMjy4lb2",
        "outputId": "1e91a6d3-5a48-42fa-a66e-95acb219307a"
      },
      "outputs": [
        {
          "data": {
            "application/vnd.google.colaboratory.intrinsic+json": {
              "type": "string"
            },
            "text/plain": [
              "'лягушка'"
            ]
          },
          "execution_count": 45,
          "metadata": {},
          "output_type": "execute_result"
        }
      ],
      "source": [
        "classes[pred[0].argmax(0)]"
      ]
    },
    {
      "cell_type": "markdown",
      "metadata": {
        "id": "YX-VyV7m4tgW"
      },
      "source": [
        "Правильный ответ"
      ]
    },
    {
      "cell_type": "code",
      "execution_count": null,
      "metadata": {
        "colab": {
          "base_uri": "https://localhost:8080/"
        },
        "id": "0MtDGCF94v_W",
        "outputId": "156d2aa7-b79b-462c-af20-cb3971482caa"
      },
      "outputs": [
        {
          "data": {
            "text/plain": [
              "6"
            ]
          },
          "execution_count": 46,
          "metadata": {},
          "output_type": "execute_result"
        }
      ],
      "source": [
        "y"
      ]
    },
    {
      "cell_type": "code",
      "execution_count": null,
      "metadata": {
        "colab": {
          "base_uri": "https://localhost:8080/",
          "height": 35
        },
        "id": "Ifyrc59O4zbW",
        "outputId": "a6a88ab0-8165-47c2-aee8-060d9f3e0e64"
      },
      "outputs": [
        {
          "data": {
            "application/vnd.google.colaboratory.intrinsic+json": {
              "type": "string"
            },
            "text/plain": [
              "'лягушка'"
            ]
          },
          "execution_count": 47,
          "metadata": {},
          "output_type": "execute_result"
        }
      ],
      "source": [
        "classes[y]"
      ]
    },
    {
      "cell_type": "markdown",
      "metadata": {
        "id": "KwoVCE9wjFFq"
      },
      "source": [
        "## Распознаем дополнительное изображение"
      ]
    },
    {
      "cell_type": "code",
      "execution_count": null,
      "metadata": {
        "id": "YseCEUZujOr5"
      },
      "outputs": [],
      "source": [
        "from PIL import Image"
      ]
    },
    {
      "cell_type": "code",
      "execution_count": null,
      "metadata": {
        "id": "joHTszJfjnux"
      },
      "outputs": [],
      "source": [
        "img = Image.open(\"plane.jpg\")"
      ]
    },
    {
      "cell_type": "code",
      "execution_count": null,
      "metadata": {
        "colab": {
          "base_uri": "https://localhost:8080/",
          "height": 413
        },
        "id": "J4T9t1Rmjp1Q",
        "outputId": "56e4b8e5-2dba-4857-9462-a94b682f2bc9"
      },
      "outputs": [
        {
          "data": {
            "text/plain": [
              "<matplotlib.image.AxesImage at 0x7c2404a42310>"
            ]
          },
          "execution_count": 62,
          "metadata": {},
          "output_type": "execute_result"
        },
        {
          "data": {
            "image/png": "[encoded data removed]",
            "text/plain": [
              "<Figure size 640x480 with 1 Axes>"
            ]
          },
          "metadata": {},
          "output_type": "display_data"
        }
      ],
      "source": [
        "plt.imshow(img)"
      ]
    },
    {
      "cell_type": "markdown",
      "metadata": {
        "id": "qVm54trkLDob"
      },
      "source": [
        "## Выполняем предварительную обработку изображения"
      ]
    },
    {
      "cell_type": "code",
      "execution_count": null,
      "metadata": {
        "id": "yQWTAcYKkkSO"
      },
      "outputs": [],
      "source": [
        "transform = transforms.Compose(\n",
        "    [transforms.Resize((32,32)),\n",
        "     transforms.ToTensor(),\n",
        "     transforms.Normalize((0.5, 0.5, 0.5), (0.5, 0.5, 0.5))])"
      ]
    },
    {
      "cell_type": "code",
      "execution_count": null,
      "metadata": {
        "id": "meazhyzuLG0i"
      },
      "outputs": [],
      "source": [
        "batch = transform(img).unsqueeze(0)"
      ]
    },
    {
      "cell_type": "code",
      "execution_count": null,
      "metadata": {
        "colab": {
          "base_uri": "https://localhost:8080/"
        },
        "id": "m3ONG4mvLPK5",
        "outputId": "557a8f54-8f5c-47d3-edd3-d0825b4658ec"
      },
      "outputs": [
        {
          "data": {
            "text/plain": [
              "tensor([[[[-0.6784, -0.6706, -0.6627,  ..., -0.6706, -0.6784, -0.6784],\n",
              "          [-0.6549, -0.6549, -0.6471,  ..., -0.6549, -0.6549, -0.6549],\n",
              "          [-0.6392, -0.6392, -0.6314,  ..., -0.6314, -0.6314, -0.6314],\n",
              "          ...,\n",
              "          [ 0.1765,  0.1137,  0.0745,  ...,  0.4196,  0.5373,  0.6706],\n",
              "          [ 0.2784,  0.1686,  0.0980,  ...,  0.3882,  0.3333,  0.2784],\n",
              "          [ 0.1059,  0.0431,  0.0431,  ...,  0.4039,  0.4667,  0.3647]],\n",
              "\n",
              "         [[-0.4745, -0.4667, -0.4667,  ..., -0.4902, -0.4980, -0.4980],\n",
              "          [-0.4431, -0.4353, -0.4431,  ..., -0.4588, -0.4588, -0.4667],\n",
              "          [-0.4039, -0.4039, -0.4039,  ..., -0.4196, -0.4196, -0.4275],\n",
              "          ...,\n",
              "          [ 0.3098,  0.2863,  0.2706,  ...,  0.4902,  0.5765,  0.6784],\n",
              "          [ 0.3569,  0.3020,  0.2706,  ...,  0.4745,  0.4353,  0.3961],\n",
              "          [ 0.2549,  0.2235,  0.2314,  ...,  0.4667,  0.5216,  0.4667]],\n",
              "\n",
              "         [[-0.0824, -0.0745, -0.0824,  ..., -0.1137, -0.1137, -0.1137],\n",
              "          [-0.0275, -0.0275, -0.0431,  ..., -0.0745, -0.0745, -0.0824],\n",
              "          [ 0.0196,  0.0196,  0.0118,  ..., -0.0196, -0.0196, -0.0196],\n",
              "          ...,\n",
              "          [ 0.4667,  0.4745,  0.4745,  ...,  0.5608,  0.6000,  0.6627],\n",
              "          [ 0.4667,  0.4667,  0.4667,  ...,  0.5529,  0.5373,  0.5294],\n",
              "          [ 0.4275,  0.4353,  0.4431,  ...,  0.5373,  0.5686,  0.5686]]]])"
            ]
          },
          "execution_count": 65,
          "metadata": {},
          "output_type": "execute_result"
        }
      ],
      "source": [
        "batch"
      ]
    },
    {
      "cell_type": "markdown",
      "metadata": {
        "id": "jQOmh5nlLmhw"
      },
      "source": [
        "## Выполняем классификацию изображения"
      ]
    },
    {
      "cell_type": "markdown",
      "metadata": {
        "id": "p7r79gY-L7MA"
      },
      "source": [
        "Выполняем распознавание"
      ]
    },
    {
      "cell_type": "code",
      "execution_count": null,
      "metadata": {
        "id": "M8mV8lCWoPRY"
      },
      "outputs": [],
      "source": [
        "batch = batch.to(device)"
      ]
    },
    {
      "cell_type": "code",
      "execution_count": null,
      "metadata": {
        "id": "PVnn86e9L8xw"
      },
      "outputs": [],
      "source": [
        "prediction = model(batch).squeeze(0)"
      ]
    },
    {
      "cell_type": "markdown",
      "metadata": {
        "id": "acKmnTZhML-H"
      },
      "source": [
        "Результаты распознавания"
      ]
    },
    {
      "cell_type": "code",
      "execution_count": null,
      "metadata": {
        "colab": {
          "base_uri": "https://localhost:8080/"
        },
        "id": "r9yg1fwiMG3G",
        "outputId": "85cf10f4-f718-4b15-f45a-1574942bce63"
      },
      "outputs": [
        {
          "data": {
            "text/plain": [
              "tensor([ 7.7684, -7.8778,  3.2439, -2.7038, -0.9086, -5.3302, -3.4209, -6.0356,\n",
              "        -2.3007, -6.8902], device='cuda:0', grad_fn=<SqueezeBackward1>)"
            ]
          },
          "execution_count": 68,
          "metadata": {},
          "output_type": "execute_result"
        }
      ],
      "source": [
        "prediction"
      ]
    },
    {
      "cell_type": "markdown",
      "metadata": {
        "id": "E6sGcoO_MT7m"
      },
      "source": [
        "Выбираем класс с максимальной вероятностью"
      ]
    },
    {
      "cell_type": "code",
      "execution_count": null,
      "metadata": {
        "id": "jnZkmT8nMaPu"
      },
      "outputs": [],
      "source": [
        "class_id = prediction.argmax().item()"
      ]
    },
    {
      "cell_type": "code",
      "execution_count": null,
      "metadata": {
        "colab": {
          "base_uri": "https://localhost:8080/"
        },
        "id": "-pYHL_bMMbhf",
        "outputId": "92375a98-373e-48d5-9d5f-6bda5157718e"
      },
      "outputs": [
        {
          "data": {
            "text/plain": [
              "0"
            ]
          },
          "execution_count": 70,
          "metadata": {},
          "output_type": "execute_result"
        }
      ],
      "source": [
        "class_id"
      ]
    },
    {
      "cell_type": "markdown",
      "metadata": {
        "id": "L8nDI74VoiKh"
      },
      "source": [
        "Название класса"
      ]
    },
    {
      "cell_type": "code",
      "execution_count": null,
      "metadata": {
        "colab": {
          "base_uri": "https://localhost:8080/",
          "height": 35
        },
        "id": "JMpdrBRCojt4",
        "outputId": "84c240f2-e620-4c88-84ea-62bdc7882f10"
      },
      "outputs": [
        {
          "data": {
            "application/vnd.google.colaboratory.intrinsic+json": {
              "type": "string"
            },
            "text/plain": [
              "'самолет'"
            ]
          },
          "execution_count": 71,
          "metadata": {},
          "output_type": "execute_result"
        }
      ],
      "source": [
        "classes[class_id]"
      ]
    }
  ],
  "metadata": {
    "accelerator": "GPU",
    "colab": {
      "gpuType": "T4",
      "provenance": []
    },
    "kernelspec": {
      "display_name": ".venv",
      "language": "python",
      "name": "python3"
    },
    "language_info": {
      "codemirror_mode": {
        "name": "ipython",
        "version": 3
      },
      "file_extension": ".py",
      "mimetype": "text/x-python",
      "name": "python",
      "nbconvert_exporter": "python",
      "pygments_lexer": "ipython3",
      "version": "3.13.2"
    }
  },
  "nbformat": 4,
  "nbformat_minor": 0
}
